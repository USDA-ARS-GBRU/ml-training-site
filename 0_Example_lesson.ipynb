{
 "cells": [
  {
   "cell_type": "markdown",
   "metadata": {},
   "source": [
    "## Instructions\n",
    "\n",
    "Instructions for writing lessons for UF/USDA Machine learning training.\n",
    "\n",
    "1. Number and name your lesson according to its order in the schedule.\n",
    "\n",
    "2. The course will employ active coding interspersed with excersizes for the teaching.  Please  write your active coding material in an iPython notebook. If you intend to type code in to denonstrate please create two versions: one with all the code in the `/assets/nb_complete` folder and one in the  `/assets/nb_live` folder.\n",
    "\n",
    "3. In the notebook provide enough text that a reader after the course can use your notebook. If you wish to use less text in the live version you may do so.\n",
    "\n",
    "4. any static pictures can be palced in the `/assets/images` folder prlease prefix the images with a unique number prefix_ coresponding to the lesson.\n",
    "\n",
    "5. If you are using or introducing a dataset please give it a unique name and place it in the `assets/datasets` folder. "
   ]
  },
  {
   "cell_type": "code",
   "execution_count": null,
   "metadata": {
    "collapsed": true
   },
   "outputs": [],
   "source": []
  }
 ],
 "metadata": {
  "kernelspec": {
   "display_name": "vicaker",
   "language": "python",
   "name": "vicaker"
  },
  "language_info": {
   "codemirror_mode": {
    "name": "ipython",
    "version": 3
   },
   "file_extension": ".py",
   "mimetype": "text/x-python",
   "name": "python",
   "nbconvert_exporter": "python",
   "pygments_lexer": "ipython3",
   "version": "3.6.5"
  }
 },
 "nbformat": 4,
 "nbformat_minor": 2
}
