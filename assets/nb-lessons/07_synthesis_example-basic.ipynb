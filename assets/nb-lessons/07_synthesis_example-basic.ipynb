{
 "cells": [
  {
   "cell_type": "markdown",
   "metadata": {},
   "source": [
    "# Synthesis example: Classifying Viruses and Bacteria\n",
    "\n",
    "Author: Adam Rivers"
   ]
  },
  {
   "cell_type": "markdown",
   "metadata": {
    "collapsed": true
   },
   "source": [
    "## Classifying sequences by their tetranucleotide frequencies\n",
    "\n",
    "In this example we are going to classify Viral and Bacterial nucleotide sequences  using their tetranucleotide frequencies or 4-mers.\n",
    "\n",
    "Kmers are counted by moving a sliding window of length (k=4) along a DNA sequence:\n",
    "\n",
    "```\n",
    "TCGGATTTTTAA\n",
    "TCGA\n",
    " CGAT\n",
    "  GATT\n",
    "   ATTT\n",
    "    TTTT\n",
    "     TTTT\n",
    "      TTTA\n",
    "       TTAA\n",
    "```\n",
    "\n",
    "kmer | count | frequency\n",
    "------|----- | --------\n",
    "TCGA | 1 | 0.125\n",
    "CGAT | 1 | 0.125\n",
    "GATT | 1 | 0.125\n",
    "ATTT | 1 | 0.125\n",
    "TTTT | 2 | 0.250\n",
    "TTTA | 1 | 0.125\n",
    "TTAA | 1 | 0.125\n",
    "\n",
    "## Selecting training data\n",
    "\n",
    "To build a good classifier it is essential to sample training from a population representative of the population to be classified. This is a big challenge when working with sequencing data because the genomes that humans choose to sequence are not representative of the organisms in the environment.  We spend lots of time sequencing the organisms that make us sick.\n",
    "\n",
    "This data has been carefully selected to take this into account.  We have selected about the same number of samples from every different family of bacteria and virus, then we extracted 5000 nucleotide long fragments from each genome.\n",
    "\n",
    "## Information bleed over \n",
    "\n",
    "We know that we never want to evaluate our model using the training data. We always reserve a separate set of test data for evaluation. What happens though if some test data is almost exactly the same as our training data?  Let's say we have a Salmonella genome of the same type  in the test and the train sets? In this case we may artificially inflate the performance of our classifier. \n",
    "\n",
    "To avoid this issue in this example we have made sure that if an example is in the test set no organisms from that taxonomic family  are present in the test set. This gives us a realistic estimate of how well the classifier will perform at classifying a virus at the family level.\n",
    "\n",
    "\n",
    "This is a common mistake in ML methods. Several papers have been published on this exact application that split data randomly or split test and training data by the date they were added to the RefSeq database.\n",
    "\n",
    "\n",
    "\n"
   ]
  },
  {
   "cell_type": "markdown",
   "metadata": {},
   "source": [
    "\n",
    "\n",
    "## Logistic regression model\n",
    "We will use these counts to classify the reads as viral or bacterial using a **_Logistic Regression_**. model (actually a type of classifier not a regressor).\n",
    "\n",
    "\n",
    "First lets load in our training data.\n"
   ]
  },
  {
   "cell_type": "code",
   "execution_count": 30,
   "metadata": {},
   "outputs": [
    {
     "data": {
      "text/html": [
       "<div>\n",
       "<style scoped>\n",
       "    .dataframe tbody tr th:only-of-type {\n",
       "        vertical-align: middle;\n",
       "    }\n",
       "\n",
       "    .dataframe tbody tr th {\n",
       "        vertical-align: top;\n",
       "    }\n",
       "\n",
       "    .dataframe thead th {\n",
       "        text-align: right;\n",
       "    }\n",
       "</style>\n",
       "<table border=\"1\" class=\"dataframe\">\n",
       "  <thead>\n",
       "    <tr style=\"text-align: right;\">\n",
       "      <th></th>\n",
       "      <th>1</th>\n",
       "      <th>2</th>\n",
       "      <th>3</th>\n",
       "      <th>4</th>\n",
       "      <th>5</th>\n",
       "      <th>6</th>\n",
       "      <th>7</th>\n",
       "      <th>8</th>\n",
       "      <th>9</th>\n",
       "      <th>10</th>\n",
       "      <th>...</th>\n",
       "      <th>247</th>\n",
       "      <th>248</th>\n",
       "      <th>249</th>\n",
       "      <th>250</th>\n",
       "      <th>251</th>\n",
       "      <th>252</th>\n",
       "      <th>253</th>\n",
       "      <th>254</th>\n",
       "      <th>255</th>\n",
       "      <th>256</th>\n",
       "    </tr>\n",
       "  </thead>\n",
       "  <tbody>\n",
       "    <tr>\n",
       "      <th>19690</th>\n",
       "      <td>0.003922</td>\n",
       "      <td>0.002876</td>\n",
       "      <td>0.004314</td>\n",
       "      <td>0.001700</td>\n",
       "      <td>0.001307</td>\n",
       "      <td>0.004445</td>\n",
       "      <td>0.005229</td>\n",
       "      <td>0.001961</td>\n",
       "      <td>0.003791</td>\n",
       "      <td>0.004184</td>\n",
       "      <td>...</td>\n",
       "      <td>0.008106</td>\n",
       "      <td>0.002092</td>\n",
       "      <td>0.002484</td>\n",
       "      <td>0.005622</td>\n",
       "      <td>0.004053</td>\n",
       "      <td>0.001307</td>\n",
       "      <td>0.000523</td>\n",
       "      <td>0.003661</td>\n",
       "      <td>0.004706</td>\n",
       "      <td>0.003922</td>\n",
       "    </tr>\n",
       "    <tr>\n",
       "      <th>50879</th>\n",
       "      <td>0.030640</td>\n",
       "      <td>0.008533</td>\n",
       "      <td>0.011894</td>\n",
       "      <td>0.022495</td>\n",
       "      <td>0.007111</td>\n",
       "      <td>0.004783</td>\n",
       "      <td>0.002456</td>\n",
       "      <td>0.009825</td>\n",
       "      <td>0.010601</td>\n",
       "      <td>0.001810</td>\n",
       "      <td>...</td>\n",
       "      <td>0.006593</td>\n",
       "      <td>0.009308</td>\n",
       "      <td>0.008016</td>\n",
       "      <td>0.002586</td>\n",
       "      <td>0.008016</td>\n",
       "      <td>0.009179</td>\n",
       "      <td>0.014221</td>\n",
       "      <td>0.015126</td>\n",
       "      <td>0.013575</td>\n",
       "      <td>0.030640</td>\n",
       "    </tr>\n",
       "    <tr>\n",
       "      <th>12437</th>\n",
       "      <td>0.008121</td>\n",
       "      <td>0.005285</td>\n",
       "      <td>0.005800</td>\n",
       "      <td>0.005543</td>\n",
       "      <td>0.004383</td>\n",
       "      <td>0.004898</td>\n",
       "      <td>0.005543</td>\n",
       "      <td>0.003609</td>\n",
       "      <td>0.006058</td>\n",
       "      <td>0.005156</td>\n",
       "      <td>...</td>\n",
       "      <td>0.005156</td>\n",
       "      <td>0.006316</td>\n",
       "      <td>0.005543</td>\n",
       "      <td>0.005672</td>\n",
       "      <td>0.007476</td>\n",
       "      <td>0.003867</td>\n",
       "      <td>0.003996</td>\n",
       "      <td>0.006316</td>\n",
       "      <td>0.006316</td>\n",
       "      <td>0.008121</td>\n",
       "    </tr>\n",
       "    <tr>\n",
       "      <th>66450</th>\n",
       "      <td>0.014319</td>\n",
       "      <td>0.009288</td>\n",
       "      <td>0.007611</td>\n",
       "      <td>0.013287</td>\n",
       "      <td>0.009417</td>\n",
       "      <td>0.003483</td>\n",
       "      <td>0.002967</td>\n",
       "      <td>0.007998</td>\n",
       "      <td>0.006579</td>\n",
       "      <td>0.003870</td>\n",
       "      <td>...</td>\n",
       "      <td>0.002838</td>\n",
       "      <td>0.009417</td>\n",
       "      <td>0.008385</td>\n",
       "      <td>0.004386</td>\n",
       "      <td>0.006192</td>\n",
       "      <td>0.008385</td>\n",
       "      <td>0.010062</td>\n",
       "      <td>0.011481</td>\n",
       "      <td>0.008514</td>\n",
       "      <td>0.014319</td>\n",
       "    </tr>\n",
       "    <tr>\n",
       "      <th>7329</th>\n",
       "      <td>0.004758</td>\n",
       "      <td>0.005144</td>\n",
       "      <td>0.006173</td>\n",
       "      <td>0.002958</td>\n",
       "      <td>0.005530</td>\n",
       "      <td>0.004501</td>\n",
       "      <td>0.003344</td>\n",
       "      <td>0.006173</td>\n",
       "      <td>0.007845</td>\n",
       "      <td>0.003601</td>\n",
       "      <td>...</td>\n",
       "      <td>0.006559</td>\n",
       "      <td>0.006559</td>\n",
       "      <td>0.005787</td>\n",
       "      <td>0.004501</td>\n",
       "      <td>0.004630</td>\n",
       "      <td>0.006173</td>\n",
       "      <td>0.001672</td>\n",
       "      <td>0.007202</td>\n",
       "      <td>0.005401</td>\n",
       "      <td>0.004758</td>\n",
       "    </tr>\n",
       "  </tbody>\n",
       "</table>\n",
       "<p>5 rows × 256 columns</p>\n",
       "</div>"
      ],
      "text/plain": [
       "            1         2         3         4         5         6         7    \\\n",
       "19690  0.003922  0.002876  0.004314  0.001700  0.001307  0.004445  0.005229   \n",
       "50879  0.030640  0.008533  0.011894  0.022495  0.007111  0.004783  0.002456   \n",
       "12437  0.008121  0.005285  0.005800  0.005543  0.004383  0.004898  0.005543   \n",
       "66450  0.014319  0.009288  0.007611  0.013287  0.009417  0.003483  0.002967   \n",
       "7329   0.004758  0.005144  0.006173  0.002958  0.005530  0.004501  0.003344   \n",
       "\n",
       "            8         9         10   ...       247       248       249  \\\n",
       "19690  0.001961  0.003791  0.004184  ...  0.008106  0.002092  0.002484   \n",
       "50879  0.009825  0.010601  0.001810  ...  0.006593  0.009308  0.008016   \n",
       "12437  0.003609  0.006058  0.005156  ...  0.005156  0.006316  0.005543   \n",
       "66450  0.007998  0.006579  0.003870  ...  0.002838  0.009417  0.008385   \n",
       "7329   0.006173  0.007845  0.003601  ...  0.006559  0.006559  0.005787   \n",
       "\n",
       "            250       251       252       253       254       255       256  \n",
       "19690  0.005622  0.004053  0.001307  0.000523  0.003661  0.004706  0.003922  \n",
       "50879  0.002586  0.008016  0.009179  0.014221  0.015126  0.013575  0.030640  \n",
       "12437  0.005672  0.007476  0.003867  0.003996  0.006316  0.006316  0.008121  \n",
       "66450  0.004386  0.006192  0.008385  0.010062  0.011481  0.008514  0.014319  \n",
       "7329   0.004501  0.004630  0.006173  0.001672  0.007202  0.005401  0.004758  \n",
       "\n",
       "[5 rows x 256 columns]"
      ]
     },
     "execution_count": 30,
     "metadata": {},
     "output_type": "execute_result"
    }
   ],
   "source": [
    "# Import pandas\n",
    "import pandas as pd\n",
    "import sys\n",
    "\n",
    "path_tdb = \"../nb-datasets/kmer/train/2.simple.csv.gz\"\n",
    "path_tdv = \"../nb-datasets/kmer/train/10239.simple.csv.gz\"\n",
    "    \n",
    "# Load in the raw training data for bacteria using pd.read_csv\n",
    "train_data_b = pd.read_csv(path_tdb, header=None)\n",
    "\n",
    "# add a label to indicate bacteria = 0 \n",
    "train_data_b['label'] = 0\n",
    "\n",
    "# Load in the raw Training data for viruses\n",
    "train_data_v =  pd.read_csv(path_tdv, header=None)\n",
    "\n",
    "# add a label to indicate viruses = 1 \n",
    "train_data_v['label'] =  1\n",
    "\n",
    "# combine the training data together with pd.concat([])\n",
    "\n",
    "train_data = pd.concat([train_data_b, train_data_v])\n",
    "\n",
    "# Shuffle your training data with sample(frac=1). This is really important for methods that train in batches\n",
    "train_data = train_data.sample(frac=1)\n",
    "# Now we will divide all samples by the sum. This is how short kmer frequencies  are typically reported.\n",
    "\n",
    "#select the columns with features\n",
    "train_data_x = train_data.iloc[:,1:257]\n",
    "\n",
    "# divide train_data_x by train data.sum(axis=1)\n",
    "train_data_x_scaled = train_data_x.div(train_data_x.sum(axis=1), axis=0)\n",
    "\n",
    "#view the data\n",
    "train_data_x_scaled.head()"
   ]
  },
  {
   "cell_type": "code",
   "execution_count": 31,
   "metadata": {},
   "outputs": [
    {
     "data": {
      "text/plain": [
       "(179480, 256)"
      ]
     },
     "execution_count": 31,
     "metadata": {},
     "output_type": "execute_result"
    }
   ],
   "source": [
    "train_data_x_scaled.shape"
   ]
  },
  {
   "cell_type": "markdown",
   "metadata": {},
   "source": [
    "Take a look at the univariate distributions of some of the features"
   ]
  },
  {
   "cell_type": "code",
   "execution_count": 32,
   "metadata": {},
   "outputs": [
    {
     "data": {
      "text/plain": [
       "<matplotlib.axes._subplots.AxesSubplot at 0x111264160>"
      ]
     },
     "execution_count": 32,
     "metadata": {},
     "output_type": "execute_result"
    },
    {
     "data": {
      "image/png": "[encoded data removed]",
      "text/plain": [
       "<Figure size 432x288 with 1 Axes>"
      ]
     },
     "metadata": {},
     "output_type": "display_data"
    }
   ],
   "source": [
    "# Import plotting library Seaborn\n",
    "import seaborn as sns\n",
    "sns.set_style('darkgrid')\n",
    "\n",
    "# plot some features (change the \"3\" to see more) with train_data_scaled.iloc[:,X]\n",
    "sns.distplot(train_data_x_scaled.iloc[:,3])"
   ]
  },
  {
   "cell_type": "markdown",
   "metadata": {},
   "source": [
    "That's not very normal.  Let's see how our classifier performs. "
   ]
  },
  {
   "cell_type": "code",
   "execution_count": 43,
   "metadata": {},
   "outputs": [
    {
     "data": {
      "text/plain": [
       "(23655, 256)"
      ]
     },
     "execution_count": 43,
     "metadata": {},
     "output_type": "execute_result"
    }
   ],
   "source": [
    "# Load the testing data\n",
    "\n",
    "# Load in raw test data for bacteria\n",
    "\n",
    "test_data_b = pd.read_csv(\"../nb-datasets/kmer/test/2.simple.csv.gz\", header=None)\n",
    "\n",
    "# add a label to indicate bacteria = 0 \n",
    "test_data_b['label'] = 0\n",
    "\n",
    "# Load in raw test data for viruses\n",
    "test_data_v = pd.read_csv(\"../nb-datasets/kmer/test/10239.simple.csv.gz\", header=None)\n",
    "\n",
    "# add a label to indicate viruses = 1 \n",
    "test_data_v['label'] = 1\n",
    "\n",
    "# combine the test data together with pd.concat([])\n",
    "test_data = pd.concat([test_data_b ,test_data_v])\n",
    "# Shuffle your test data. This only matters if you use a portion of your test data to evaluate performance.\n",
    "test_data = test_data.sample(frac=1)\n",
    "\n",
    "# Now we will divide all samples by the sum. this is how short kmer frequencies are typically reported.\n",
    "test_data_x = test_data.iloc[:,1:257]\n",
    "test_data_x_scaled = test_data_x.div(test_data_x.sum(axis=1), axis=0)\n",
    "\n",
    "#view the data\n",
    "test_data_x.shape"
   ]
  },
  {
   "cell_type": "markdown",
   "metadata": {},
   "source": [
    "### Run the model\n",
    "\n",
    "We will fit a logistic regression model with L1 regularization"
   ]
  },
  {
   "cell_type": "code",
   "execution_count": 35,
   "metadata": {},
   "outputs": [
    {
     "name": "stdout",
     "output_type": "stream",
     "text": [
      "Accuracy :\n"
     ]
    },
    {
     "data": {
      "text/plain": [
       "0.9191291481716339"
      ]
     },
     "execution_count": 35,
     "metadata": {},
     "output_type": "execute_result"
    }
   ],
   "source": [
    "from sklearn import linear_model\n",
    "\n",
    "# convert our data into Numpy arrays \n",
    "X = train_data_x_scaled.to_numpy()\n",
    "y = train_data[\"label\"].to_numpy()\n",
    "\n",
    "# Define the Logistic model parameters\n",
    "clf = linear_model.LogisticRegression(max_iter=1000, random_state=0, solver='lbfgs', C=1)\n",
    "\n",
    "# Fit the model (here's where the learning learning is happening) \n",
    "clf.fit(X,y)\n",
    "\n",
    "# convert our test data into Numpy arrays\n",
    "testX = test_data_x_scaled.to_numpy()\n",
    "testy = test_data[\"label\"].to_numpy()\n",
    "\n",
    "# Estimate the accuracy\n",
    "print(\"Accuracy :\")\n",
    "clf.score(testX, testy)"
   ]
  },
  {
   "cell_type": "markdown",
   "metadata": {},
   "source": [
    "That's okay accuracy, Remember though that our data is not a 50% split between viruses and bacteria. The test data has 16,175 bacteria and 7,480 viruses. If we made a classifier that just assigned everything the label of bacteria it would be have an accuracy of \n",
    "\n",
    "$$\\frac{16175}{16175 + 7480} = 0.683$$\n",
    "\n",
    "This is actually a common issue with using accuracy as a metric on imbalanced data. We will discuss better metrics soon.\n"
   ]
  },
  {
   "cell_type": "markdown",
   "metadata": {},
   "source": [
    "## Transforming data \n",
    "\n",
    "The next step is to try to normalize our data in a more sophisticated manner.\n",
    "\n",
    "First think about 4-mers themselves. A few key insights are:\n",
    "\n",
    "1. The total number of kmers does not matter since that just equals the sequence length (except in the accuracy of our frequency measurement).\n",
    "2. The number of every kmer is affected by the number of every other kmer since kmers are mutually exclusive\n",
    "\n",
    "These attributes describe **_compositional count data_**. Compositional data has an established set of transformations that can be used to move it into the real number space expected by most ML models.\n",
    "\n",
    "The general steps are:\n",
    "\n",
    "1. Close the dataset (make is sum to a constant)\n",
    "2. Estimate the value of any 0's in count data\n",
    "4. Take the Isometric log ratio with respect to an orthonormal basis\n",
    "\n"
   ]
  },
  {
   "cell_type": "code",
   "execution_count": 4,
   "metadata": {},
   "outputs": [
    {
     "ename": "NameError",
     "evalue": "name 'X' is not defined",
     "output_type": "error",
     "traceback": [
      "\u001b[0;31m---------------------------------------------------------------------------\u001b[0m",
      "\u001b[0;31mNameError\u001b[0m                                 Traceback (most recent call last)",
      "\u001b[0;32m<ipython-input-4-5fc8819b5e19>\u001b[0m in \u001b[0;36m<module>\u001b[0;34m\u001b[0m\n\u001b[1;32m      2\u001b[0m \u001b[0;34m\u001b[0m\u001b[0m\n\u001b[1;32m      3\u001b[0m \u001b[0;31m# First repalce any 0's with small values\u001b[0m\u001b[0;34m\u001b[0m\u001b[0;34m\u001b[0m\u001b[0;34m\u001b[0m\u001b[0m\n\u001b[0;32m----> 4\u001b[0;31m \u001b[0mxmrp\u001b[0m \u001b[0;34m=\u001b[0m \u001b[0mcomp\u001b[0m\u001b[0;34m.\u001b[0m\u001b[0mmultiplicative_replacement\u001b[0m\u001b[0;34m(\u001b[0m\u001b[0mX\u001b[0m\u001b[0;34m)\u001b[0m\u001b[0;34m\u001b[0m\u001b[0;34m\u001b[0m\u001b[0m\n\u001b[0m\u001b[1;32m      5\u001b[0m \u001b[0mxclr\u001b[0m \u001b[0;34m=\u001b[0m \u001b[0mcomp\u001b[0m\u001b[0;34m.\u001b[0m\u001b[0mclr\u001b[0m\u001b[0;34m(\u001b[0m\u001b[0mxmrp\u001b[0m\u001b[0;34m)\u001b[0m\u001b[0;34m\u001b[0m\u001b[0;34m\u001b[0m\u001b[0m\n",
      "\u001b[0;31mNameError\u001b[0m: name 'X' is not defined"
     ]
    }
   ],
   "source": [
    "import comp\n",
    "\n",
    "# First repalce any 0's with small values\n",
    "xmrp = comp.multiplicative_replacement(X)\n",
    "xclr = comp.clr(xmrp)"
   ]
  },
  {
   "cell_type": "code",
   "execution_count": 36,
   "metadata": {},
   "outputs": [],
   "source": [
    "# import a Scikit Bio library for compositional data transformations\n",
    "\n",
    "import skbio.stats.composition\n",
    "\n",
    "# Close the dataset train_data_x\n",
    "train_clo = skbio.stats.composition.closure(X)\n",
    "\n",
    "# repalce Zeros using multiplcative replacement\n",
    "train_z = skbio.stats.composition.multiplicative_replacement(train_clo)\n",
    "\n",
    "#  Perform an Isometric logratio transformation\n",
    "train_ilr = skbio.stats.composition.ilr(train_z)"
   ]
  },
  {
   "cell_type": "markdown",
   "metadata": {},
   "source": [
    "Take a look at the univariate distributions of some of the features"
   ]
  },
  {
   "cell_type": "code",
   "execution_count": 37,
   "metadata": {},
   "outputs": [
    {
     "data": {
      "text/plain": [
       "<matplotlib.axes._subplots.AxesSubplot at 0x114664908>"
      ]
     },
     "execution_count": 37,
     "metadata": {},
     "output_type": "execute_result"
    },
    {
     "data": {
      "image/png": "[encoded data removed]",
      "text/plain": [
       "<Figure size 432x288 with 1 Axes>"
      ]
     },
     "metadata": {},
     "output_type": "display_data"
    }
   ],
   "source": [
    "import seaborn as sns\n",
    "sns.set_style('darkgrid')\n",
    "sns.distplot(train_ilr[:,3])"
   ]
  },
  {
   "cell_type": "code",
   "execution_count": 44,
   "metadata": {},
   "outputs": [
    {
     "data": {
      "text/plain": [
       "(23655, 255)"
      ]
     },
     "execution_count": 44,
     "metadata": {},
     "output_type": "execute_result"
    }
   ],
   "source": [
    "# Transform the test data\n",
    "\n",
    "test_clo = skbio.stats.composition.closure(test_data_x)\n",
    "test_z = (test_cskbio.stats.composition.multiplicative_replacementlo)\n",
    "test_ilr = skbio.stats.composition.ilr(test_z)\n",
    "test_ilr.shape\n"
   ]
  },
  {
   "cell_type": "markdown",
   "metadata": {},
   "source": [
    "Now evaluate the model with the transformed data\n"
   ]
  },
  {
   "cell_type": "code",
   "execution_count": 45,
   "metadata": {},
   "outputs": [
    {
     "name": "stdout",
     "output_type": "stream",
     "text": [
      "Accuracy :\n"
     ]
    },
    {
     "data": {
      "text/plain": [
       "0.9330796871697316"
      ]
     },
     "execution_count": 45,
     "metadata": {},
     "output_type": "execute_result"
    }
   ],
   "source": [
    "from sklearn import linear_model\n",
    "\n",
    "Xc = train_ilr\n",
    "yc = train_data[\"label\"].to_numpy()\n",
    "\n",
    "\n",
    "clf = linear_model.LogisticRegression(max_iter= 1000, random_state=0, solver='lbfgs', C=1)\n",
    "clf.fit(Xc, yc)\n",
    "\n",
    "testXc = test_ilr\n",
    "testyc = test_data[\"label\"].to_numpy()\n",
    "\n",
    "# Estimate the accuracy\n",
    "print(\"Accuracy :\")\n",
    "clf.score(testXc, testyc) \n"
   ]
  },
  {
   "cell_type": "markdown",
   "metadata": {},
   "source": [
    "93% Accuracy, we've improed our classifier by transforming the data\n",
    "## Parameter tuning \n",
    "\n",
    "LEts look at the options you can specify when setting up a [logistic regression model in Scikit](https://scikit-learn.org/stable/modules/generated/sklearn.linear_model.LogisticRegression.html)\n"
   ]
  },
  {
   "cell_type": "markdown",
   "metadata": {},
   "source": [
    "```{python}\n",
    "class sklearn.linear_model.LogisticRegression(penalty=’l2’,\n",
    "                                              dual=False,\n",
    "                                              tol=0.0001, \n",
    "                                              C=1.0, \n",
    "                                              fit_intercept=True, \n",
    "                                              intercept_scaling=1, \n",
    "                                              class_weight=None, \n",
    "                                              random_state=None, \n",
    "                                              solver=’warn’, \n",
    "                                              max_iter=100, \n",
    "                                              multi_class=’warn’, \n",
    "                                              verbose=0, \n",
    "                                              warm_start=False, \n",
    "                                              n_jobs=None, \n",
    "                                              l1_ratio=None)\n",
    "```"
   ]
  },
  {
   "cell_type": "markdown",
   "metadata": {},
   "source": [
    "A couple of these are very important:\n",
    "    \n",
    "**`penalty`**: this controls for overfitting by **_regularization_**\n",
    "\n",
    "There are two basic types of regularization l1 and l2.\n",
    "\n",
    "* l1 (Lasso) regularization: drops some features out of the model\n",
    "* l2 (Ridge) regularization: reduces the importance of some features with a weighting term\n",
    "\n",
    "The parameter `C` controls how strongly the data should be regularized\n",
    "\n",
    "* Smaller values of `c` mean stronger regularization.\n",
    "\n",
    "We can find optimal settings for our dataset by trying multiple settings of parameters using the convenient function `LogisticRegressionCV`.  By setting `Cs=10` we specifying that the solver try 10 different values of C between 1e-4 and 1e4.\n",
    "\n"
   ]
  },
  {
   "cell_type": "code",
   "execution_count": 11,
   "metadata": {},
   "outputs": [
    {
     "name": "stdout",
     "output_type": "stream",
     "text": [
      "Accuracy :\n"
     ]
    }
   ],
   "source": [
    "\n",
    "# Cs=[.01,.03,0.1,0.3,1, 3]\n",
    "\n",
    "\n",
    "# Estimate the accuracy\n",
    "print(\"Accuracy :\")\n"
   ]
  },
  {
   "cell_type": "markdown",
   "metadata": {},
   "source": [
    "In this case the parameter sweep did not improve the classifier the prediction.\n"
   ]
  },
  {
   "cell_type": "markdown",
   "metadata": {},
   "source": [
    "# Classifier evaluation\n",
    "\n",
    "Often it is useful to look at how the tradeoff between identfying a virus and "
   ]
  },
  {
   "cell_type": "code",
   "execution_count": 48,
   "metadata": {},
   "outputs": [
    {
     "data": {
      "text/plain": [
       "Text(0.5, 1.0, '2-class Precision-Recall curve: AP=0.95')"
      ]
     },
     "execution_count": 48,
     "metadata": {},
     "output_type": "execute_result"
    },
    {
     "data": {
      "image/png": "[encoded data removed]",
      "text/plain": [
       "<Figure size 432x288 with 1 Axes>"
      ]
     },
     "metadata": {},
     "output_type": "display_data"
    }
   ],
   "source": [
    "from sklearn.metrics import precision_recall_curve\n",
    "from sklearn.metrics import average_precision_score\n",
    "import matplotlib.pyplot as plt\n",
    "\n",
    "# Retrieve the scores from the logistic regression model\n",
    "y_score = clf.decision_function(testXc)\n",
    "\n",
    "# Calulate the aveage precision\n",
    "average_precision = average_precision_score(testyc, y_score)\n",
    "\n",
    "precision, recall, _ = precision_recall_curve(testyc, y_score)\n",
    "sns.lineplot(recall, precision)\n",
    "plt.xlabel('Recall')\n",
    "plt.ylabel('Precision')\n",
    "plt.title('2-class Precision-Recall curve: AP={0:0.2f}'.format(average_precision))"
   ]
  },
  {
   "cell_type": "code",
   "execution_count": 14,
   "metadata": {},
   "outputs": [],
   "source": [
    "#Plot Our coefficient distrubution\n"
   ]
  },
  {
   "cell_type": "code",
   "execution_count": 13,
   "metadata": {},
   "outputs": [],
   "source": [
    "# tid|508441|NC_036579.1|pos|102368..106368,\n"
   ]
  },
  {
   "cell_type": "code",
   "execution_count": null,
   "metadata": {},
   "outputs": [],
   "source": []
  }
 ],
 "metadata": {
  "kernelspec": {
   "display_name": "Python 3",
   "language": "python",
   "name": "python3"
  },
  "language_info": {
   "codemirror_mode": {
    "name": "ipython",
    "version": 3
   },
   "file_extension": ".py",
   "mimetype": "text/x-python",
   "name": "python",
   "nbconvert_exporter": "python",
   "pygments_lexer": "ipython3",
   "version": "3.7.3"
  }
 },
 "nbformat": 4,
 "nbformat_minor": 2
}
