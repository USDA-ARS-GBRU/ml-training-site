{
 "cells": [
  {
   "cell_type": "markdown",
   "metadata": {},
   "source": [
    "# Introduction to Python for machine learning\n",
    "\n",
    "Author: Brian Stucky"
   ]
  },
  {
   "cell_type": "markdown",
   "metadata": {
    "collapsed": true
   },
   "source": [
    "We will be using the programming language Python for all lessons in this workshop.  Because we don't have enough time to give a complete, from-scratch introduction to programming, we are assuming that even if you've not used Python before, you have some experience with a so-called \"scripting\" programming language, such as R or MATLAB.  You really don't need to know very much of Python for this workshop, so in this first lesson, we'll cover the most important bits of Python and also introduce two Python packages that are commonly used for doing machine learning with Python, _numpy_ and _pandas_.\n",
    "\n",
    "## Introducing Jupyter notebooks\n",
    "\n",
    "There are several ways to run Python programs.  For general scripting and programming tasks, it is common to run Python programs directly from the command line, much as you would any other piece of software.  However, for this workshop, we will be using a programming environment called _Jupyter notebooks_ that allows you to run Python programs one line (or several lines) at a time and inspect the results at each step.  This approach to programming is especially well suited for data analysis work and will be familiar to you if you've used R programming environments such as RStudio.\n",
    "\n",
    "Jupyter notebooks are comprised of _cells_ that contain either Python code or text.  To run the code in a cell, click in the cell to make it active, then type `shift+enter`.  The results from running the Python code will be displayed below the cell.  Typing `shift+enter` will also open a new cell below the active cell if there is not already a cell there.\n",
    "\n",
    "Next, we'll try using a Jupyter notebook to learn some basic Python commands.\n",
    "\n",
    "## Python basics\n",
    "\n",
    "First, let's look at how we can write literal values in Python.  Numbers are written just as you'd expect; for example, `12` or `3.141592654`.  Literal text values are called _strings_ and are enclosed in either single or double quotes: `'this is a string'` or `\"this is a string\"`.\n",
    "\n",
    "We can use the `print()` function to write output to the console."
   ]
  },
  {
   "cell_type": "code",
   "execution_count": 1,
   "metadata": {},
   "outputs": [
    {
     "name": "stdout",
     "output_type": "stream",
     "text": [
      "12\n",
      "3.141592654\n",
      "this is a string\n",
      "This is the value of pi: 3.141592654\n"
     ]
    }
   ],
   "source": [
    "print(12)\n",
    "print(3.141592654)\n",
    "print('this is a string')\n",
    "print('This is the value of pi:', 3.141592654)"
   ]
  },
  {
   "cell_type": "markdown",
   "metadata": {},
   "source": [
    "Python provides all of the basic arithmetic operators for working with numerical values."
   ]
  },
  {
   "cell_type": "code",
   "execution_count": 2,
   "metadata": {},
   "outputs": [
    {
     "name": "stdout",
     "output_type": "stream",
     "text": [
      "7\n",
      "-1\n",
      "12\n",
      "0.75\n"
     ]
    }
   ],
   "source": [
    "print(3 + 4)\n",
    "print(3 - 4)\n",
    "print(3 * 4)\n",
    "print(3 / 4)"
   ]
  },
  {
   "cell_type": "markdown",
   "metadata": {},
   "source": [
    "Just as with other programming languages, data values in Python can be assigned to _variables_.  The `=` operator is used to assign a value to a variable (and create the variable if it does not yet exist)."
   ]
  },
  {
   "cell_type": "code",
   "execution_count": 3,
   "metadata": {},
   "outputs": [
    {
     "name": "stdout",
     "output_type": "stream",
     "text": [
      "This is the value of pi: 3.141592654\n",
      "The area of the circle is 50.265482464\n"
     ]
    }
   ],
   "source": [
    "pi = 3.141592654\n",
    "print('This is the value of pi:', pi)\n",
    "\n",
    "radius = 4\n",
    "area = pi * radius * radius\n",
    "print('The area of the circle is', area)"
   ]
  },
  {
   "cell_type": "markdown",
   "metadata": {},
   "source": [
    "## Conditional statements\n",
    "\n",
    "Like most programming languages, Python provides an `if` statement that can be used to make a decision.  One of the most common patterns is to check the value of some numerical variable using one of the comparison operators: `>` (greater than), `<` (less than), `==` (equal to), or `!=` (not equal to).  Let's look at some examples."
   ]
  },
  {
   "cell_type": "code",
   "execution_count": 4,
   "metadata": {},
   "outputs": [
    {
     "name": "stdout",
     "output_type": "stream",
     "text": [
      "Less than 20!\n",
      "Equal to 12!\n",
      "Not equal to 20!\n"
     ]
    }
   ],
   "source": [
    "a = 12\n",
    "\n",
    "if a < 20:\n",
    "    print('Less than 20!')\n",
    "\n",
    "if a == 12:\n",
    "    print('Equal to 12!')\n",
    "\n",
    "if a != 20:\n",
    "    print('Not equal to 20!')\n",
    "\n",
    "if a > 20:\n",
    "    print('Greater than 20!')"
   ]
  },
  {
   "cell_type": "markdown",
   "metadata": {},
   "source": [
    "The basic idea is that if the test following the keyword `if` evaluates to `True`, then the indented lines following the `if` will be run.  As the last example shows, if the test evaluates to `False`, then nothing happens.  If we'd like to also do something when the test is `False`, we can add an `else` clause to the `if` statement."
   ]
  },
  {
   "cell_type": "code",
   "execution_count": 5,
   "metadata": {},
   "outputs": [
    {
     "name": "stdout",
     "output_type": "stream",
     "text": [
      "Less than or equal to 20!\n"
     ]
    }
   ],
   "source": [
    "if a > 20:\n",
    "    print('Greater than 20!')\n",
    "else:\n",
    "    print('Less than or equal to 20!')"
   ]
  },
  {
   "cell_type": "markdown",
   "metadata": {},
   "source": [
    "## Lists and loops\n",
    "\n"
   ]
  },
  {
   "cell_type": "markdown",
   "metadata": {},
   "source": [
    "So far, we've seen variables and literals that represent a single value (e.g., `a = 14`).  A Python _list_ allows us to group multiple values together in a single data structure.  Python's lists are roughly analogous to the data structures called \"arrays\" or \"vectors\" in other programming languages.  We can define a list using brackets, `[` and `]`."
   ]
  },
  {
   "cell_type": "code",
   "execution_count": 6,
   "metadata": {},
   "outputs": [
    {
     "name": "stdout",
     "output_type": "stream",
     "text": [
      "[1, 1, 2, 3, 5, 8, 13, 21, 34]\n"
     ]
    }
   ],
   "source": [
    "fseq = [1, 1, 2, 3, 5, 8, 13, 21, 34]\n",
    "print(fseq)"
   ]
  },
  {
   "cell_type": "markdown",
   "metadata": {},
   "source": [
    "Individual elements of a list are accessed using *subscript notation*, which uses an integer index to refer to the desired list item.  The first element of a list is at index 0, the next is at index 1, and so on."
   ]
  },
  {
   "cell_type": "code",
   "execution_count": 7,
   "metadata": {},
   "outputs": [
    {
     "name": "stdout",
     "output_type": "stream",
     "text": [
      "1\n",
      "1\n",
      "34\n",
      "55\n"
     ]
    }
   ],
   "source": [
    "print(fseq[0])\n",
    "print(fseq[1])\n",
    "print(fseq[6] + fseq[7])\n",
    "print(fseq[7] + fseq[8])"
   ]
  },
  {
   "cell_type": "markdown",
   "metadata": {},
   "source": [
    "Python's `for` loop provides a convenient way to sequentially access every item in a list."
   ]
  },
  {
   "cell_type": "code",
   "execution_count": 8,
   "metadata": {},
   "outputs": [
    {
     "name": "stdout",
     "output_type": "stream",
     "text": [
      "1\n",
      "1\n",
      "2\n",
      "3\n",
      "5\n",
      "8\n",
      "13\n",
      "21\n",
      "34\n"
     ]
    }
   ],
   "source": [
    "for item in fseq:\n",
    "    print(item)"
   ]
  },
  {
   "cell_type": "markdown",
   "metadata": {},
   "source": [
    "The indented part of a `for` loop is called the loop's *body*, and it can contain multiple lines of code."
   ]
  },
  {
   "cell_type": "code",
   "execution_count": 9,
   "metadata": {},
   "outputs": [
    {
     "name": "stdout",
     "output_type": "stream",
     "text": [
      "Greater than 10: 13\n",
      "Greater than 10: 21\n",
      "Greater than 10: 34\n",
      "1 + 1 = 2\n",
      "1 + 2 = 3\n",
      "2 + 3 = 5\n",
      "3 + 5 = 8\n",
      "5 + 8 = 13\n",
      "8 + 13 = 21\n",
      "13 + 21 = 34\n",
      "21 + 34 = 55\n"
     ]
    }
   ],
   "source": [
    "for item in fseq:\n",
    "    if item > 10:\n",
    "        print('Greater than 10:', item)\n",
    "\n",
    "prev_item = 0\n",
    "for item in fseq:\n",
    "    if prev_item > 0:\n",
    "        print(prev_item, '+', item, '=', prev_item + item)\n",
    "    prev_item = item"
   ]
  },
  {
   "cell_type": "markdown",
   "metadata": {},
   "source": [
    "## Working with Python packages, modules, and functions\n",
    "\n",
    "Python code is often organized into units called _packages_ and _modules_.  Although there are technical differences between the two, for the purposes of this workshop, we can think of them as functionally the same (to avoid typing \"module or package\" over and over, I'll sometimes use the term \"library\" to refer to both).  Modules and packages group together related code and make it easy to reuse that code in other programs.  To introduce the basic concepts, we'll work with a standard Python module called `math` that contains a variety of mathematical functions.\n",
    "\n",
    "To use a package or a module, we use the `import` statement to tell Python that we want to load the library.  Once a library is loaded, the dot operator, `.`, lets us access the objects contained in the library.  For example, the `math` module includes a variable that defines the constant _pi_ and also includes implementations of all of the standard trigonometric functions.  Let's take a look at how we can access them."
   ]
  },
  {
   "cell_type": "code",
   "execution_count": 10,
   "metadata": {},
   "outputs": [
    {
     "name": "stdout",
     "output_type": "stream",
     "text": [
      "This is the value of pi: 3.141592653589793\n",
      "The area of the circle is 50.26548245743669\n"
     ]
    }
   ],
   "source": [
    "import math\n",
    "\n",
    "print('This is the value of pi:', math.pi)\n",
    "\n",
    "radius = 4\n",
    "area = math.pi * radius * radius\n",
    "print('The area of the circle is', area)"
   ]
  },
  {
   "cell_type": "markdown",
   "metadata": {},
   "source": [
    "The `math` module also contains a large set of _functions_.  In Python, a function comprises a block of code that accepts one or more *arguments*, does some computations using the argument values, and then returns the result.  For example, the `math` module includes a function called `cos()` that implements the standard trigonometric cosine function."
   ]
  },
  {
   "cell_type": "code",
   "execution_count": 11,
   "metadata": {},
   "outputs": [
    {
     "name": "stdout",
     "output_type": "stream",
     "text": [
      "1.0\n",
      "-1.0\n",
      "1.0\n"
     ]
    }
   ],
   "source": [
    "print(math.cos(0))\n",
    "print(math.cos(math.pi))\n",
    "print(math.cos(math.pi * 2))"
   ]
  },
  {
   "cell_type": "markdown",
   "metadata": {},
   "source": [
    "In the examples above, we call the function `cos()` with the values `0`, `math.pi` and `math.pi * 2` as the argument values.  The result of a function call can be assigned to a variable, just like any other value."
   ]
  },
  {
   "cell_type": "code",
   "execution_count": 12,
   "metadata": {},
   "outputs": [
    {
     "name": "stdout",
     "output_type": "stream",
     "text": [
      "1.0\n"
     ]
    }
   ],
   "source": [
    "result = math.cos(math.pi * 2)\n",
    "print(result)"
   ]
  },
  {
   "cell_type": "markdown",
   "metadata": {},
   "source": [
    "Functions can take any number of arguments.  Arguments are separated by a comma, `,`.  We've already seen examples of this by calling `print()` with more than one argument.  For another example, the `math` library includes a function called `gcd()` that returns the greatest common divisor of 2 integers."
   ]
  },
  {
   "cell_type": "code",
   "execution_count": 13,
   "metadata": {},
   "outputs": [
    {
     "name": "stdout",
     "output_type": "stream",
     "text": [
      "1\n",
      "12\n",
      "11\n"
     ]
    }
   ],
   "source": [
    "print(math.gcd(5, 7))\n",
    "print(math.gcd(12, 48))\n",
    "print(math.gcd(143, 253))"
   ]
  },
  {
   "cell_type": "markdown",
   "metadata": {},
   "source": [
    "To use functions in the `math` module, we've needed to type the full name of the module every time we call one of its functions.  For a library with a relatively short name, such as `math`, this isn't much of a burden, but for libraries with long names, it can quickly get tedious to type the full name over and over again.  To help solve this problem, Python allows us to assign a shortcut name for a library as part of the `import` statement."
   ]
  },
  {
   "cell_type": "code",
   "execution_count": 14,
   "metadata": {},
   "outputs": [
    {
     "name": "stdout",
     "output_type": "stream",
     "text": [
      "3.141592653589793\n",
      "1.0\n"
     ]
    }
   ],
   "source": [
    "import math as m\n",
    "\n",
    "print(m.pi)\n",
    "print(m.cos(m.pi * 2))"
   ]
  }
 ],
 "metadata": {
  "kernelspec": {
   "display_name": "Python 3",
   "language": "python",
   "name": "python3"
  },
  "language_info": {
   "codemirror_mode": {
    "name": "ipython",
    "version": 3
   },
   "file_extension": ".py",
   "mimetype": "text/x-python",
   "name": "python",
   "nbconvert_exporter": "python",
   "pygments_lexer": "ipython3",
   "version": "3.6.8"
  }
 },
 "nbformat": 4,
 "nbformat_minor": 2
}
