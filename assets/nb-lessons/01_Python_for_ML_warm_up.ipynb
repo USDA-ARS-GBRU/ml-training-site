{
 "cells": [
  {
   "cell_type": "markdown",
   "metadata": {},
   "source": [
    "# Introduction to Python for machine learning\n",
    "\n",
    "Author: Brian Stucky"
   ]
  },
  {
   "cell_type": "markdown",
   "metadata": {
    "collapsed": true
   },
   "source": [
    "We will be using the programming language [Python](https://www.python.org/) for all lessons in this workshop.  Because we don't have enough time to give a complete, from-scratch introduction to programming, we are assuming that even if you've not used Python before, you have some experience with at least one so-called \"scripting\" programming language, such as R or MATLAB.  You really don't need to know very much of Python for this workshop, so in this first lesson, we'll cover the most important bits of Python and also introduce two Python packages that are commonly used for doing machine learning with Python, _NumPy_ and _pandas_.\n",
    "\n",
    "## Introducing Jupyter notebooks\n",
    "\n",
    "There are several ways to run Python programs.  For general scripting and programming tasks, it is common to run Python programs directly from the command line, much as you would any other piece of software.  However, for this workshop, we will be using a programming environment called [*Jupyter notebooks*](https://jupyter.org/) that allows you to run Python programs one line (or several lines) at a time and inspect the results at each step.  This approach to programming is especially well suited for data analysis work and will be familiar to you if you've used R programming environments such as RStudio.\n",
    "\n",
    "Jupyter notebooks are comprised of _cells_ that contain either Python code or text.  To run the code in a cell, click in the cell to make it active, then type `shift+enter`.  The results from running the Python code will be displayed below the cell.  Typing `shift+enter` will also open a new cell below the active cell if there is not already a cell there.\n",
    "\n",
    "Next, we'll try using a Jupyter notebook to learn some basic Python commands.\n",
    "\n",
    "## Python basics\n",
    "\n",
    "First, let's look at how we can write literal values in Python.  Numbers are written just as you'd expect; for example, `12` or `3.141592654`.  Literal text values are called _strings_ and are enclosed in either single or double quotes: `'this is a string'` or `\"this is a string\"`.\n",
    "\n",
    "We can use the `print()` function to write output to the console.  If multiple values are provided to the `print()` function, they must be separated by commas."
   ]
  },
  {
   "cell_type": "code",
   "execution_count": 1,
   "metadata": {},
   "outputs": [
    {
     "name": "stdout",
     "output_type": "stream",
     "text": [
      "12\n",
      "3.141592654\n",
      "this is a string\n",
      "This is the value of pi: 3.141592654\n"
     ]
    }
   ],
   "source": [
    "print(12)\n",
    "print(3.141592654)\n",
    "print('this is a string')\n",
    "print('This is the value of pi:', 3.141592654)"
   ]
  },
  {
   "cell_type": "markdown",
   "metadata": {},
   "source": [
    "Python provides all of the basic arithmetic operators for working with numerical values."
   ]
  },
  {
   "cell_type": "code",
   "execution_count": 2,
   "metadata": {},
   "outputs": [
    {
     "name": "stdout",
     "output_type": "stream",
     "text": [
      "7\n",
      "-1\n",
      "12\n",
      "0.75\n",
      "13\n",
      "15\n"
     ]
    }
   ],
   "source": [
    "print(3 + 4)\n",
    "print(3 - 4)\n",
    "print(3 * 4)\n",
    "print(3 / 4)\n",
    "\n",
    "print(3 * 4 + 1)\n",
    "print(3 * (4 + 1))"
   ]
  },
  {
   "cell_type": "markdown",
   "metadata": {},
   "source": [
    "Just as with other programming languages, data values in Python can be assigned to _variables_.  The `=` operator is used to assign a value to a variable (and create the variable if it does not yet exist)."
   ]
  },
  {
   "cell_type": "code",
   "execution_count": 3,
   "metadata": {},
   "outputs": [
    {
     "name": "stdout",
     "output_type": "stream",
     "text": [
      "This is the value of pi: 3.141592654\n",
      "The area of the circle is 50.265482464\n"
     ]
    }
   ],
   "source": [
    "pi = 3.141592654\n",
    "print('This is the value of pi:', pi)\n",
    "\n",
    "radius = 4\n",
    "area = pi * radius * radius\n",
    "print('The area of the circle is', area)"
   ]
  },
  {
   "cell_type": "markdown",
   "metadata": {},
   "source": [
    "## Conditional statements\n",
    "\n",
    "Like most programming languages, Python provides an `if` statement that can be used to make a decision.  One of the most common patterns is to check the value of some numerical variable using one of the comparison operators: `>` (greater than), `<` (less than), `==` (equal to), or `!=` (not equal to).  Let's look at some examples."
   ]
  },
  {
   "cell_type": "code",
   "execution_count": 4,
   "metadata": {},
   "outputs": [
    {
     "name": "stdout",
     "output_type": "stream",
     "text": [
      "Less than 20!\n",
      "Equal to 12!\n",
      "Not equal to 20!\n"
     ]
    }
   ],
   "source": [
    "a = 12\n",
    "\n",
    "if a < 20:\n",
    "    print('Less than 20!')\n",
    "\n",
    "if a == 12:\n",
    "    print('Equal to 12!')\n",
    "\n",
    "if a != 20:\n",
    "    print('Not equal to 20!')\n",
    "\n",
    "if a > 20:\n",
    "    print('Greater than 20!')"
   ]
  },
  {
   "cell_type": "markdown",
   "metadata": {},
   "source": [
    "The basic idea is that whenever the test following the keyword `if` evaluates to `True`, the indented lines following the `if` will be run.  As the last example shows, if the test evaluates to `False`, then nothing happens.  If we'd like to also do something when the test is `False`, we can add an `else` clause to the `if` statement."
   ]
  },
  {
   "cell_type": "code",
   "execution_count": 5,
   "metadata": {},
   "outputs": [
    {
     "name": "stdout",
     "output_type": "stream",
     "text": [
      "Less than or equal to 20!\n"
     ]
    }
   ],
   "source": [
    "if a > 20:\n",
    "    print('Greater than 20!')\n",
    "else:\n",
    "    print('Less than or equal to 20!')"
   ]
  },
  {
   "cell_type": "markdown",
   "metadata": {},
   "source": [
    "## Lists and loops\n",
    "\n"
   ]
  },
  {
   "cell_type": "markdown",
   "metadata": {},
   "source": [
    "So far, we've seen variables and literals that represent a single value (e.g., `a = 14`).  A Python _list_ allows us to group multiple values together in a single data structure.  Python's lists are roughly analogous to the data structures called \"arrays\" or \"vectors\" in other programming languages.  We can define a list using brackets, `[` and `]`."
   ]
  },
  {
   "cell_type": "code",
   "execution_count": 6,
   "metadata": {},
   "outputs": [
    {
     "name": "stdout",
     "output_type": "stream",
     "text": [
      "[1, 1, 2, 3, 5, 8, 13, 21, 34]\n"
     ]
    }
   ],
   "source": [
    "fseq = [1, 1, 2, 3, 5, 8, 13, 21, 34]\n",
    "print(fseq)"
   ]
  },
  {
   "cell_type": "markdown",
   "metadata": {},
   "source": [
    "Individual elements of a list are accessed using *subscript notation*, which uses an integer index to refer to the desired list item.  The first element of a list is at index 0, the next is at index 1, and so on."
   ]
  },
  {
   "cell_type": "code",
   "execution_count": 7,
   "metadata": {},
   "outputs": [
    {
     "name": "stdout",
     "output_type": "stream",
     "text": [
      "1\n",
      "1\n",
      "34\n",
      "55\n"
     ]
    }
   ],
   "source": [
    "print(fseq[0])\n",
    "print(fseq[1])\n",
    "print(fseq[6] + fseq[7])\n",
    "print(fseq[7] + fseq[8])"
   ]
  },
  {
   "cell_type": "markdown",
   "metadata": {},
   "source": [
    "Python's `for` loop provides a convenient way to sequentially access every item in a list."
   ]
  },
  {
   "cell_type": "code",
   "execution_count": 8,
   "metadata": {},
   "outputs": [
    {
     "name": "stdout",
     "output_type": "stream",
     "text": [
      "1\n",
      "1\n",
      "2\n",
      "3\n",
      "5\n",
      "8\n",
      "13\n",
      "21\n",
      "34\n"
     ]
    }
   ],
   "source": [
    "for item in fseq:\n",
    "    print(item)"
   ]
  },
  {
   "cell_type": "markdown",
   "metadata": {},
   "source": [
    "The indented part of a `for` loop is called the loop's *body*, and it can contain multiple lines of code."
   ]
  },
  {
   "cell_type": "code",
   "execution_count": 9,
   "metadata": {},
   "outputs": [
    {
     "name": "stdout",
     "output_type": "stream",
     "text": [
      "Greater than 10: 13\n",
      "Greater than 10: 21\n",
      "Greater than 10: 34\n",
      "1 + 1 = 2\n",
      "1 + 2 = 3\n",
      "2 + 3 = 5\n",
      "3 + 5 = 8\n",
      "5 + 8 = 13\n",
      "8 + 13 = 21\n",
      "13 + 21 = 34\n",
      "21 + 34 = 55\n"
     ]
    }
   ],
   "source": [
    "for item in fseq:\n",
    "    if item > 10:\n",
    "        print('Greater than 10:', item)\n",
    "\n",
    "prev_item = 0\n",
    "for item in fseq:\n",
    "    if prev_item > 0:\n",
    "        print(prev_item, '+', item, '=', prev_item + item)\n",
    "    prev_item = item"
   ]
  },
  {
   "cell_type": "markdown",
   "metadata": {},
   "source": [
    "The `len` function returns the number of items in a list."
   ]
  },
  {
   "cell_type": "code",
   "execution_count": 10,
   "metadata": {},
   "outputs": [
    {
     "name": "stdout",
     "output_type": "stream",
     "text": [
      "9\n",
      "Arithmetic mean: 9.777777777777779\n"
     ]
    }
   ],
   "source": [
    "print(len(fseq))\n",
    "\n",
    "total = 0\n",
    "for item in fseq:\n",
    "    total = total + item\n",
    "\n",
    "mean = total / len(fseq)\n",
    "print('Arithmetic mean:', mean)"
   ]
  },
  {
   "cell_type": "markdown",
   "metadata": {},
   "source": [
    "## Working with Python packages, modules, and functions\n",
    "\n",
    "Python code is often organized into units called _packages_ and _modules_.  Although there are technical differences between the two, for the purposes of this workshop, we can think of them as functionally the same (to avoid typing \"module or package\" over and over, I'll sometimes use the term \"library\" to refer to both).  Modules and packages group together related code and make it easy to reuse that code in other programs.  To introduce the basic concepts, we'll work with a standard Python module called `math` that contains a variety of mathematical functions.\n",
    "\n",
    "To use a package or a module, we use the `import` statement to tell Python that we want to load the library.  Once a library is loaded, the dot operator, `.`, lets us access the objects contained in the library.  For example, the `math` module includes a variable that defines the constant _pi_ and also includes implementations of all of the standard trigonometric functions.  Let's take a look at how we can access them."
   ]
  },
  {
   "cell_type": "code",
   "execution_count": 11,
   "metadata": {},
   "outputs": [
    {
     "name": "stdout",
     "output_type": "stream",
     "text": [
      "This is the value of pi: 3.141592653589793\n",
      "The area of the circle is 50.26548245743669\n"
     ]
    }
   ],
   "source": [
    "import math\n",
    "\n",
    "print('This is the value of pi:', math.pi)\n",
    "\n",
    "radius = 4\n",
    "area = math.pi * radius * radius\n",
    "print('The area of the circle is', area)"
   ]
  },
  {
   "cell_type": "markdown",
   "metadata": {},
   "source": [
    "The `math` module also contains a large set of _functions_.  In Python, a function comprises a block of code that accepts one or more *arguments*, does some computations using the argument values, and then returns the result.  For example, the `math` module includes a function called `cos()` that implements the standard trigonometric cosine function."
   ]
  },
  {
   "cell_type": "code",
   "execution_count": 12,
   "metadata": {},
   "outputs": [
    {
     "name": "stdout",
     "output_type": "stream",
     "text": [
      "1.0\n",
      "-1.0\n",
      "1.0\n"
     ]
    }
   ],
   "source": [
    "print(math.cos(0))\n",
    "print(math.cos(math.pi))\n",
    "print(math.cos(math.pi * 2))"
   ]
  },
  {
   "cell_type": "markdown",
   "metadata": {},
   "source": [
    "In the examples above, we call the function `cos()` with the values `0`, `math.pi` and `math.pi * 2` as the argument values.  The result of a function call can be assigned to a variable, just like any other value."
   ]
  },
  {
   "cell_type": "code",
   "execution_count": 13,
   "metadata": {},
   "outputs": [
    {
     "name": "stdout",
     "output_type": "stream",
     "text": [
      "1.0\n"
     ]
    }
   ],
   "source": [
    "result = math.cos(math.pi * 2)\n",
    "print(result)"
   ]
  },
  {
   "cell_type": "markdown",
   "metadata": {},
   "source": [
    "Functions can take any number of arguments.  Arguments are separated by a comma, `,`.  We've already seen examples of this by calling `print()` with more than one argument.  For another example, the `math` library includes a function called `gcd()` that returns the greatest common divisor of 2 integers."
   ]
  },
  {
   "cell_type": "code",
   "execution_count": 14,
   "metadata": {},
   "outputs": [
    {
     "name": "stdout",
     "output_type": "stream",
     "text": [
      "1\n",
      "12\n",
      "11\n"
     ]
    }
   ],
   "source": [
    "print(math.gcd(5, 7))\n",
    "print(math.gcd(12, 48))\n",
    "print(math.gcd(143, 253))"
   ]
  },
  {
   "cell_type": "markdown",
   "metadata": {},
   "source": [
    "To use functions in the `math` module, we've needed to type the full name of the module every time we call one of its functions.  For a library with a relatively short name, such as `math`, this isn't much of a burden, but for libraries with long names, it can quickly get tedious to type the full name over and over again.  To help solve this problem, Python allows us to assign a shortcut name for a library as part of the `import` statement."
   ]
  },
  {
   "cell_type": "code",
   "execution_count": 15,
   "metadata": {},
   "outputs": [
    {
     "name": "stdout",
     "output_type": "stream",
     "text": [
      "3.141592653589793\n",
      "1.0\n"
     ]
    }
   ],
   "source": [
    "import math as m\n",
    "\n",
    "print(m.pi)\n",
    "print(m.cos(m.pi * 2))"
   ]
  },
  {
   "cell_type": "markdown",
   "metadata": {},
   "source": [
    "## Using NumPy\n",
    "\n",
    "[*NumPy*](https://www.numpy.org/) is a Python package that supports fast numerical computation in Python.  For our purposes, the most important component of NumPy is NumPy's *multidimensional array*, which, in this lesson, I will simply refer to as \"array\".  NumPy arrays can be used in many of the same ways as Python lists, but they also support a large set of mathematical operations that are not provided for lists.  Furthermore, performing numerical calculations on arrays is typically much faster than using lists.\n",
    "\n",
    "There are many ways to create an array.  Here, we will use the `array()` function to create an array directly from a Python list."
   ]
  },
  {
   "cell_type": "code",
   "execution_count": 16,
   "metadata": {},
   "outputs": [
    {
     "name": "stdout",
     "output_type": "stream",
     "text": [
      "[ 1  1  2  3  5  8 13 21 34]\n",
      "1\n",
      "34\n",
      "Array length: 9\n",
      "1\n",
      "1\n",
      "2\n",
      "3\n",
      "5\n",
      "8\n",
      "13\n",
      "21\n",
      "34\n"
     ]
    }
   ],
   "source": [
    "import numpy as np\n",
    "\n",
    "f_arr = np.array([1, 1, 2, 3, 5, 8, 13, 21, 34])\n",
    "print(f_arr)\n",
    "\n",
    "print(f_arr[0])\n",
    "print(f_arr[8])\n",
    "\n",
    "print('Array length:', len(f_arr))\n",
    "\n",
    "for item in f_arr:\n",
    "    print(item)"
   ]
  },
  {
   "cell_type": "markdown",
   "metadata": {},
   "source": [
    "The code above illustrates several key points:\n",
    "  1. By convention, the shortcut name `np` is used for `numpy`.\n",
    "  2. Indexing of numpy arrays is exactly as for Python lists, with the first element at index 0.\n",
    "  3. Arrays can generally be used in the same ways you'd use lists.\n",
    "\n",
    "Numpy arrays support all of the basic arithmetic operations, which are performed *element-wise*.  That is, the arithmetic operation is independently applied to each element of the array or pair of corresponding elements."
   ]
  },
  {
   "cell_type": "code",
   "execution_count": 17,
   "metadata": {},
   "outputs": [
    {
     "name": "stdout",
     "output_type": "stream",
     "text": [
      "[ 2  2  3  4  6  9 14 22 35]\n",
      "[ 0.5  0.5  1.   1.5  2.5  4.   6.5 10.5 17. ]\n",
      "[   1    1    4    9   25   64  169  441 1156]\n"
     ]
    }
   ],
   "source": [
    "print(f_arr + 1)\n",
    "print(f_arr / 2)\n",
    "print(f_arr * f_arr)"
   ]
  },
  {
   "cell_type": "markdown",
   "metadata": {},
   "source": [
    "NumPy also provides many common mathematical functions that can be used with arrays.  As with the arithmetic operators, most of NumPy's mathematical functions operate element-wise, but some calculate a single value from the contents of an array."
   ]
  },
  {
   "cell_type": "code",
   "execution_count": 18,
   "metadata": {
    "scrolled": true
   },
   "outputs": [
    {
     "name": "stdout",
     "output_type": "stream",
     "text": [
      "[1.         1.         1.41421356 1.73205081 2.23606798 2.82842712\n",
      " 3.60555128 4.58257569 5.83095189]\n",
      "The range is 1 , 34\n",
      "Arithmetic mean: 9.777777777777779\n"
     ]
    }
   ],
   "source": [
    "print(np.sqrt(f_arr))\n",
    "\n",
    "print('The range is', np.min(f_arr), ',', np.max(f_arr))\n",
    "print('Arithmetic mean:', np.mean(f_arr))"
   ]
  },
  {
   "cell_type": "markdown",
   "metadata": {},
   "source": [
    "Common statistical summary functions, such as `min()` and `mean()`, can also be accessed as properties of the array objects themselves, which is sometimes more convenient."
   ]
  },
  {
   "cell_type": "code",
   "execution_count": 19,
   "metadata": {},
   "outputs": [
    {
     "name": "stdout",
     "output_type": "stream",
     "text": [
      "The range is 1 , 34\n",
      "Arithmetic mean: 9.777777777777779\n"
     ]
    }
   ],
   "source": [
    "print('The range is', f_arr.min(), ',', f_arr.max())\n",
    "print('Arithmetic mean:', f_arr.mean())"
   ]
  },
  {
   "cell_type": "markdown",
   "metadata": {},
   "source": [
    "## Using Pandas\n",
    "\n",
    "[*Pandas*](https://pandas.pydata.org/) is another Python package that is commonly used for doing statistics and machine learning in Python.  Pandas provides a structure called `DataFrame` that implements a convenient way to work with tabular data (i.e., data with one or more variables arranged in columns, with each row containing one observation of each variable).  If you've worked with dataframes in R, pandas' `DataFrame` is roughly analogous.\n",
    "\n",
    "To illustrate the basic ideas of pandas' `DataFrame`, we'll work with a famous historical dataset, the [iris flower dataset](https://en.wikipedia.org/wiki/Iris_flower_data_set).\n",
    "\n",
    "The iris data are provided in a plain-text format known as [*comma-separated values*](https://en.wikipedia.org/wiki/Comma-separated_values), or *CSV*.  CSV is a popular format for tabular data because it is both human and machine readable and it is supported by a huge number of software programs.\n",
    "\n",
    "First, we'll load pandas and then use the `read_csv()` function to load the iris data.  Note the conventional use of `np` as an abbreviation for `pandas`."
   ]
  },
  {
   "cell_type": "code",
   "execution_count": 20,
   "metadata": {},
   "outputs": [],
   "source": [
    "import pandas as pd\n",
    "\n",
    "idata = pd.read_csv('../nb-datasets/iris_dataset.csv')"
   ]
  },
  {
   "cell_type": "markdown",
   "metadata": {},
   "source": [
    "To inspect the contents of a DataFrame, we can use the `head()` or `tail()` functions.  `head()` returns the first 5 rows of a DataFrame; `tail()` returns the last 5.\n"
   ]
  },
  {
   "cell_type": "code",
   "execution_count": 21,
   "metadata": {},
   "outputs": [
    {
     "data": {
      "text/html": [
       "<div>\n",
       "<style scoped>\n",
       "    .dataframe tbody tr th:only-of-type {\n",
       "        vertical-align: middle;\n",
       "    }\n",
       "\n",
       "    .dataframe tbody tr th {\n",
       "        vertical-align: top;\n",
       "    }\n",
       "\n",
       "    .dataframe thead th {\n",
       "        text-align: right;\n",
       "    }\n",
       "</style>\n",
       "<table border=\"1\" class=\"dataframe\">\n",
       "  <thead>\n",
       "    <tr style=\"text-align: right;\">\n",
       "      <th></th>\n",
       "      <th>sepal_length</th>\n",
       "      <th>sepal_width</th>\n",
       "      <th>petal_length</th>\n",
       "      <th>petal_width</th>\n",
       "      <th>species</th>\n",
       "    </tr>\n",
       "  </thead>\n",
       "  <tbody>\n",
       "    <tr>\n",
       "      <th>0</th>\n",
       "      <td>5.1</td>\n",
       "      <td>3.5</td>\n",
       "      <td>1.4</td>\n",
       "      <td>0.2</td>\n",
       "      <td>setosa</td>\n",
       "    </tr>\n",
       "    <tr>\n",
       "      <th>1</th>\n",
       "      <td>4.9</td>\n",
       "      <td>3.0</td>\n",
       "      <td>1.4</td>\n",
       "      <td>0.2</td>\n",
       "      <td>setosa</td>\n",
       "    </tr>\n",
       "    <tr>\n",
       "      <th>2</th>\n",
       "      <td>4.7</td>\n",
       "      <td>3.2</td>\n",
       "      <td>1.3</td>\n",
       "      <td>0.2</td>\n",
       "      <td>setosa</td>\n",
       "    </tr>\n",
       "    <tr>\n",
       "      <th>3</th>\n",
       "      <td>4.6</td>\n",
       "      <td>3.1</td>\n",
       "      <td>1.5</td>\n",
       "      <td>0.2</td>\n",
       "      <td>setosa</td>\n",
       "    </tr>\n",
       "    <tr>\n",
       "      <th>4</th>\n",
       "      <td>5.0</td>\n",
       "      <td>3.6</td>\n",
       "      <td>1.4</td>\n",
       "      <td>0.2</td>\n",
       "      <td>setosa</td>\n",
       "    </tr>\n",
       "  </tbody>\n",
       "</table>\n",
       "</div>"
      ],
      "text/plain": [
       "   sepal_length  sepal_width  petal_length  petal_width species\n",
       "0           5.1          3.5           1.4          0.2  setosa\n",
       "1           4.9          3.0           1.4          0.2  setosa\n",
       "2           4.7          3.2           1.3          0.2  setosa\n",
       "3           4.6          3.1           1.5          0.2  setosa\n",
       "4           5.0          3.6           1.4          0.2  setosa"
      ]
     },
     "execution_count": 21,
     "metadata": {},
     "output_type": "execute_result"
    }
   ],
   "source": [
    "idata.head()"
   ]
  },
  {
   "cell_type": "markdown",
   "metadata": {},
   "source": [
    "In later lessons, we'll spend more time talking about the contents of the iris dataset.  For now, simply note that the DataFrame comprises 5 columns, where each column contains values for a single variable.  Each row contains a complete set of observations of all variables for one individual iris flower.\n",
    "\n",
    "Just as with Python lists and numpy arrays, we can use the `len()` function to find out how many rows (i.e., individual flowers) are in our dataset."
   ]
  },
  {
   "cell_type": "code",
   "execution_count": 22,
   "metadata": {},
   "outputs": [
    {
     "data": {
      "text/plain": [
       "150"
      ]
     },
     "execution_count": 22,
     "metadata": {},
     "output_type": "execute_result"
    }
   ],
   "source": [
    "len(idata)"
   ]
  },
  {
   "cell_type": "markdown",
   "metadata": {},
   "source": [
    "DataFrames include a function called `describe()` that gives you a basic statistical overview of a DataFrame."
   ]
  },
  {
   "cell_type": "code",
   "execution_count": 23,
   "metadata": {},
   "outputs": [
    {
     "data": {
      "text/html": [
       "<div>\n",
       "<style scoped>\n",
       "    .dataframe tbody tr th:only-of-type {\n",
       "        vertical-align: middle;\n",
       "    }\n",
       "\n",
       "    .dataframe tbody tr th {\n",
       "        vertical-align: top;\n",
       "    }\n",
       "\n",
       "    .dataframe thead th {\n",
       "        text-align: right;\n",
       "    }\n",
       "</style>\n",
       "<table border=\"1\" class=\"dataframe\">\n",
       "  <thead>\n",
       "    <tr style=\"text-align: right;\">\n",
       "      <th></th>\n",
       "      <th>sepal_length</th>\n",
       "      <th>sepal_width</th>\n",
       "      <th>petal_length</th>\n",
       "      <th>petal_width</th>\n",
       "    </tr>\n",
       "  </thead>\n",
       "  <tbody>\n",
       "    <tr>\n",
       "      <th>count</th>\n",
       "      <td>150.000000</td>\n",
       "      <td>150.000000</td>\n",
       "      <td>150.000000</td>\n",
       "      <td>150.000000</td>\n",
       "    </tr>\n",
       "    <tr>\n",
       "      <th>mean</th>\n",
       "      <td>5.843333</td>\n",
       "      <td>3.054000</td>\n",
       "      <td>3.758667</td>\n",
       "      <td>1.198667</td>\n",
       "    </tr>\n",
       "    <tr>\n",
       "      <th>std</th>\n",
       "      <td>0.828066</td>\n",
       "      <td>0.433594</td>\n",
       "      <td>1.764420</td>\n",
       "      <td>0.763161</td>\n",
       "    </tr>\n",
       "    <tr>\n",
       "      <th>min</th>\n",
       "      <td>4.300000</td>\n",
       "      <td>2.000000</td>\n",
       "      <td>1.000000</td>\n",
       "      <td>0.100000</td>\n",
       "    </tr>\n",
       "    <tr>\n",
       "      <th>25%</th>\n",
       "      <td>5.100000</td>\n",
       "      <td>2.800000</td>\n",
       "      <td>1.600000</td>\n",
       "      <td>0.300000</td>\n",
       "    </tr>\n",
       "    <tr>\n",
       "      <th>50%</th>\n",
       "      <td>5.800000</td>\n",
       "      <td>3.000000</td>\n",
       "      <td>4.350000</td>\n",
       "      <td>1.300000</td>\n",
       "    </tr>\n",
       "    <tr>\n",
       "      <th>75%</th>\n",
       "      <td>6.400000</td>\n",
       "      <td>3.300000</td>\n",
       "      <td>5.100000</td>\n",
       "      <td>1.800000</td>\n",
       "    </tr>\n",
       "    <tr>\n",
       "      <th>max</th>\n",
       "      <td>7.900000</td>\n",
       "      <td>4.400000</td>\n",
       "      <td>6.900000</td>\n",
       "      <td>2.500000</td>\n",
       "    </tr>\n",
       "  </tbody>\n",
       "</table>\n",
       "</div>"
      ],
      "text/plain": [
       "       sepal_length  sepal_width  petal_length  petal_width\n",
       "count    150.000000   150.000000    150.000000   150.000000\n",
       "mean       5.843333     3.054000      3.758667     1.198667\n",
       "std        0.828066     0.433594      1.764420     0.763161\n",
       "min        4.300000     2.000000      1.000000     0.100000\n",
       "25%        5.100000     2.800000      1.600000     0.300000\n",
       "50%        5.800000     3.000000      4.350000     1.300000\n",
       "75%        6.400000     3.300000      5.100000     1.800000\n",
       "max        7.900000     4.400000      6.900000     2.500000"
      ]
     },
     "execution_count": 23,
     "metadata": {},
     "output_type": "execute_result"
    }
   ],
   "source": [
    "idata.describe()"
   ]
  },
  {
   "cell_type": "markdown",
   "metadata": {},
   "source": [
    "We can access individual columns of a DataFrame using a special form of subscript notation that uses the column name."
   ]
  },
  {
   "cell_type": "code",
   "execution_count": 24,
   "metadata": {},
   "outputs": [
    {
     "data": {
      "text/plain": [
       "0      1.4\n",
       "1      1.4\n",
       "2      1.3\n",
       "3      1.5\n",
       "4      1.4\n",
       "      ... \n",
       "145    5.2\n",
       "146    5.0\n",
       "147    5.2\n",
       "148    5.4\n",
       "149    5.1\n",
       "Name: petal_length, Length: 150, dtype: float64"
      ]
     },
     "execution_count": 24,
     "metadata": {},
     "output_type": "execute_result"
    }
   ],
   "source": [
    "idata['petal_length']"
   ]
  },
  {
   "cell_type": "markdown",
   "metadata": {},
   "source": [
    "Pandas DataFrames are built on top of numpy arrays.  In fact, a column in a Pandas DataFrame is a special kind of numpy array.  Therefore, you can work with data in a pandas DataFrame much as you would work with any other numpy array."
   ]
  },
  {
   "cell_type": "code",
   "execution_count": 25,
   "metadata": {},
   "outputs": [
    {
     "name": "stdout",
     "output_type": "stream",
     "text": [
      "First element: 1.4\n",
      "First element: 1.4\n",
      "Mean petal length: 3.758666666666666\n"
     ]
    }
   ],
   "source": [
    "print('First element:', idata['petal_length'][0])\n",
    "\n",
    "p_lens = idata['petal_length']\n",
    "print('First element:', p_lens[0])\n",
    "\n",
    "\n",
    "print('Mean petal length:', p_lens.mean())"
   ]
  },
  {
   "cell_type": "markdown",
   "metadata": {},
   "source": [
    "Basic statistical summary methods are defined for DataFrames, too, and they return the summary statistic for each column."
   ]
  },
  {
   "cell_type": "code",
   "execution_count": 26,
   "metadata": {},
   "outputs": [
    {
     "data": {
      "text/plain": [
       "sepal_length    5.843333\n",
       "sepal_width     3.054000\n",
       "petal_length    3.758667\n",
       "petal_width     1.198667\n",
       "dtype: float64"
      ]
     },
     "execution_count": 26,
     "metadata": {},
     "output_type": "execute_result"
    }
   ],
   "source": [
    "idata.mean()"
   ]
  },
  {
   "cell_type": "markdown",
   "metadata": {},
   "source": [
    "## Conclusion\n",
    "\n",
    "That's it for our quick introduction to Python, NumPy, and Pandas.  Although we've covered only a tiny fraction of what these tools can do, you should at least be able to begin using them for basic data manipulation tasks.  Upcoming lessons will introduce more features of these tools, as well as give you plenty of opportunity to practice using them!"
   ]
  }
 ],
 "metadata": {
  "kernelspec": {
   "display_name": "Python 3",
   "language": "python",
   "name": "python3"
  },
  "language_info": {
   "codemirror_mode": {
    "name": "ipython",
    "version": 3
   },
   "file_extension": ".py",
   "mimetype": "text/x-python",
   "name": "python",
   "nbconvert_exporter": "python",
   "pygments_lexer": "ipython3",
   "version": "3.7.3"
  }
 },
 "nbformat": 4,
 "nbformat_minor": 2
}
