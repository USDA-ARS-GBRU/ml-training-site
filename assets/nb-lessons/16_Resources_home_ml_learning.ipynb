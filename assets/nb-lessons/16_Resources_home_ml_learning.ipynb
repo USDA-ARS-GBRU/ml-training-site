{
 "cells": [
  {
   "cell_type": "markdown",
   "metadata": {},
   "source": [
    "# Resources for learning more about machine learning at home\n",
    "Author: Adam Rivers"
   ]
  },
  {
   "cell_type": "markdown",
   "metadata": {
    "collapsed": true
   },
   "source": [
    "Hopefully this two day course have given you a good sense of what machine learning is, the key concepts in the field and the range of methods used.  Out goal is to launch you to become a consumer of machine learning methods to further your research. In this section we wanted to prove your with links to resources than will help you continue to learning about machine learning.\n",
    "\n",
    "## Online courses\n",
    "\n",
    "There a a number of great free online learning courses.  Here is a list of some of the courses we like.\n",
    "\n",
    "* [Andrew Ng's Stanford course on Coursera](https://www.coursera.org/learn/machine-learning). The most popular course in AI.\n",
    "* [MITx Machine Learning with Python: from Linear Models to Deep Learning](https://www.edx.org/course/machine-learning-with-python-from-linear-models-to-deep-learning-3)\n",
    "* [IBM deep learning](https://www.edx.org/professional-certificate/ibm-deep-learning)\n",
    "* [Probabalistic Graphical Models](https://www.coursera.org/specializations/probabilistic-graphical-models)\n",
    "\n",
    "## Online books\n",
    "\n",
    "[The deep learning book](https://www.deeplearningbook.org/)\n",
    "[Deep learning and neural networks](http://neuralnetworksanddeeplearning.com/)\n",
    "[Machine learning a probabalistic perspective](https://www.cs.ubc.ca/~murphyk/MLbook/)\n",
    "\n",
    "## Podcasts\n",
    "\n",
    "[Talking machines](https://www.thetalkingmachines.com/home?context_entity_type=node&context_entity_id=14033). This a a great posdcast with hosts [Katherine Gourman](http://www.katherinelgorman.com/) and Neil Lawrence(http://inverseprobability.com/) (originally [Ryan Adams])(https://www.cs.princeton.edu/~rpa/)\n",
    "\n",
    "\n",
    "## USDA-ARS resources\n",
    "\n",
    "ARS is investing in ML mostly through the SCINet scientific computing initiative.  Key areas are:\n",
    "\n",
    "* This training\n",
    "* An AI summit for agency leaders (Research Leaders, National Program Leaders Deputy Administrators) in September\n",
    "* An intent to set up a community of practice,with forum, email list etc.\n",
    "* High performance computing (HPC)Resources.  Currently 1 HPC Ceres in Ames, IA, 1 more coming online in late 2019 in Starkville, MS and talk of a third.\n",
    "* Support for future trainings\n",
    "\n",
    "## UF resources\n",
    "\n",
    "UF is home to the [NSF Center for Big Learning](http://nsfcbl.org/).  They describe themselves as: \n",
    "\n",
    "> \"With the vision of creating intelligence and leveraging collective wisdom from academia, industry, and governments, the \\[Center for big learning\\] CBL consortium focuses on large-scale deep learning (DL), intelligent platforms, and DL-enabled big data applications in a broad spectrum of disciplines. CBL is composed  of three academic sites across the country and a large number (50+) of industry partners: University of Florida (UF, East), University of Missouri at Kansas City (UMKC, Central), and University of Oregon (UO, West). Faculty members (60+) at these three sites have the comprehensive expertise, covering key research themes and application disciplines. The consortium is sponsored by NSF and industry members over the world.\"\n",
    "\n",
    "They have a listing of faculty collaborating and a large number of industry partners.\n"
   ]
  },
  {
   "cell_type": "code",
   "execution_count": null,
   "metadata": {},
   "outputs": [],
   "source": []
  }
 ],
 "metadata": {
  "kernelspec": {
   "display_name": "Python 3",
   "language": "python",
   "name": "python3"
  },
  "language_info": {
   "codemirror_mode": {
    "name": "ipython",
    "version": 3
   },
   "file_extension": ".py",
   "mimetype": "text/x-python",
   "name": "python",
   "nbconvert_exporter": "python",
   "pygments_lexer": "ipython3",
   "version": "3.7.3"
  }
 },
 "nbformat": 4,
 "nbformat_minor": 2
}
