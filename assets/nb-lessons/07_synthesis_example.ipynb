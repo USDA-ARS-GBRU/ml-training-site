{
 "cells": [
  {
   "cell_type": "markdown",
   "metadata": {},
   "source": [
    "# Synthesis example\n",
    "\n",
    "Author: Adam Rivers"
   ]
  },
  {
   "cell_type": "markdown",
   "metadata": {
    "collapsed": true
   },
   "source": [
    "## Classifying sequences by their tetranucleotide frequencies\n",
    "\n",
    "In this example we are going to classify Viral and Bacterial nucleotide sequences  using their tetranucleotide frequencies or 4-mers.\n",
    "\n",
    "Kmers are counted by moving a sliding window of length (k=4) along a DNA sequence:\n",
    "\n",
    "```\n",
    "TCGGATTTTTAA\n",
    "TCGA\n",
    " CGAT\n",
    "  GATT\n",
    "   ATTT\n",
    "    TTTT\n",
    "     TTTT\n",
    "      TTTA\n",
    "       TTAA\n",
    "```\n",
    "\n",
    "kmer | count | frequency\n",
    "------|----- | --------\n",
    "TCGA | 1 | 0.125\n",
    "CGAT | 1 | 0.125\n",
    "GATT | 1 | 0.125\n",
    "ATTT | 1 | 0.125\n",
    "TTTT | 2 | 0.250\n",
    "TTTA | 1 | 0.125\n",
    "TTAA | 1 | 0.125\n",
    "\n",
    "## Selecting training data\n",
    "\n",
    "To build a good classifier it is essential to sample training from a population representative of the population to be classified. This is a big challenge when working with sequencing data because the genomes that humans choose to sequence are not representative of the organisms in the environment.  We spend lots of time sequencing the organisms that make us sick.\n",
    "\n",
    "This data has been carefully selected to take this into account.  We have selected about the same number of samples from every different family of bacteria and virus, then we extracted 5000 nucleotide long fragments from each genome.\n",
    "\n",
    "## information bleed over \n",
    "\n",
    "We know that we never want to evaluate our model using the training data. We always reserve a separate set of test data for evaluation. What happens though if some test data is almost exactly the same as our training data?  LEts say we have A Salmonella genome of the same type  in the test and the train sets? In this case we may artifically inflate the performance of our classifier. \n",
    "\n",
    "To avoid this issue in this example we have made sure that if an example is in the test set no organisms from that taxonomic family  are present in the test set. This gives us a realistic estimate of how well the classifier will perform at classifying a virus at the family level.\n",
    "\n",
    "\n",
    "This is a common mistake in ML methods. Several papers have been published on this application that split data randomly or split test and training data by the date they were added to the RefSeq database.\n",
    "\n",
    "\n",
    "\n"
   ]
  },
  {
   "cell_type": "markdown",
   "metadata": {},
   "source": [
    "\n",
    "\n",
    "## Logistic regression model\n",
    "We will use these counts to classify the reads as viral or bacterial using a **_Logistic Regression_**. model (actually a type of classifier not a regressor).\n",
    "\n",
    "\n",
    "First lets load in our training data.\n"
   ]
  },
  {
   "cell_type": "code",
   "execution_count": 1,
   "metadata": {},
   "outputs": [
    {
     "data": {
      "text/html": [
       "<div>\n",
       "<style scoped>\n",
       "    .dataframe tbody tr th:only-of-type {\n",
       "        vertical-align: middle;\n",
       "    }\n",
       "\n",
       "    .dataframe tbody tr th {\n",
       "        vertical-align: top;\n",
       "    }\n",
       "\n",
       "    .dataframe thead th {\n",
       "        text-align: right;\n",
       "    }\n",
       "</style>\n",
       "<table border=\"1\" class=\"dataframe\">\n",
       "  <thead>\n",
       "    <tr style=\"text-align: right;\">\n",
       "      <th></th>\n",
       "      <th>1</th>\n",
       "      <th>2</th>\n",
       "      <th>3</th>\n",
       "      <th>4</th>\n",
       "      <th>5</th>\n",
       "      <th>6</th>\n",
       "      <th>7</th>\n",
       "      <th>8</th>\n",
       "      <th>9</th>\n",
       "      <th>10</th>\n",
       "      <th>...</th>\n",
       "      <th>246</th>\n",
       "      <th>247</th>\n",
       "      <th>248</th>\n",
       "      <th>249</th>\n",
       "      <th>250</th>\n",
       "      <th>251</th>\n",
       "      <th>252</th>\n",
       "      <th>253</th>\n",
       "      <th>254</th>\n",
       "      <th>255</th>\n",
       "    </tr>\n",
       "  </thead>\n",
       "  <tbody>\n",
       "    <tr>\n",
       "      <th>0</th>\n",
       "      <td>0.000000</td>\n",
       "      <td>0.000656</td>\n",
       "      <td>0.000525</td>\n",
       "      <td>0.000131</td>\n",
       "      <td>0.001181</td>\n",
       "      <td>0.002361</td>\n",
       "      <td>0.002492</td>\n",
       "      <td>0.001049</td>\n",
       "      <td>0.001837</td>\n",
       "      <td>0.002886</td>\n",
       "      <td>...</td>\n",
       "      <td>0.003148</td>\n",
       "      <td>0.003148</td>\n",
       "      <td>0.001968</td>\n",
       "      <td>0.001312</td>\n",
       "      <td>0.001968</td>\n",
       "      <td>0.000918</td>\n",
       "      <td>0.000656</td>\n",
       "      <td>0.000000</td>\n",
       "      <td>0.000787</td>\n",
       "      <td>0.000525</td>\n",
       "    </tr>\n",
       "    <tr>\n",
       "      <th>1</th>\n",
       "      <td>0.011189</td>\n",
       "      <td>0.006505</td>\n",
       "      <td>0.008067</td>\n",
       "      <td>0.009498</td>\n",
       "      <td>0.003383</td>\n",
       "      <td>0.004294</td>\n",
       "      <td>0.002212</td>\n",
       "      <td>0.004814</td>\n",
       "      <td>0.006245</td>\n",
       "      <td>0.006245</td>\n",
       "      <td>...</td>\n",
       "      <td>0.004424</td>\n",
       "      <td>0.004163</td>\n",
       "      <td>0.007546</td>\n",
       "      <td>0.006245</td>\n",
       "      <td>0.006245</td>\n",
       "      <td>0.002862</td>\n",
       "      <td>0.004684</td>\n",
       "      <td>0.006505</td>\n",
       "      <td>0.010278</td>\n",
       "      <td>0.007286</td>\n",
       "    </tr>\n",
       "    <tr>\n",
       "      <th>2</th>\n",
       "      <td>0.011104</td>\n",
       "      <td>0.004572</td>\n",
       "      <td>0.005617</td>\n",
       "      <td>0.007838</td>\n",
       "      <td>0.003658</td>\n",
       "      <td>0.006532</td>\n",
       "      <td>0.002351</td>\n",
       "      <td>0.002874</td>\n",
       "      <td>0.005225</td>\n",
       "      <td>0.003919</td>\n",
       "      <td>...</td>\n",
       "      <td>0.004703</td>\n",
       "      <td>0.002221</td>\n",
       "      <td>0.005356</td>\n",
       "      <td>0.004703</td>\n",
       "      <td>0.004964</td>\n",
       "      <td>0.004964</td>\n",
       "      <td>0.004572</td>\n",
       "      <td>0.007707</td>\n",
       "      <td>0.004964</td>\n",
       "      <td>0.005356</td>\n",
       "    </tr>\n",
       "    <tr>\n",
       "      <th>3</th>\n",
       "      <td>0.000392</td>\n",
       "      <td>0.000915</td>\n",
       "      <td>0.001830</td>\n",
       "      <td>0.000261</td>\n",
       "      <td>0.001176</td>\n",
       "      <td>0.004052</td>\n",
       "      <td>0.004052</td>\n",
       "      <td>0.002484</td>\n",
       "      <td>0.002092</td>\n",
       "      <td>0.003922</td>\n",
       "      <td>...</td>\n",
       "      <td>0.003791</td>\n",
       "      <td>0.006536</td>\n",
       "      <td>0.001569</td>\n",
       "      <td>0.001569</td>\n",
       "      <td>0.003007</td>\n",
       "      <td>0.003137</td>\n",
       "      <td>0.001699</td>\n",
       "      <td>0.000392</td>\n",
       "      <td>0.001307</td>\n",
       "      <td>0.001307</td>\n",
       "    </tr>\n",
       "    <tr>\n",
       "      <th>4</th>\n",
       "      <td>0.002611</td>\n",
       "      <td>0.003133</td>\n",
       "      <td>0.001567</td>\n",
       "      <td>0.000783</td>\n",
       "      <td>0.002480</td>\n",
       "      <td>0.004178</td>\n",
       "      <td>0.004439</td>\n",
       "      <td>0.004047</td>\n",
       "      <td>0.001828</td>\n",
       "      <td>0.004830</td>\n",
       "      <td>...</td>\n",
       "      <td>0.002742</td>\n",
       "      <td>0.005091</td>\n",
       "      <td>0.001175</td>\n",
       "      <td>0.004830</td>\n",
       "      <td>0.006658</td>\n",
       "      <td>0.003786</td>\n",
       "      <td>0.002480</td>\n",
       "      <td>0.001175</td>\n",
       "      <td>0.002480</td>\n",
       "      <td>0.001828</td>\n",
       "    </tr>\n",
       "  </tbody>\n",
       "</table>\n",
       "<p>5 rows × 255 columns</p>\n",
       "</div>"
      ],
      "text/plain": [
       "        1         2         3         4         5         6         7    \\\n",
       "0  0.000000  0.000656  0.000525  0.000131  0.001181  0.002361  0.002492   \n",
       "1  0.011189  0.006505  0.008067  0.009498  0.003383  0.004294  0.002212   \n",
       "2  0.011104  0.004572  0.005617  0.007838  0.003658  0.006532  0.002351   \n",
       "3  0.000392  0.000915  0.001830  0.000261  0.001176  0.004052  0.004052   \n",
       "4  0.002611  0.003133  0.001567  0.000783  0.002480  0.004178  0.004439   \n",
       "\n",
       "        8         9         10   ...       246       247       248       249  \\\n",
       "0  0.001049  0.001837  0.002886  ...  0.003148  0.003148  0.001968  0.001312   \n",
       "1  0.004814  0.006245  0.006245  ...  0.004424  0.004163  0.007546  0.006245   \n",
       "2  0.002874  0.005225  0.003919  ...  0.004703  0.002221  0.005356  0.004703   \n",
       "3  0.002484  0.002092  0.003922  ...  0.003791  0.006536  0.001569  0.001569   \n",
       "4  0.004047  0.001828  0.004830  ...  0.002742  0.005091  0.001175  0.004830   \n",
       "\n",
       "        250       251       252       253       254       255  \n",
       "0  0.001968  0.000918  0.000656  0.000000  0.000787  0.000525  \n",
       "1  0.006245  0.002862  0.004684  0.006505  0.010278  0.007286  \n",
       "2  0.004964  0.004964  0.004572  0.007707  0.004964  0.005356  \n",
       "3  0.003007  0.003137  0.001699  0.000392  0.001307  0.001307  \n",
       "4  0.006658  0.003786  0.002480  0.001175  0.002480  0.001828  \n",
       "\n",
       "[5 rows x 255 columns]"
      ]
     },
     "execution_count": 1,
     "metadata": {},
     "output_type": "execute_result"
    }
   ],
   "source": [
    "# Import pandas\n",
    "import pandas as pd\n",
    "from pathlib import Path # for cross platform compatability\n",
    "import sys\n",
    "\n",
    "path_tdb = Path(\"../nb-datasets/kmer/train/2.simple.csv.gz\")\n",
    "path_tdv = Path(\"../nb-datasets/kmer/train/10239.simple.csv.gz\")\n",
    "    \n",
    "# Load in the raw Training data for bacteria\n",
    "train_data_b = pd.read_csv(path_tdb, header=None)\n",
    "\n",
    "# add a label to indicate bacteria = 0 \n",
    "train_data_b['label'] = 0\n",
    "\n",
    "# Load in the raw Training data for viruses\n",
    "train_data_v = pd.read_csv(path_tdv, header=None)\n",
    "\n",
    "# add a label to indicate viruses = 1 \n",
    "train_data_v['label'] = 1\n",
    "\n",
    "# combine the training data together\n",
    "train_data = pd.concat([train_data_b, train_data_v])\n",
    "\n",
    "# Shuffle your training data. This is really important for methods that train in batches\n",
    "train_data.sample(frac=1)\n",
    "\n",
    "# Now we will divide all samples by the sum. This is how short kmer frequencies  are typically reported.\n",
    "train_data_x = train_data.iloc[:,1:256]\n",
    "train_data_scaled=train_data_x.div(train_data_x.sum(axis=1), axis=0)\n",
    "\n",
    "#view the data\n",
    "train_data_scaled.head()"
   ]
  },
  {
   "cell_type": "markdown",
   "metadata": {},
   "source": [
    "Take a look at the univariate distributions of some of the features"
   ]
  },
  {
   "cell_type": "code",
   "execution_count": 3,
   "metadata": {},
   "outputs": [
    {
     "data": {
      "text/plain": [
       "<matplotlib.axes._subplots.AxesSubplot at 0x11a23c080>"
      ]
     },
     "execution_count": 3,
     "metadata": {},
     "output_type": "execute_result"
    },
    {
     "data": {
      "image/png": "[encoded data removed]",
      "text/plain": [
       "<Figure size 432x288 with 1 Axes>"
      ]
     },
     "metadata": {},
     "output_type": "display_data"
    }
   ],
   "source": [
    "# Import plotting library Seaborn\n",
    "import seaborn as sns\n",
    "sns.set_style('darkgrid')\n",
    "\n",
    "# plot some features (change the \"3\" to see more)\n",
    "sns.distplot(train_data_scaled.iloc[:,3])"
   ]
  },
  {
   "cell_type": "markdown",
   "metadata": {},
   "source": [
    "That's not very normal.  Let's see how our classifier performs. "
   ]
  },
  {
   "cell_type": "code",
   "execution_count": 3,
   "metadata": {},
   "outputs": [
    {
     "data": {
      "text/html": [
       "<div>\n",
       "<style scoped>\n",
       "    .dataframe tbody tr th:only-of-type {\n",
       "        vertical-align: middle;\n",
       "    }\n",
       "\n",
       "    .dataframe tbody tr th {\n",
       "        vertical-align: top;\n",
       "    }\n",
       "\n",
       "    .dataframe thead th {\n",
       "        text-align: right;\n",
       "    }\n",
       "</style>\n",
       "<table border=\"1\" class=\"dataframe\">\n",
       "  <thead>\n",
       "    <tr style=\"text-align: right;\">\n",
       "      <th></th>\n",
       "      <th>1</th>\n",
       "      <th>2</th>\n",
       "      <th>3</th>\n",
       "      <th>4</th>\n",
       "      <th>5</th>\n",
       "      <th>6</th>\n",
       "      <th>7</th>\n",
       "      <th>8</th>\n",
       "      <th>9</th>\n",
       "      <th>10</th>\n",
       "      <th>...</th>\n",
       "      <th>246</th>\n",
       "      <th>247</th>\n",
       "      <th>248</th>\n",
       "      <th>249</th>\n",
       "      <th>250</th>\n",
       "      <th>251</th>\n",
       "      <th>252</th>\n",
       "      <th>253</th>\n",
       "      <th>254</th>\n",
       "      <th>255</th>\n",
       "    </tr>\n",
       "  </thead>\n",
       "  <tbody>\n",
       "    <tr>\n",
       "      <th>0</th>\n",
       "      <td>0.013499</td>\n",
       "      <td>0.006160</td>\n",
       "      <td>0.010092</td>\n",
       "      <td>0.010485</td>\n",
       "      <td>0.005898</td>\n",
       "      <td>0.002228</td>\n",
       "      <td>0.004063</td>\n",
       "      <td>0.003277</td>\n",
       "      <td>0.009043</td>\n",
       "      <td>0.009305</td>\n",
       "      <td>...</td>\n",
       "      <td>0.003277</td>\n",
       "      <td>0.001835</td>\n",
       "      <td>0.008388</td>\n",
       "      <td>0.007602</td>\n",
       "      <td>0.010223</td>\n",
       "      <td>0.003277</td>\n",
       "      <td>0.010092</td>\n",
       "      <td>0.010223</td>\n",
       "      <td>0.006815</td>\n",
       "      <td>0.009699</td>\n",
       "    </tr>\n",
       "    <tr>\n",
       "      <th>1</th>\n",
       "      <td>0.010947</td>\n",
       "      <td>0.005083</td>\n",
       "      <td>0.006647</td>\n",
       "      <td>0.006647</td>\n",
       "      <td>0.004301</td>\n",
       "      <td>0.005734</td>\n",
       "      <td>0.005343</td>\n",
       "      <td>0.003128</td>\n",
       "      <td>0.003649</td>\n",
       "      <td>0.003779</td>\n",
       "      <td>...</td>\n",
       "      <td>0.004952</td>\n",
       "      <td>0.003779</td>\n",
       "      <td>0.004170</td>\n",
       "      <td>0.003128</td>\n",
       "      <td>0.004040</td>\n",
       "      <td>0.002737</td>\n",
       "      <td>0.004040</td>\n",
       "      <td>0.005995</td>\n",
       "      <td>0.007038</td>\n",
       "      <td>0.005343</td>\n",
       "    </tr>\n",
       "    <tr>\n",
       "      <th>2</th>\n",
       "      <td>0.014714</td>\n",
       "      <td>0.007422</td>\n",
       "      <td>0.007682</td>\n",
       "      <td>0.010026</td>\n",
       "      <td>0.009635</td>\n",
       "      <td>0.004297</td>\n",
       "      <td>0.003516</td>\n",
       "      <td>0.003516</td>\n",
       "      <td>0.008073</td>\n",
       "      <td>0.004427</td>\n",
       "      <td>...</td>\n",
       "      <td>0.003776</td>\n",
       "      <td>0.003516</td>\n",
       "      <td>0.006380</td>\n",
       "      <td>0.009245</td>\n",
       "      <td>0.007812</td>\n",
       "      <td>0.005339</td>\n",
       "      <td>0.006120</td>\n",
       "      <td>0.008854</td>\n",
       "      <td>0.007943</td>\n",
       "      <td>0.008333</td>\n",
       "    </tr>\n",
       "    <tr>\n",
       "      <th>3</th>\n",
       "      <td>0.004806</td>\n",
       "      <td>0.002988</td>\n",
       "      <td>0.004417</td>\n",
       "      <td>0.004677</td>\n",
       "      <td>0.003507</td>\n",
       "      <td>0.005326</td>\n",
       "      <td>0.003507</td>\n",
       "      <td>0.002338</td>\n",
       "      <td>0.004027</td>\n",
       "      <td>0.004027</td>\n",
       "      <td>...</td>\n",
       "      <td>0.006755</td>\n",
       "      <td>0.004677</td>\n",
       "      <td>0.004547</td>\n",
       "      <td>0.002468</td>\n",
       "      <td>0.003767</td>\n",
       "      <td>0.004547</td>\n",
       "      <td>0.002728</td>\n",
       "      <td>0.002078</td>\n",
       "      <td>0.005976</td>\n",
       "      <td>0.004027</td>\n",
       "    </tr>\n",
       "    <tr>\n",
       "      <th>4</th>\n",
       "      <td>0.032702</td>\n",
       "      <td>0.008409</td>\n",
       "      <td>0.012680</td>\n",
       "      <td>0.022157</td>\n",
       "      <td>0.005339</td>\n",
       "      <td>0.004271</td>\n",
       "      <td>0.001335</td>\n",
       "      <td>0.007208</td>\n",
       "      <td>0.008542</td>\n",
       "      <td>0.007608</td>\n",
       "      <td>...</td>\n",
       "      <td>0.003871</td>\n",
       "      <td>0.001068</td>\n",
       "      <td>0.008409</td>\n",
       "      <td>0.007608</td>\n",
       "      <td>0.006941</td>\n",
       "      <td>0.004672</td>\n",
       "      <td>0.005473</td>\n",
       "      <td>0.022157</td>\n",
       "      <td>0.008809</td>\n",
       "      <td>0.012146</td>\n",
       "    </tr>\n",
       "  </tbody>\n",
       "</table>\n",
       "<p>5 rows × 255 columns</p>\n",
       "</div>"
      ],
      "text/plain": [
       "        1         2         3         4         5         6         7    \\\n",
       "0  0.013499  0.006160  0.010092  0.010485  0.005898  0.002228  0.004063   \n",
       "1  0.010947  0.005083  0.006647  0.006647  0.004301  0.005734  0.005343   \n",
       "2  0.014714  0.007422  0.007682  0.010026  0.009635  0.004297  0.003516   \n",
       "3  0.004806  0.002988  0.004417  0.004677  0.003507  0.005326  0.003507   \n",
       "4  0.032702  0.008409  0.012680  0.022157  0.005339  0.004271  0.001335   \n",
       "\n",
       "        8         9         10   ...       246       247       248       249  \\\n",
       "0  0.003277  0.009043  0.009305  ...  0.003277  0.001835  0.008388  0.007602   \n",
       "1  0.003128  0.003649  0.003779  ...  0.004952  0.003779  0.004170  0.003128   \n",
       "2  0.003516  0.008073  0.004427  ...  0.003776  0.003516  0.006380  0.009245   \n",
       "3  0.002338  0.004027  0.004027  ...  0.006755  0.004677  0.004547  0.002468   \n",
       "4  0.007208  0.008542  0.007608  ...  0.003871  0.001068  0.008409  0.007608   \n",
       "\n",
       "        250       251       252       253       254       255  \n",
       "0  0.010223  0.003277  0.010092  0.010223  0.006815  0.009699  \n",
       "1  0.004040  0.002737  0.004040  0.005995  0.007038  0.005343  \n",
       "2  0.007812  0.005339  0.006120  0.008854  0.007943  0.008333  \n",
       "3  0.003767  0.004547  0.002728  0.002078  0.005976  0.004027  \n",
       "4  0.006941  0.004672  0.005473  0.022157  0.008809  0.012146  \n",
       "\n",
       "[5 rows x 255 columns]"
      ]
     },
     "execution_count": 3,
     "metadata": {},
     "output_type": "execute_result"
    }
   ],
   "source": [
    "# Load the testing data\n",
    "\n",
    "# Load in raw test data for bacteria\n",
    "test_data_b = pd.read_csv(Path(\"../nb-datasets/kmer/test/2.simple.csv.gz\"), header=None)\n",
    "\n",
    "# add a label to indicate bacteria = 0 \n",
    "test_data_b['label'] = 0\n",
    "\n",
    "# Load in raw test data for viruses\n",
    "test_data_v = pd.read_csv(Path(\"../nb-datasets/kmer/test/10239.simple.csv.gz\"), header=None)\n",
    "\n",
    "# add a label to indicate viruses = 1 \n",
    "test_data_v['label'] = 1\n",
    "\n",
    "# combine the test data together\n",
    "test_data = pd.concat([test_data_b, test_data_v])\n",
    "\n",
    "# Shuffle your test data. This only matters if you use a portion of your test data to evaluate performance.\n",
    "test_data.sample(frac=1)\n",
    "\n",
    "# Now we will divide all samples by the sum. this is how short kmer frequencies are typically reported.\n",
    "test_data_x = test_data.iloc[:,1:256]\n",
    "test_data_scaled=test_data_x.div(test_data_x.sum(axis=1), axis=0)\n",
    "\n",
    "#view the data\n",
    "test_data_scaled.head()"
   ]
  },
  {
   "cell_type": "markdown",
   "metadata": {},
   "source": [
    "### Run the model\n",
    "\n",
    "We will fit a logistic regression model with L1 regularization"
   ]
  },
  {
   "cell_type": "code",
   "execution_count": 5,
   "metadata": {},
   "outputs": [
    {
     "name": "stdout",
     "output_type": "stream",
     "text": [
      "Accuracy :\n"
     ]
    },
    {
     "data": {
      "text/plain": [
       "0.9164658634538153"
      ]
     },
     "execution_count": 5,
     "metadata": {},
     "output_type": "execute_result"
    }
   ],
   "source": [
    "from sklearn import linear_model\n",
    "\n",
    "# convert our data into Numpy arrays \n",
    "X = train_data_scaled.to_numpy()\n",
    "y = train_data[\"label\"].to_numpy()\n",
    "\n",
    "# Define the Logistic model parameters\n",
    "clf = linear_model.LogisticRegression(max_iter= 1000, random_state=0, solver='lbfgs', C=1)\n",
    "\n",
    "\n",
    "# Fit the model (here's where the learning learning is happening) \n",
    "\n",
    "clf.fit(X, y)\n",
    "\n",
    "# convert our test data into Numpy arrays\n",
    "testX = test_data_scaled.to_numpy()\n",
    "testy = test_data[\"label\"].to_numpy()\n",
    "\n",
    "# Estimate the accuracy\n",
    "print(\"Accuracy :\")\n",
    "clf.score(testX, testy) "
   ]
  },
  {
   "cell_type": "markdown",
   "metadata": {},
   "source": [
    "That's okay accuracy, Remember though that our data is not a 50% split between viruses and bacteria. The test data has 16,175 bacteria and 7,480 viruses. If we made a classifier that just assigned everything the label of bacteria it would be have an accuracy of \n",
    "\n",
    "$$\\frac{16175}{16175 + 7480} = 0.683$$\n",
    "\n",
    "This is actually a common issue with using accuracy as a metric on imbalanced data. We will discuss better metrics soon.\n"
   ]
  },
  {
   "cell_type": "markdown",
   "metadata": {},
   "source": [
    "## Transforming data \n",
    "\n",
    "The next step is to try to normalize our data in a more sophisticated manner.\n",
    "\n",
    "First think about 4-mers themselves. A few key insights are:\n",
    "\n",
    "1. The total number of kmers does not matter since that just equals the sequence length (except in the accuracy of our frequency measurement).\n",
    "2. The number of every kmer is affected by the number of every other kmer since kmers are mutually exclusive\n",
    "\n",
    "These attributes describe **_compositional count data_**. Compositional data has an established set of transformations that can be used to move it into the real number space expected by most ML models.\n",
    "\n",
    "The general steps are:\n",
    "\n",
    "1. Close the dataset (make is sum to a constant)\n",
    "2. Estimate the value of any 0's in count data\n",
    "4. Take the Isometric log ratio with respect to an orthonormal basis\n",
    "\n"
   ]
  },
  {
   "cell_type": "code",
   "execution_count": 6,
   "metadata": {},
   "outputs": [],
   "source": [
    "# import a Scikit Bio library for compositional data transformations\n",
    "\n",
    "import skbio.stats.composition\n",
    "\n",
    "train_clo = skbio.stats.composition.closure(train_data_x)\n",
    "train_z = skbio.stats.composition.multiplicative_replacement(train_clo)\n",
    "train_ilr = skbio.stats.composition.ilr(train_z)"
   ]
  },
  {
   "cell_type": "markdown",
   "metadata": {},
   "source": [
    "Take a look at the univariate distributions of some of the features"
   ]
  },
  {
   "cell_type": "code",
   "execution_count": 7,
   "metadata": {},
   "outputs": [
    {
     "data": {
      "text/plain": [
       "<matplotlib.axes._subplots.AxesSubplot at 0x11f8ee5f8>"
      ]
     },
     "execution_count": 7,
     "metadata": {},
     "output_type": "execute_result"
    },
    {
     "data": {
      "image/png": "[encoded data removed]",
      "text/plain": [
       "<Figure size 432x288 with 1 Axes>"
      ]
     },
     "metadata": {},
     "output_type": "display_data"
    }
   ],
   "source": [
    "import seaborn as sns\n",
    "sns.set_style('darkgrid')\n",
    "sns.distplot(train_ilr[:,3])"
   ]
  },
  {
   "cell_type": "code",
   "execution_count": 8,
   "metadata": {},
   "outputs": [],
   "source": [
    "# Transform the test data\n",
    "\n",
    "test_clo = skbio.stats.composition.closure(test_data_x)\n",
    "test_z = skbio.stats.composition.multiplicative_replacement(test_clo)\n",
    "test_ilr = skbio.stats.composition.ilr(test_z)"
   ]
  },
  {
   "cell_type": "markdown",
   "metadata": {},
   "source": [
    "Now evaluate the model with the transformed data\n"
   ]
  },
  {
   "cell_type": "code",
   "execution_count": null,
   "metadata": {},
   "outputs": [],
   "source": []
  },
  {
   "cell_type": "code",
   "execution_count": 18,
   "metadata": {},
   "outputs": [
    {
     "name": "stdout",
     "output_type": "stream",
     "text": [
      "Accuracy :\n"
     ]
    },
    {
     "data": {
      "text/plain": [
       "0.9330796871697316"
      ]
     },
     "execution_count": 18,
     "metadata": {},
     "output_type": "execute_result"
    }
   ],
   "source": [
    "from sklearn import linear_model\n",
    "\n",
    "X = train_ilr\n",
    "y = train_data[\"label\"].to_numpy()\n",
    "\n",
    "\n",
    "clf = linear_model.LogisticRegression(max_iter= 1000, random_state=0, solver='lbfgs', C=1)\n",
    "clf.fit(X, y)\n",
    "\n",
    "testX = test_ilr\n",
    "testy = test_data[\"label\"].to_numpy()\n",
    "\n",
    "# Estimate the accuracy\n",
    "print(\"Accuracy :\")\n",
    "clf.score(testX, testy) "
   ]
  },
  {
   "cell_type": "markdown",
   "metadata": {},
   "source": [
    "93% Accuracy, we've improed our classifier by transforming the data\n",
    "## Parameter tuning \n",
    "\n",
    "LEts look at the options you can specify when setting up a [logistic regression model in Scikit](https://scikit-learn.org/stable/modules/generated/sklearn.linear_model.LogisticRegression.html)\n"
   ]
  },
  {
   "cell_type": "markdown",
   "metadata": {},
   "source": [
    "```{python}\n",
    "class sklearn.linear_model.LogisticRegression(penalty=’l2’,\n",
    "                                              dual=False,\n",
    "                                              tol=0.0001, \n",
    "                                              C=1.0, \n",
    "                                              fit_intercept=True, \n",
    "                                              intercept_scaling=1, \n",
    "                                              class_weight=None, \n",
    "                                              random_state=None, \n",
    "                                              solver=’warn’, \n",
    "                                              max_iter=100, \n",
    "                                              multi_class=’warn’, \n",
    "                                              verbose=0, \n",
    "                                              warm_start=False, \n",
    "                                              n_jobs=None, \n",
    "                                              l1_ratio=None)\n",
    "```"
   ]
  },
  {
   "cell_type": "markdown",
   "metadata": {},
   "source": [
    "A couple of these are very important:\n",
    "    \n",
    "**`penalty`**: this controls for overfitting by **_regularization_**\n",
    "\n",
    "There are two basic types of regularization l1 and l2.\n",
    "\n",
    "* l1 (Lasso) regularization: drops some features out of the model\n",
    "* l2 (Ridge) regularization: reduces the importance of some features with a weighting term\n",
    "\n",
    "The parameter `C` controls how strongly the data should be regularized\n",
    "\n",
    "* Smaller values of `c` mean stronger regularization.\n",
    "\n",
    "We can find optimal settings for our dataset by trying multiple settings of parameters using the convenient function `LogisticRegressionCV`.  By setting `Cs=10` we specifying that the solver try 10 different values of C between 1e-4 and 1e4.\n",
    "\n"
   ]
  },
  {
   "cell_type": "code",
   "execution_count": 20,
   "metadata": {},
   "outputs": [
    {
     "name": "stdout",
     "output_type": "stream",
     "text": [
      "Accuracy :\n"
     ]
    },
    {
     "data": {
      "text/plain": [
       "0.9329105897273303"
      ]
     },
     "execution_count": 20,
     "metadata": {},
     "output_type": "execute_result"
    }
   ],
   "source": [
    "\n",
    "clf2 = linear_model.LogisticRegressionCV(Cs=[0.001,.003,.01,.03,0.1,0.3,1, 3, 10],\n",
    "                                         cv=5, \n",
    "                                         max_iter= 1000,\n",
    "                                         random_state=0, \n",
    "                                         solver='lbfgs', \n",
    "                                         n_jobs=-1)\n",
    "\n",
    "clf2.fit(X, y)\n",
    "\n",
    "\n",
    "# Estimate the accuracy\n",
    "print(\"Accuracy :\")\n",
    "clf2.score(testX, testy)"
   ]
  },
  {
   "cell_type": "markdown",
   "metadata": {},
   "source": [
    "In this case the parameter sweep did not improve the classifier the prediction.\n"
   ]
  },
  {
   "cell_type": "markdown",
   "metadata": {},
   "source": [
    "# Classifier evaluation\n",
    "\n",
    "Often it is useful to look at how the tradeoff between identfying a virus and "
   ]
  },
  {
   "cell_type": "code",
   "execution_count": 33,
   "metadata": {},
   "outputs": [
    {
     "data": {
      "text/plain": [
       "Text(0.5, 1.0, '2-class Precision-Recall curve: AP=0.95')"
      ]
     },
     "execution_count": 33,
     "metadata": {},
     "output_type": "execute_result"
    },
    {
     "data": {
      "image/png": "[encoded data removed]",
      "text/plain": [
       "<Figure size 432x288 with 1 Axes>"
      ]
     },
     "metadata": {},
     "output_type": "display_data"
    }
   ],
   "source": [
    "from sklearn.metrics import precision_recall_curve\n",
    "from sklearn.metrics import average_precision_score\n",
    "import matplotlib.pyplot as plt\n",
    "\n",
    "\n",
    "# Retrieve the scores from the logistic regression model\n",
    "y_score = clf.decision_function(testX)\n",
    "\n",
    "# Calulate the aveage precision\n",
    "average_precision = average_precision_score(testy, y_score)\n",
    "\n",
    "precision, recall, _ = precision_recall_curve(testy, y_score)\n",
    "sns.lineplot(recall, precision)\n",
    "plt.xlabel('Recall')\n",
    "plt.ylabel('Precision')\n",
    "plt.title('2-class Precision-Recall curve: AP={0:0.2f}'.format(average_precision))"
   ]
  },
  {
   "cell_type": "code",
   "execution_count": null,
   "metadata": {},
   "outputs": [],
   "source": []
  }
 ],
 "metadata": {
  "kernelspec": {
   "display_name": "Python 3",
   "language": "python",
   "name": "python3"
  },
  "language_info": {
   "codemirror_mode": {
    "name": "ipython",
    "version": 3
   },
   "file_extension": ".py",
   "mimetype": "text/x-python",
   "name": "python",
   "nbconvert_exporter": "python",
   "pygments_lexer": "ipython3",
   "version": "3.7.3"
  }
 },
 "nbformat": 4,
 "nbformat_minor": 2
}
