{
 "cells": [
  {
   "cell_type": "markdown",
   "metadata": {},
   "source": [
    "# Synthesis example: Classifying Viruses and Bacteria\n",
    "\n",
    "Author: Adam Rivers"
   ]
  },
  {
   "cell_type": "markdown",
   "metadata": {
    "collapsed": true
   },
   "source": [
    "## Classifying sequences by their tetranucleotide frequencies\n",
    "\n",
    "In this example we are going to classify Viral and Bacterial nucleotide sequences  using their tetranucleotide frequencies or 4-mers.\n",
    "\n",
    "Kmers are counted by moving a sliding window of length (k=4) along a DNA sequence:\n",
    "\n",
    "```\n",
    "TCGGATTTTTAA\n",
    "TCGA\n",
    " CGAT\n",
    "  GATT\n",
    "   ATTT\n",
    "    TTTT\n",
    "     TTTT\n",
    "      TTTA\n",
    "       TTAA\n",
    "```\n",
    "\n",
    "kmer | count | frequency\n",
    "------|----- | --------\n",
    "TCGA | 1 | 0.125\n",
    "CGAT | 1 | 0.125\n",
    "GATT | 1 | 0.125\n",
    "ATTT | 1 | 0.125\n",
    "TTTT | 2 | 0.250\n",
    "TTTA | 1 | 0.125\n",
    "TTAA | 1 | 0.125\n",
    "\n",
    "## Selecting training data\n",
    "\n",
    "To build a good classifier it is essential to sample training from a population representative of the population to be classified. This is a big challenge when working with sequencing data because the genomes that humans choose to sequence are not representative of the organisms in the environment.  We spend lots of time sequencing the organisms that make us sick.\n",
    "\n",
    "This data has been carefully selected to take this into account.  We have selected about the same number of samples from every different family of bacteria and virus, then we extracted 5000 nucleotide long fragments from each genome.\n",
    "\n",
    "## Information bleed over \n",
    "\n",
    "We know that we never want to evaluate our model using the training data. We always reserve a separate set of test data for evaluation. What happens though if some test data is almost exactly the same as our training data?  Let's say we have a Salmonella genome of the same type  in the test and the train sets? In this case we may artificially inflate the performance of our classifier. \n",
    "\n",
    "To avoid this issue in this example we have made sure that if an example is in the test set no organisms from that taxonomic family  are present in the test set. This gives us a realistic estimate of how well the classifier will perform at classifying a virus at the family level.\n",
    "\n",
    "\n",
    "This is a common mistake in ML methods. Several papers have been published on this exact application that split data randomly or split test and training data by the date they were added to the RefSeq database.\n",
    "\n",
    "\n",
    "\n"
   ]
  },
  {
   "cell_type": "markdown",
   "metadata": {},
   "source": [
    "\n",
    "\n",
    "## Logistic regression model\n",
    "We will use these counts to classify the reads as viral or bacterial using a **_Logistic Regression_**. model (actually a type of classifier not a regressor).\n",
    "\n",
    "\n",
    "First lets load in our testing and training data.\n"
   ]
  },
  {
   "cell_type": "code",
   "execution_count": 1,
   "metadata": {},
   "outputs": [],
   "source": [
    "# Import pandas\n",
    "import pandas as pd\n",
    "   \n",
    "# Load in the raw data for bacteria\n",
    "train_data_b = pd.read_csv(\"../nb-datasets/kmer/train/2.simple.csv.gz\", header=None)\n",
    "test_data_b = pd.read_csv(\"../nb-datasets/kmer/test/2.simple.csv.gz\", header=None)\n",
    "\n",
    "# add a label to indicate bacteria = 0 \n",
    "train_data_b['label'] = 0\n",
    "test_data_b['label'] = 0\n",
    "\n",
    "# Load in the raw Training data for viruses\n",
    "train_data_v = pd.read_csv(\"../nb-datasets/kmer/train/10239.simple.csv.gz\", header=None)\n",
    "test_data_v = pd.read_csv(\"../nb-datasets/kmer/test/10239.simple.csv.gz\", header=None)\n",
    "\n",
    "# add a label to indicate viruses = 1 \n",
    "train_data_v['label'] = 1\n",
    "test_data_v['label'] = 1"
   ]
  },
  {
   "cell_type": "code",
   "execution_count": 2,
   "metadata": {},
   "outputs": [
    {
     "data": {
      "text/html": [
       "<div>\n",
       "<style scoped>\n",
       "    .dataframe tbody tr th:only-of-type {\n",
       "        vertical-align: middle;\n",
       "    }\n",
       "\n",
       "    .dataframe tbody tr th {\n",
       "        vertical-align: top;\n",
       "    }\n",
       "\n",
       "    .dataframe thead th {\n",
       "        text-align: right;\n",
       "    }\n",
       "</style>\n",
       "<table border=\"1\" class=\"dataframe\">\n",
       "  <thead>\n",
       "    <tr style=\"text-align: right;\">\n",
       "      <th></th>\n",
       "      <th>1</th>\n",
       "      <th>2</th>\n",
       "      <th>3</th>\n",
       "      <th>4</th>\n",
       "      <th>5</th>\n",
       "      <th>6</th>\n",
       "      <th>7</th>\n",
       "      <th>8</th>\n",
       "      <th>9</th>\n",
       "      <th>10</th>\n",
       "      <th>...</th>\n",
       "      <th>247</th>\n",
       "      <th>248</th>\n",
       "      <th>249</th>\n",
       "      <th>250</th>\n",
       "      <th>251</th>\n",
       "      <th>252</th>\n",
       "      <th>253</th>\n",
       "      <th>254</th>\n",
       "      <th>255</th>\n",
       "      <th>256</th>\n",
       "    </tr>\n",
       "  </thead>\n",
       "  <tbody>\n",
       "    <tr>\n",
       "      <th>0</th>\n",
       "      <td>0.000000</td>\n",
       "      <td>0.000656</td>\n",
       "      <td>0.000525</td>\n",
       "      <td>0.000131</td>\n",
       "      <td>0.001181</td>\n",
       "      <td>0.002361</td>\n",
       "      <td>0.002492</td>\n",
       "      <td>0.001049</td>\n",
       "      <td>0.001837</td>\n",
       "      <td>0.002886</td>\n",
       "      <td>...</td>\n",
       "      <td>0.003148</td>\n",
       "      <td>0.001968</td>\n",
       "      <td>0.001312</td>\n",
       "      <td>0.001968</td>\n",
       "      <td>0.000918</td>\n",
       "      <td>0.000656</td>\n",
       "      <td>0.000000</td>\n",
       "      <td>0.000787</td>\n",
       "      <td>0.000525</td>\n",
       "      <td>0.000000</td>\n",
       "    </tr>\n",
       "    <tr>\n",
       "      <th>1</th>\n",
       "      <td>0.011065</td>\n",
       "      <td>0.006433</td>\n",
       "      <td>0.007977</td>\n",
       "      <td>0.009393</td>\n",
       "      <td>0.003345</td>\n",
       "      <td>0.004246</td>\n",
       "      <td>0.002187</td>\n",
       "      <td>0.004761</td>\n",
       "      <td>0.006176</td>\n",
       "      <td>0.006176</td>\n",
       "      <td>...</td>\n",
       "      <td>0.004117</td>\n",
       "      <td>0.007463</td>\n",
       "      <td>0.006176</td>\n",
       "      <td>0.006176</td>\n",
       "      <td>0.002831</td>\n",
       "      <td>0.004632</td>\n",
       "      <td>0.006433</td>\n",
       "      <td>0.010165</td>\n",
       "      <td>0.007205</td>\n",
       "      <td>0.011065</td>\n",
       "    </tr>\n",
       "    <tr>\n",
       "      <th>2</th>\n",
       "      <td>0.010982</td>\n",
       "      <td>0.004522</td>\n",
       "      <td>0.005556</td>\n",
       "      <td>0.007752</td>\n",
       "      <td>0.003618</td>\n",
       "      <td>0.006460</td>\n",
       "      <td>0.002326</td>\n",
       "      <td>0.002842</td>\n",
       "      <td>0.005168</td>\n",
       "      <td>0.003876</td>\n",
       "      <td>...</td>\n",
       "      <td>0.002196</td>\n",
       "      <td>0.005297</td>\n",
       "      <td>0.004651</td>\n",
       "      <td>0.004910</td>\n",
       "      <td>0.004910</td>\n",
       "      <td>0.004522</td>\n",
       "      <td>0.007623</td>\n",
       "      <td>0.004910</td>\n",
       "      <td>0.005297</td>\n",
       "      <td>0.010982</td>\n",
       "    </tr>\n",
       "    <tr>\n",
       "      <th>3</th>\n",
       "      <td>0.000392</td>\n",
       "      <td>0.000915</td>\n",
       "      <td>0.001829</td>\n",
       "      <td>0.000261</td>\n",
       "      <td>0.001176</td>\n",
       "      <td>0.004051</td>\n",
       "      <td>0.004051</td>\n",
       "      <td>0.002483</td>\n",
       "      <td>0.002091</td>\n",
       "      <td>0.003920</td>\n",
       "      <td>...</td>\n",
       "      <td>0.006533</td>\n",
       "      <td>0.001568</td>\n",
       "      <td>0.001568</td>\n",
       "      <td>0.003005</td>\n",
       "      <td>0.003136</td>\n",
       "      <td>0.001699</td>\n",
       "      <td>0.000392</td>\n",
       "      <td>0.001307</td>\n",
       "      <td>0.001307</td>\n",
       "      <td>0.000392</td>\n",
       "    </tr>\n",
       "    <tr>\n",
       "      <th>4</th>\n",
       "      <td>0.002604</td>\n",
       "      <td>0.003125</td>\n",
       "      <td>0.001563</td>\n",
       "      <td>0.000781</td>\n",
       "      <td>0.002474</td>\n",
       "      <td>0.004167</td>\n",
       "      <td>0.004427</td>\n",
       "      <td>0.004036</td>\n",
       "      <td>0.001823</td>\n",
       "      <td>0.004818</td>\n",
       "      <td>...</td>\n",
       "      <td>0.005078</td>\n",
       "      <td>0.001172</td>\n",
       "      <td>0.004818</td>\n",
       "      <td>0.006641</td>\n",
       "      <td>0.003776</td>\n",
       "      <td>0.002474</td>\n",
       "      <td>0.001172</td>\n",
       "      <td>0.002474</td>\n",
       "      <td>0.001823</td>\n",
       "      <td>0.002604</td>\n",
       "    </tr>\n",
       "  </tbody>\n",
       "</table>\n",
       "<p>5 rows × 256 columns</p>\n",
       "</div>"
      ],
      "text/plain": [
       "        1         2         3         4         5         6         7    \\\n",
       "0  0.000000  0.000656  0.000525  0.000131  0.001181  0.002361  0.002492   \n",
       "1  0.011065  0.006433  0.007977  0.009393  0.003345  0.004246  0.002187   \n",
       "2  0.010982  0.004522  0.005556  0.007752  0.003618  0.006460  0.002326   \n",
       "3  0.000392  0.000915  0.001829  0.000261  0.001176  0.004051  0.004051   \n",
       "4  0.002604  0.003125  0.001563  0.000781  0.002474  0.004167  0.004427   \n",
       "\n",
       "        8         9         10   ...       247       248       249       250  \\\n",
       "0  0.001049  0.001837  0.002886  ...  0.003148  0.001968  0.001312  0.001968   \n",
       "1  0.004761  0.006176  0.006176  ...  0.004117  0.007463  0.006176  0.006176   \n",
       "2  0.002842  0.005168  0.003876  ...  0.002196  0.005297  0.004651  0.004910   \n",
       "3  0.002483  0.002091  0.003920  ...  0.006533  0.001568  0.001568  0.003005   \n",
       "4  0.004036  0.001823  0.004818  ...  0.005078  0.001172  0.004818  0.006641   \n",
       "\n",
       "        251       252       253       254       255       256  \n",
       "0  0.000918  0.000656  0.000000  0.000787  0.000525  0.000000  \n",
       "1  0.002831  0.004632  0.006433  0.010165  0.007205  0.011065  \n",
       "2  0.004910  0.004522  0.007623  0.004910  0.005297  0.010982  \n",
       "3  0.003136  0.001699  0.000392  0.001307  0.001307  0.000392  \n",
       "4  0.003776  0.002474  0.001172  0.002474  0.001823  0.002604  \n",
       "\n",
       "[5 rows x 256 columns]"
      ]
     },
     "execution_count": 2,
     "metadata": {},
     "output_type": "execute_result"
    }
   ],
   "source": [
    "\n",
    "# combine the bacterial and viral data together\n",
    "train_data = pd.concat([train_data_b, train_data_v])\n",
    "test_data = pd.concat([test_data_b, test_data_v])\n",
    "\n",
    "# Shuffle your training data. This is really important for methods that train in batches\n",
    "train_data.sample(frac=1)\n",
    "test_data.sample(frac=1)\n",
    "\n",
    "# select just the features\n",
    "train_data_x = train_data.iloc[:,1:257]\n",
    "test_data_x = test_data.iloc[:,1:257]\n",
    "\n",
    "# Normalize each row to a total of 1 by dividing each value by the sum\n",
    "train_data_scaled=train_data_x.div(train_data_x.sum(axis=1), axis=0)\n",
    "test_data_scaled=test_data_x.div(test_data_x.sum(axis=1), axis=0)\n",
    "\n",
    "\n",
    "#view the training data\n",
    "train_data_scaled.head()"
   ]
  },
  {
   "cell_type": "code",
   "execution_count": 3,
   "metadata": {},
   "outputs": [
    {
     "data": {
      "text/html": [
       "<div>\n",
       "<style scoped>\n",
       "    .dataframe tbody tr th:only-of-type {\n",
       "        vertical-align: middle;\n",
       "    }\n",
       "\n",
       "    .dataframe tbody tr th {\n",
       "        vertical-align: top;\n",
       "    }\n",
       "\n",
       "    .dataframe thead th {\n",
       "        text-align: right;\n",
       "    }\n",
       "</style>\n",
       "<table border=\"1\" class=\"dataframe\">\n",
       "  <thead>\n",
       "    <tr style=\"text-align: right;\">\n",
       "      <th></th>\n",
       "      <th>1</th>\n",
       "      <th>2</th>\n",
       "      <th>3</th>\n",
       "      <th>4</th>\n",
       "      <th>5</th>\n",
       "      <th>6</th>\n",
       "      <th>7</th>\n",
       "      <th>8</th>\n",
       "      <th>9</th>\n",
       "      <th>10</th>\n",
       "      <th>...</th>\n",
       "      <th>247</th>\n",
       "      <th>248</th>\n",
       "      <th>249</th>\n",
       "      <th>250</th>\n",
       "      <th>251</th>\n",
       "      <th>252</th>\n",
       "      <th>253</th>\n",
       "      <th>254</th>\n",
       "      <th>255</th>\n",
       "      <th>256</th>\n",
       "    </tr>\n",
       "  </thead>\n",
       "  <tbody>\n",
       "    <tr>\n",
       "      <th>0</th>\n",
       "      <td>0.013320</td>\n",
       "      <td>0.006078</td>\n",
       "      <td>0.009957</td>\n",
       "      <td>0.010345</td>\n",
       "      <td>0.005819</td>\n",
       "      <td>0.002198</td>\n",
       "      <td>0.004009</td>\n",
       "      <td>0.003233</td>\n",
       "      <td>0.008923</td>\n",
       "      <td>0.009181</td>\n",
       "      <td>...</td>\n",
       "      <td>0.001810</td>\n",
       "      <td>0.008276</td>\n",
       "      <td>0.007500</td>\n",
       "      <td>0.010087</td>\n",
       "      <td>0.003233</td>\n",
       "      <td>0.009957</td>\n",
       "      <td>0.010087</td>\n",
       "      <td>0.006724</td>\n",
       "      <td>0.009569</td>\n",
       "      <td>0.013320</td>\n",
       "    </tr>\n",
       "    <tr>\n",
       "      <th>1</th>\n",
       "      <td>0.010829</td>\n",
       "      <td>0.005028</td>\n",
       "      <td>0.006575</td>\n",
       "      <td>0.006575</td>\n",
       "      <td>0.004254</td>\n",
       "      <td>0.005672</td>\n",
       "      <td>0.005286</td>\n",
       "      <td>0.003094</td>\n",
       "      <td>0.003610</td>\n",
       "      <td>0.003739</td>\n",
       "      <td>...</td>\n",
       "      <td>0.003739</td>\n",
       "      <td>0.004125</td>\n",
       "      <td>0.003094</td>\n",
       "      <td>0.003996</td>\n",
       "      <td>0.002707</td>\n",
       "      <td>0.003996</td>\n",
       "      <td>0.005930</td>\n",
       "      <td>0.006961</td>\n",
       "      <td>0.005286</td>\n",
       "      <td>0.010829</td>\n",
       "    </tr>\n",
       "    <tr>\n",
       "      <th>2</th>\n",
       "      <td>0.014500</td>\n",
       "      <td>0.007314</td>\n",
       "      <td>0.007571</td>\n",
       "      <td>0.009881</td>\n",
       "      <td>0.009496</td>\n",
       "      <td>0.004235</td>\n",
       "      <td>0.003465</td>\n",
       "      <td>0.003465</td>\n",
       "      <td>0.007956</td>\n",
       "      <td>0.004363</td>\n",
       "      <td>...</td>\n",
       "      <td>0.003465</td>\n",
       "      <td>0.006288</td>\n",
       "      <td>0.009111</td>\n",
       "      <td>0.007699</td>\n",
       "      <td>0.005261</td>\n",
       "      <td>0.006031</td>\n",
       "      <td>0.008726</td>\n",
       "      <td>0.007828</td>\n",
       "      <td>0.008212</td>\n",
       "      <td>0.014500</td>\n",
       "    </tr>\n",
       "    <tr>\n",
       "      <th>3</th>\n",
       "      <td>0.004783</td>\n",
       "      <td>0.002973</td>\n",
       "      <td>0.004396</td>\n",
       "      <td>0.004654</td>\n",
       "      <td>0.003491</td>\n",
       "      <td>0.005301</td>\n",
       "      <td>0.003491</td>\n",
       "      <td>0.002327</td>\n",
       "      <td>0.004008</td>\n",
       "      <td>0.004008</td>\n",
       "      <td>...</td>\n",
       "      <td>0.004654</td>\n",
       "      <td>0.004525</td>\n",
       "      <td>0.002456</td>\n",
       "      <td>0.003749</td>\n",
       "      <td>0.004525</td>\n",
       "      <td>0.002715</td>\n",
       "      <td>0.002069</td>\n",
       "      <td>0.005947</td>\n",
       "      <td>0.004008</td>\n",
       "      <td>0.004783</td>\n",
       "    </tr>\n",
       "    <tr>\n",
       "      <th>4</th>\n",
       "      <td>0.031666</td>\n",
       "      <td>0.008143</td>\n",
       "      <td>0.012279</td>\n",
       "      <td>0.021455</td>\n",
       "      <td>0.005170</td>\n",
       "      <td>0.004136</td>\n",
       "      <td>0.001292</td>\n",
       "      <td>0.006979</td>\n",
       "      <td>0.008272</td>\n",
       "      <td>0.007367</td>\n",
       "      <td>...</td>\n",
       "      <td>0.001034</td>\n",
       "      <td>0.008143</td>\n",
       "      <td>0.007367</td>\n",
       "      <td>0.006721</td>\n",
       "      <td>0.004524</td>\n",
       "      <td>0.005299</td>\n",
       "      <td>0.021455</td>\n",
       "      <td>0.008530</td>\n",
       "      <td>0.011762</td>\n",
       "      <td>0.031666</td>\n",
       "    </tr>\n",
       "  </tbody>\n",
       "</table>\n",
       "<p>5 rows × 256 columns</p>\n",
       "</div>"
      ],
      "text/plain": [
       "        1         2         3         4         5         6         7    \\\n",
       "0  0.013320  0.006078  0.009957  0.010345  0.005819  0.002198  0.004009   \n",
       "1  0.010829  0.005028  0.006575  0.006575  0.004254  0.005672  0.005286   \n",
       "2  0.014500  0.007314  0.007571  0.009881  0.009496  0.004235  0.003465   \n",
       "3  0.004783  0.002973  0.004396  0.004654  0.003491  0.005301  0.003491   \n",
       "4  0.031666  0.008143  0.012279  0.021455  0.005170  0.004136  0.001292   \n",
       "\n",
       "        8         9         10   ...       247       248       249       250  \\\n",
       "0  0.003233  0.008923  0.009181  ...  0.001810  0.008276  0.007500  0.010087   \n",
       "1  0.003094  0.003610  0.003739  ...  0.003739  0.004125  0.003094  0.003996   \n",
       "2  0.003465  0.007956  0.004363  ...  0.003465  0.006288  0.009111  0.007699   \n",
       "3  0.002327  0.004008  0.004008  ...  0.004654  0.004525  0.002456  0.003749   \n",
       "4  0.006979  0.008272  0.007367  ...  0.001034  0.008143  0.007367  0.006721   \n",
       "\n",
       "        251       252       253       254       255       256  \n",
       "0  0.003233  0.009957  0.010087  0.006724  0.009569  0.013320  \n",
       "1  0.002707  0.003996  0.005930  0.006961  0.005286  0.010829  \n",
       "2  0.005261  0.006031  0.008726  0.007828  0.008212  0.014500  \n",
       "3  0.004525  0.002715  0.002069  0.005947  0.004008  0.004783  \n",
       "4  0.004524  0.005299  0.021455  0.008530  0.011762  0.031666  \n",
       "\n",
       "[5 rows x 256 columns]"
      ]
     },
     "execution_count": 3,
     "metadata": {},
     "output_type": "execute_result"
    }
   ],
   "source": [
    "#view the test data\n",
    "test_data_scaled.head()"
   ]
  },
  {
   "cell_type": "markdown",
   "metadata": {},
   "source": [
    "Take a look at the univariate distributions of some of the features"
   ]
  },
  {
   "cell_type": "code",
   "execution_count": 4,
   "metadata": {},
   "outputs": [
    {
     "data": {
      "text/plain": [
       "<matplotlib.axes._subplots.AxesSubplot at 0x1151c2320>"
      ]
     },
     "execution_count": 4,
     "metadata": {},
     "output_type": "execute_result"
    }
   ],
   "source": [
    "# Import plotting library Seaborn\n",
    "import seaborn as sns\n",
    "sns.set_style('darkgrid')\n",
    "\n",
    "# plot some features (change the \"3\" to see more)\n",
    "sns.distplot(train_data_scaled.iloc[:,3])"
   ]
  },
  {
   "cell_type": "markdown",
   "metadata": {},
   "source": [
    "That's not very normal.  Let's see how our classifier performs. "
   ]
  },
  {
   "cell_type": "markdown",
   "metadata": {},
   "source": [
    "### Run the model\n",
    "\n",
    "We will fit a logistic regression model with L1 regularization"
   ]
  },
  {
   "cell_type": "code",
   "execution_count": 5,
   "metadata": {},
   "outputs": [
    {
     "name": "stdout",
     "output_type": "stream",
     "text": [
      "Test Accuracy: \n"
     ]
    },
    {
     "data": {
      "text/plain": [
       "0.9191291481716339"
      ]
     },
     "execution_count": 5,
     "metadata": {},
     "output_type": "execute_result"
    }
   ],
   "source": [
    "from sklearn import linear_model\n",
    "\n",
    "# convert our data into Numpy arrays \n",
    "X = train_data_scaled.to_numpy()\n",
    "y = train_data[\"label\"].to_numpy()\n",
    "\n",
    "# Define the Logistic model parameters\n",
    "model1 = linear_model.LogisticRegression(max_iter= 1000, random_state=0, solver='lbfgs', C=1)\n",
    "\n",
    "\n",
    "# Fit the model (here's where the learning learning is happening) \n",
    "\n",
    "model1.fit(X, y)\n",
    "\n",
    "# convert our test data into Numpy arrays\n",
    "testX = test_data_scaled.to_numpy()\n",
    "testy = test_data[\"label\"].to_numpy()\n",
    "\n",
    "# Estimate the accuracy\n",
    "print(\"Test Accuracy: \")\n",
    "model1.score(testX, testy) "
   ]
  },
  {
   "cell_type": "markdown",
   "metadata": {},
   "source": [
    "That's pretty good accuracy, Remember though that our data is not a 50% split between viruses and bacteria. The test data has 16,175 bacteria and 7,480 viruses. If we made a classifier that just assigned everything the label of bacteria it would be have an accuracy of \n",
    "\n",
    "$$\\frac{16175}{16175 + 7480} = 0.683$$\n",
    "\n",
    "This is actually a common issue with using accuracy as a metric on imbalanced data. We will discuss better metrics soon.\n"
   ]
  },
  {
   "cell_type": "markdown",
   "metadata": {},
   "source": [
    "## Transform the data\n",
    "\n",
    "The next step is to try to normalize our data in a more sophisticated manner.\n",
    "\n",
    "First think about 4-mers themselves. A few key insights are:\n",
    "\n",
    "1. The total number of kmers does not matter since that just equals the sequence length (except in the accuracy of our frequency measurement).\n",
    "2. The number of every kmer is affected by the number of every other kmer since kmers are mutually exclusive\n",
    "\n",
    "These attributes describe **_compositional count data_**. Compositional data has an established set of transformations that can be used to move it into the real number space expected by most ML models.\n",
    "\n",
    "The general steps are:\n",
    "\n",
    "1. Close the dataset (make is sum to a constant)\n",
    "2. Estimate the value of any 0's in count data\n",
    "4. Take the Centered log ratio\n",
    "\n"
   ]
  },
  {
   "cell_type": "code",
   "execution_count": 6,
   "metadata": {},
   "outputs": [],
   "source": [
    "# import a subset of functions from  Scikit bio\n",
    "import comp\n",
    "\n",
    "# First repalce any 0's with small values\n",
    "train_z = comp.multiplicative_replacement(X)\n",
    "test_z = comp.multiplicative_replacement(testX)\n",
    "# Calculate a centered log ratio for each sample\n",
    "train_clr = comp.clr(train_z)\n",
    "test_clr = comp.clr(test_z)"
   ]
  },
  {
   "cell_type": "code",
   "execution_count": 7,
   "metadata": {},
   "outputs": [],
   "source": [
    "#Takescaled data"
   ]
  },
  {
   "cell_type": "markdown",
   "metadata": {},
   "source": [
    "Take a look at the univariate distributions of some of the features"
   ]
  },
  {
   "cell_type": "code",
   "execution_count": 8,
   "metadata": {},
   "outputs": [
    {
     "data": {
      "text/plain": [
       "<matplotlib.axes._subplots.AxesSubplot at 0x11120ca20>"
      ]
     },
     "execution_count": 8,
     "metadata": {},
     "output_type": "execute_result"
    },
    {
     "data": {
      "image/png": "[encoded data removed]",
      "text/plain": [
       "<Figure size 432x288 with 1 Axes>"
      ]
     },
     "metadata": {},
     "output_type": "display_data"
    }
   ],
   "source": [
    "import seaborn as sns\n",
    "sns.set_style('darkgrid')\n",
    "sns.distplot(train_clr[:,3])"
   ]
  },
  {
   "cell_type": "markdown",
   "metadata": {},
   "source": [
    "## Train the model again\n",
    "\n",
    "Now evaluate the model with the transformed data\n"
   ]
  },
  {
   "cell_type": "code",
   "execution_count": 9,
   "metadata": {},
   "outputs": [
    {
     "name": "stdout",
     "output_type": "stream",
     "text": [
      "Accuracy :\n"
     ]
    },
    {
     "data": {
      "text/plain": [
       "0.9330796871697316"
      ]
     },
     "execution_count": 9,
     "metadata": {},
     "output_type": "execute_result"
    }
   ],
   "source": [
    "from sklearn import linear_model\n",
    "\n",
    "\n",
    "\n",
    "model2 = linear_model.LogisticRegression(max_iter= 1000, random_state=0, solver='lbfgs', C=1)\n",
    "model2.fit(train_clr, y)\n",
    "\n",
    "\n",
    "# Estimate the accuracy\n",
    "print(\"Accuracy :\")\n",
    "model2.score(test_clr, testy) "
   ]
  },
  {
   "cell_type": "markdown",
   "metadata": {},
   "source": [
    "93% Accuracy, we've improved our classifier by transforming the data\n",
    "## Parameter tuning \n",
    "\n",
    "LEts look at the options you can specify when setting up a [logistic regression model in Scikit](https://scikit-learn.org/stable/modules/generated/sklearn.linear_model.LogisticRegression.html)\n"
   ]
  },
  {
   "cell_type": "markdown",
   "metadata": {},
   "source": [
    "```{python}\n",
    "class sklearn.linear_model.LogisticRegression(penalty=’l2’,\n",
    "                                              dual=False,\n",
    "                                              tol=0.0001, \n",
    "                                              C=1.0, \n",
    "                                              fit_intercept=True, \n",
    "                                              intercept_scaling=1, \n",
    "                                              class_weight=None, \n",
    "                                              random_state=None, \n",
    "                                              solver=’warn’, \n",
    "                                              max_iter=100, \n",
    "                                              multi_class=’warn’, \n",
    "                                              verbose=0, \n",
    "                                              warm_start=False, \n",
    "                                              n_jobs=None, \n",
    "                                              l1_ratio=None)\n",
    "```"
   ]
  },
  {
   "cell_type": "markdown",
   "metadata": {},
   "source": [
    "#### A couple of these are very important:\n",
    "    \n",
    "**`penalty`**: this controls for overfitting by **_regularization_**\n",
    "\n",
    "There are two basic types of regularization l1 and l2.\n",
    "\n",
    "* l1 (Lasso) regularization: drops some features out of the model\n",
    "* l2 (Ridge) regularization: reduces the importance of some features with a weighting term\n",
    "\n",
    "The parameter `C` controls how strongly the data should be regularized\n",
    "\n",
    "* Smaller values of `c` mean stronger regularization.\n",
    "\n",
    "We can find optimal settings for our dataset by trying multiple settings of parameters using the convenient function `LogisticRegressionCV`.  By setting `Cs=10` we specifying that the solver try 10 different values of C between 1e-4 and 1e4.  By setting a list of values for C we evaluate each value in the list.\n",
    "\n"
   ]
  },
  {
   "cell_type": "code",
   "execution_count": 10,
   "metadata": {},
   "outputs": [
    {
     "data": {
      "text/plain": [
       "LogisticRegressionCV(Cs=[0.01, 0.03, 0.1, 0.3, 1, 3, 10], class_weight=None,\n",
       "                     cv=5, dual=False, fit_intercept=True,\n",
       "                     intercept_scaling=1.0, l1_ratios=None, max_iter=1000,\n",
       "                     multi_class='warn', n_jobs=-1, penalty='l2',\n",
       "                     random_state=0, refit=True, scoring=None, solver='lbfgs',\n",
       "                     tol=0.0001, verbose=0)"
      ]
     },
     "execution_count": 10,
     "metadata": {},
     "output_type": "execute_result"
    }
   ],
   "source": [
    "\n",
    "model3 = linear_model.LogisticRegressionCV(Cs=[.01,.03,0.1,0.3,1, 3, 10],\n",
    "                                          cv=5, \n",
    "                                          max_iter= 1000,\n",
    "                                          random_state=0, \n",
    "                                          solver='lbfgs', \n",
    "                                          n_jobs=-1)\n",
    "\n",
    "model3.fit(train_clr, y)"
   ]
  },
  {
   "cell_type": "code",
   "execution_count": 11,
   "metadata": {},
   "outputs": [
    {
     "name": "stdout",
     "output_type": "stream",
     "text": [
      "Accuracy :\n"
     ]
    },
    {
     "data": {
      "text/plain": [
       "0.9328683153667301"
      ]
     },
     "execution_count": 11,
     "metadata": {},
     "output_type": "execute_result"
    }
   ],
   "source": [
    "# Estimate the accuracy\n",
    "print(\"Accuracy :\")\n",
    "model3.score(test_clr, testy)"
   ]
  },
  {
   "cell_type": "markdown",
   "metadata": {},
   "source": [
    "In this case the parameter sweep did not improve the classifier the prediction.\n"
   ]
  },
  {
   "cell_type": "markdown",
   "metadata": {},
   "source": [
    "# Classifier evaluation\n",
    "\n",
    "Often it is useful to look at how the tradeoff between identfying a virus and "
   ]
  },
  {
   "cell_type": "code",
   "execution_count": 13,
   "metadata": {},
   "outputs": [
    {
     "data": {
      "text/plain": [
       "Text(0.5, 1.0, '2-class Precision-Recall curve: AP=0.95')"
      ]
     },
     "execution_count": 13,
     "metadata": {},
     "output_type": "execute_result"
    },
    {
     "data": {
      "image/png": "[encoded data removed]",
      "text/plain": [
       "<Figure size 432x288 with 1 Axes>"
      ]
     },
     "metadata": {},
     "output_type": "display_data"
    }
   ],
   "source": [
    "from sklearn.metrics import precision_recall_curve\n",
    "from sklearn.metrics import average_precision_score\n",
    "import matplotlib.pyplot as plt\n",
    "\n",
    "\n",
    "# Retrieve the scores from the logistic regression model\n",
    "y_score = model3.decision_function(test_clr)\n",
    "\n",
    "# Calulate the aveage precision\n",
    "average_precision = average_precision_score(testy, y_score)\n",
    "\n",
    "precision, recall, _ = precision_recall_curve(testy, y_score)\n",
    "sns.lineplot(recall, precision)\n",
    "plt.xlabel('Recall')\n",
    "plt.ylabel('Precision')\n",
    "plt.title('2-class Precision-Recall curve: AP={0:0.2f}'.format(average_precision))"
   ]
  },
  {
   "cell_type": "code",
   "execution_count": 15,
   "metadata": {},
   "outputs": [
    {
     "data": {
      "text/plain": [
       "<matplotlib.axes._subplots.AxesSubplot at 0x11e37a828>"
      ]
     },
     "execution_count": 15,
     "metadata": {},
     "output_type": "execute_result"
    },
    {
     "data": {
      "image/png": "[encoded data removed]",
      "text/plain": [
       "<Figure size 432x288 with 1 Axes>"
      ]
     },
     "metadata": {},
     "output_type": "display_data"
    }
   ],
   "source": [
    "sns.distplot(model2.coef_)"
   ]
  },
  {
   "cell_type": "markdown",
   "metadata": {},
   "source": [
    "## Predict the values for a real sample"
   ]
  },
  {
   "cell_type": "code",
   "execution_count": 16,
   "metadata": {},
   "outputs": [],
   "source": [
    "# predict the taxonomy for two viruses\n",
    "import numpy as np\n",
    "seqs = np.array([[55.0,31.0,30.0,40.0,41.0,29.0,12.0,18.0,26.0,15.0,18.0,23.0,27.0,30.0,32.0,14.0,35.0,33.0,29.0,41.0,57.0,52.0,24.0,30.0,23.0,13.0,32.0,5.0,10.0,26.0,31.0,23.0,31.0,35.0,25.0,30.0,25.0,18.0,23.0,14.0,28.0,21.0,27.0,30.0,24.0,22.0,26.0,18.0,27.0,23.0,22.0,25.0,61.0,46.0,37.0,30.0,56.0,23.0,61.0,41.0,13.0,26.0,38.0,40.0,30.0,37.0,17.0,38.0,43.0,62.0,38.0,26.0,28.0,24.0,37.0,31.0,28.0,61.0,30.0,32.0,31.0,63.0,40.0,61.0,57.0,72.0,52.0,27.0,39.0,23.0,18.0,32.0,9.0,42.0,37.0,18.0,25.0,20.0,43.0,37.0,16.0,28.0,13.0,23.0,26.0,28.0,52.0,24.0,11.0,17.0,38.0,12.0,5.0,21.0,3.0,22.0,38.0,49.0,43.0,25.0,29.0,22.0,40.0,29.0,8.0,27.0,17.0,30.0,44.0,17.0,27.0,26.0,30.0,40.0,17.0,22.0,42.0,45.0,42.0,26.0,47.0,18.0,61.0,30.0,17.0,40.0,22.0,23.0,34.0,36.0,28.0,21.0,35.0,11.0,23.0,13.0,10.0,45.0,24.0,15.0,33.0,22.0,49.0,46.0,29.0,22.0,28.0,18.0,49.0,36.0,72.0,52.0,32.0,40.0,62.0,29.0,21.0,13.0,21.0,23.0,32.0,22.0,20.0,35.0,32.0,40.0,63.0,33.0,15.0,17.0,37.0,31.0,27.0,15.0,8.0,13.0,24.0,32.0,11.0,24.0,25.0,10.0,9.0,10.0,10.0,47.0,28.0,27.0,39.0,32.0,29.0,56.0,47.0,49.0,26.0,28.0,14.0,35.0,39.0,23.0,25.0,42.0,28.0,26.0,25.0,32.0,38.0,61.0,16.0,29.0,16.0,25.0,47.0,34.0,57.0,57.0,24.0,30.0,43.0,41.0,5.0,21.0,5.0,27.0,25.0,33.0,25.0,31.0,39.0,17.0,31.0,35.0,27.0,44.0,30.0,55.0],\n",
    "                 [110.0,59.0,61.0,98.0,56.0,35.0,16.0,52.0,77.0,28.0,24.0,57.0,68.0,51.0,66.0,44.0,64.0,18.0,31.0,45.0,40.0,14.0,8.0,11.0,10.0,10.0,7.0,6.0,14.0,19.0,31.0,57.0,72.0,20.0,29.0,61.0,38.0,11.0,8.0,7.0,23.0,13.0,8.0,11.0,26.0,18.0,25.0,52.0,62.0,33.0,21.0,33.0,66.0,27.0,9.0,61.0,58.0,37.0,34.0,45.0,37.0,57.0,81.0,98.0,93.0,44.0,43.0,81.0,25.0,16.0,4.0,25.0,46.0,21.0,14.0,31.0,34.0,48.0,13.0,66.0,56.0,19.0,18.0,34.0,14.0,3.0,4.0,8.0,12.0,2.0,4.0,7.0,7.0,10.0,14.0,24.0,29.0,4.0,13.0,9.0,14.0,5.0,1.0,8.0,14.0,3.0,4.0,8.0,9.0,10.0,4.0,16.0,13.0,18.0,1.0,21.0,19.0,16.0,13.0,29.0,32.0,31.0,18.0,31.0,22.0,60.0,43.0,61.0,78.0,32.0,60.0,57.0,32.0,11.0,10.0,18.0,32.0,16.0,10.0,19.0,48.0,8.0,48.0,51.0,47.0,13.0,31.0,37.0,23.0,3.0,3.0,13.0,13.0,2.0,2.0,10.0,6.0,16.0,21.0,28.0,39.0,15.0,16.0,27.0,20.0,3.0,5.0,11.0,10.0,3.0,3.0,14.0,11.0,11.0,16.0,35.0,25.0,7.0,18.0,33.0,32.0,15.0,4.0,20.0,20.0,13.0,19.0,18.0,24.0,32.0,44.0,59.0,47.0,24.0,22.0,37.0,45.0,11.0,9.0,26.0,27.0,6.0,7.0,14.0,16.0,48.0,34.0,68.0,94.0,20.0,32.0,58.0,50.0,10.0,14.0,23.0,10.0,13.0,12.0,10.0,27.0,32.0,46.0,77.0,87.0,32.0,19.0,66.0,28.0,20.0,14.0,38.0,50.0,23.0,14.0,40.0,45.0,32.0,25.0,56.0,15.0,25.0,13.0,62.0,87.0,39.0,29.0,72.0,94.0,47.0,56.0,64.0,47.0,78.0,93.0,110.0]])"
   ]
  },
  {
   "cell_type": "code",
   "execution_count": 17,
   "metadata": {},
   "outputs": [
    {
     "data": {
      "text/plain": [
       "array([[0.2342229, 0.7657771],\n",
       "       [0.0244587, 0.9755413]])"
      ]
     },
     "execution_count": 17,
     "metadata": {},
     "output_type": "execute_result"
    }
   ],
   "source": [
    "sample_z = comp.multiplicative_replacement(seqs)\n",
    "sample_clr = comp.clr(sample_z)\n",
    "\n",
    "model2.predict_proba(sample_clr)"
   ]
  },
  {
   "cell_type": "code",
   "execution_count": null,
   "metadata": {},
   "outputs": [],
   "source": []
  }
 ],
 "metadata": {
  "kernelspec": {
   "display_name": "Python 3",
   "language": "python",
   "name": "python3"
  },
  "language_info": {
   "codemirror_mode": {
    "name": "ipython",
    "version": 3
   },
   "file_extension": ".py",
   "mimetype": "text/x-python",
   "name": "python",
   "nbconvert_exporter": "python",
   "pygments_lexer": "ipython3",
   "version": "3.7.3"
  }
 },
 "nbformat": 4,
 "nbformat_minor": 2
}
