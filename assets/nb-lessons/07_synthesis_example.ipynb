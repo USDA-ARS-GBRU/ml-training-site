{
 "cells": [
  {
   "cell_type": "markdown",
   "metadata": {},
   "source": [
    "# Synthesis example: Classifying Viruses and Bacteria\n",
    "\n",
    "Author: Adam Rivers"
   ]
  },
  {
   "cell_type": "markdown",
   "metadata": {
    "collapsed": true
   },
   "source": [
    "## Classifying sequences by their tetranucleotide frequencies\n",
    "\n",
    "In this example we are going to classify Viral and Bacterial nucleotide sequences  using their tetranucleotide frequencies or 4-mers.\n",
    "\n",
    "Kmers are counted by moving a sliding window of length (k=4) along a DNA sequence:\n",
    "\n",
    "```\n",
    "TCGGATTTTTAA\n",
    "TCGA\n",
    " CGAT\n",
    "  GATT\n",
    "   ATTT\n",
    "    TTTT\n",
    "     TTTT\n",
    "      TTTA\n",
    "       TTAA\n",
    "```\n",
    "\n",
    "kmer | count | frequency\n",
    "------|----- | --------\n",
    "TCGA | 1 | 0.125\n",
    "CGAT | 1 | 0.125\n",
    "GATT | 1 | 0.125\n",
    "ATTT | 1 | 0.125\n",
    "TTTT | 2 | 0.250\n",
    "TTTA | 1 | 0.125\n",
    "TTAA | 1 | 0.125\n",
    "\n",
    "## Selecting training data\n",
    "\n",
    "To build a good classifier it is essential to sample training from a population representative of the population to be classified. This is a big challenge when working with sequencing data because the genomes that humans choose to sequence are not representative of the organisms in the environment.  We spend lots of time sequencing the organisms that make us sick.\n",
    "\n",
    "This data has been carefully selected to take this into account.  We have selected about the same number of samples from every different family of bacteria and virus, then we extracted 5000 nucleotide long fragments from each genome.\n",
    "\n",
    "## Information bleed over \n",
    "\n",
    "We know that we never want to evaluate our model using the training data. We always reserve a separate set of test data for evaluation. What happens though if some test data is almost exactly the same as our training data?  Let's say we have a Salmonella genome of the same type  in the test and the train sets? In this case we may artificially inflate the performance of our classifier. \n",
    "\n",
    "To avoid this issue in this example we have made sure that if an example is in the test set no organisms from that taxonomic family  are present in the test set. This gives us a realistic estimate of how well the classifier will perform at classifying a virus at the family level.\n",
    "\n",
    "\n",
    "This is a common mistake in ML methods. Several papers have been published on this exact application that split data randomly or split test and training data by the date they were added to the RefSeq database.\n",
    "\n",
    "\n",
    "\n"
   ]
  },
  {
   "cell_type": "markdown",
   "metadata": {},
   "source": [
    "\n",
    "\n",
    "## Logistic regression model\n",
    "We will use these counts to classify the reads as viral or bacterial using a **_Logistic Regression_**. model (actually a type of classifier not a regressor).\n",
    "\n",
    "\n",
    "First lets load in our testing and training data.\n"
   ]
  },
  {
   "cell_type": "code",
   "execution_count": 1,
   "metadata": {},
   "outputs": [],
   "source": [
    "# Import pandas\n",
    "import pandas as pd\n",
    "import numpy as np\n",
    "   \n",
    "# Load in the raw data for bacteria\n",
    "train_data_b = pd.read_csv(\"../nb-datasets/kmer/train/2.simple.csv.gz\", header=None)\n",
    "test_data_b = pd.read_csv(\"../nb-datasets/kmer/test/2.simple.csv.gz\", header=None)\n",
    "\n",
    "# add a label to indicate bacteria = 0 \n",
    "train_data_b['label'] = 0\n",
    "test_data_b['label'] = 0\n",
    "\n",
    "# Load in the raw Training data for viruses\n",
    "train_data_v = pd.read_csv(\"../nb-datasets/kmer/train/10239.simple.csv.gz\", header=None)\n",
    "test_data_v = pd.read_csv(\"../nb-datasets/kmer/test/10239.simple.csv.gz\", header=None)\n",
    "\n",
    "# add a label to indicate viruses = 1 \n",
    "train_data_v['label'] = 1\n",
    "test_data_v['label'] = 1"
   ]
  },
  {
   "cell_type": "code",
   "execution_count": 2,
   "metadata": {},
   "outputs": [
    {
     "data": {
      "text/html": [
       "<div>\n",
       "<style scoped>\n",
       "    .dataframe tbody tr th:only-of-type {\n",
       "        vertical-align: middle;\n",
       "    }\n",
       "\n",
       "    .dataframe tbody tr th {\n",
       "        vertical-align: top;\n",
       "    }\n",
       "\n",
       "    .dataframe thead th {\n",
       "        text-align: right;\n",
       "    }\n",
       "</style>\n",
       "<table border=\"1\" class=\"dataframe\">\n",
       "  <thead>\n",
       "    <tr style=\"text-align: right;\">\n",
       "      <th></th>\n",
       "      <th>1</th>\n",
       "      <th>2</th>\n",
       "      <th>3</th>\n",
       "      <th>4</th>\n",
       "      <th>5</th>\n",
       "      <th>6</th>\n",
       "      <th>7</th>\n",
       "      <th>8</th>\n",
       "      <th>9</th>\n",
       "      <th>10</th>\n",
       "      <th>...</th>\n",
       "      <th>247</th>\n",
       "      <th>248</th>\n",
       "      <th>249</th>\n",
       "      <th>250</th>\n",
       "      <th>251</th>\n",
       "      <th>252</th>\n",
       "      <th>253</th>\n",
       "      <th>254</th>\n",
       "      <th>255</th>\n",
       "      <th>256</th>\n",
       "    </tr>\n",
       "  </thead>\n",
       "  <tbody>\n",
       "    <tr>\n",
       "      <th>69219</th>\n",
       "      <td>0.007470</td>\n",
       "      <td>0.005667</td>\n",
       "      <td>0.006955</td>\n",
       "      <td>0.006054</td>\n",
       "      <td>0.004250</td>\n",
       "      <td>0.004894</td>\n",
       "      <td>0.003993</td>\n",
       "      <td>0.004122</td>\n",
       "      <td>0.004766</td>\n",
       "      <td>0.005796</td>\n",
       "      <td>...</td>\n",
       "      <td>0.004379</td>\n",
       "      <td>0.003993</td>\n",
       "      <td>0.004379</td>\n",
       "      <td>0.007599</td>\n",
       "      <td>0.008243</td>\n",
       "      <td>0.002447</td>\n",
       "      <td>0.005410</td>\n",
       "      <td>0.005410</td>\n",
       "      <td>0.007857</td>\n",
       "      <td>0.007470</td>\n",
       "    </tr>\n",
       "    <tr>\n",
       "      <th>15968</th>\n",
       "      <td>0.016311</td>\n",
       "      <td>0.005696</td>\n",
       "      <td>0.008026</td>\n",
       "      <td>0.015405</td>\n",
       "      <td>0.007767</td>\n",
       "      <td>0.002460</td>\n",
       "      <td>0.002848</td>\n",
       "      <td>0.005049</td>\n",
       "      <td>0.006731</td>\n",
       "      <td>0.004660</td>\n",
       "      <td>...</td>\n",
       "      <td>0.002201</td>\n",
       "      <td>0.005437</td>\n",
       "      <td>0.009450</td>\n",
       "      <td>0.004660</td>\n",
       "      <td>0.005049</td>\n",
       "      <td>0.005696</td>\n",
       "      <td>0.012168</td>\n",
       "      <td>0.007508</td>\n",
       "      <td>0.009450</td>\n",
       "      <td>0.016311</td>\n",
       "    </tr>\n",
       "    <tr>\n",
       "      <th>10833</th>\n",
       "      <td>0.018582</td>\n",
       "      <td>0.007066</td>\n",
       "      <td>0.009029</td>\n",
       "      <td>0.023423</td>\n",
       "      <td>0.008898</td>\n",
       "      <td>0.002748</td>\n",
       "      <td>0.003271</td>\n",
       "      <td>0.006281</td>\n",
       "      <td>0.010338</td>\n",
       "      <td>0.003010</td>\n",
       "      <td>...</td>\n",
       "      <td>0.001832</td>\n",
       "      <td>0.010338</td>\n",
       "      <td>0.009422</td>\n",
       "      <td>0.001832</td>\n",
       "      <td>0.004711</td>\n",
       "      <td>0.007590</td>\n",
       "      <td>0.020675</td>\n",
       "      <td>0.010861</td>\n",
       "      <td>0.007982</td>\n",
       "      <td>0.018582</td>\n",
       "    </tr>\n",
       "    <tr>\n",
       "      <th>83797</th>\n",
       "      <td>0.000903</td>\n",
       "      <td>0.001289</td>\n",
       "      <td>0.001418</td>\n",
       "      <td>0.001676</td>\n",
       "      <td>0.002063</td>\n",
       "      <td>0.002192</td>\n",
       "      <td>0.002837</td>\n",
       "      <td>0.001547</td>\n",
       "      <td>0.003353</td>\n",
       "      <td>0.005029</td>\n",
       "      <td>...</td>\n",
       "      <td>0.002450</td>\n",
       "      <td>0.003997</td>\n",
       "      <td>0.004255</td>\n",
       "      <td>0.003353</td>\n",
       "      <td>0.005287</td>\n",
       "      <td>0.002063</td>\n",
       "      <td>0.000387</td>\n",
       "      <td>0.002321</td>\n",
       "      <td>0.001676</td>\n",
       "      <td>0.000903</td>\n",
       "    </tr>\n",
       "    <tr>\n",
       "      <th>28788</th>\n",
       "      <td>0.013803</td>\n",
       "      <td>0.007482</td>\n",
       "      <td>0.008772</td>\n",
       "      <td>0.008901</td>\n",
       "      <td>0.007095</td>\n",
       "      <td>0.003483</td>\n",
       "      <td>0.004128</td>\n",
       "      <td>0.005547</td>\n",
       "      <td>0.008901</td>\n",
       "      <td>0.004128</td>\n",
       "      <td>...</td>\n",
       "      <td>0.001935</td>\n",
       "      <td>0.009417</td>\n",
       "      <td>0.006192</td>\n",
       "      <td>0.006579</td>\n",
       "      <td>0.005031</td>\n",
       "      <td>0.006192</td>\n",
       "      <td>0.009546</td>\n",
       "      <td>0.007482</td>\n",
       "      <td>0.008127</td>\n",
       "      <td>0.013803</td>\n",
       "    </tr>\n",
       "  </tbody>\n",
       "</table>\n",
       "<p>5 rows × 256 columns</p>\n",
       "</div>"
      ],
      "text/plain": [
       "            1         2         3         4         5         6         7    \\\n",
       "69219  0.007470  0.005667  0.006955  0.006054  0.004250  0.004894  0.003993   \n",
       "15968  0.016311  0.005696  0.008026  0.015405  0.007767  0.002460  0.002848   \n",
       "10833  0.018582  0.007066  0.009029  0.023423  0.008898  0.002748  0.003271   \n",
       "83797  0.000903  0.001289  0.001418  0.001676  0.002063  0.002192  0.002837   \n",
       "28788  0.013803  0.007482  0.008772  0.008901  0.007095  0.003483  0.004128   \n",
       "\n",
       "            8         9         10   ...       247       248       249  \\\n",
       "69219  0.004122  0.004766  0.005796  ...  0.004379  0.003993  0.004379   \n",
       "15968  0.005049  0.006731  0.004660  ...  0.002201  0.005437  0.009450   \n",
       "10833  0.006281  0.010338  0.003010  ...  0.001832  0.010338  0.009422   \n",
       "83797  0.001547  0.003353  0.005029  ...  0.002450  0.003997  0.004255   \n",
       "28788  0.005547  0.008901  0.004128  ...  0.001935  0.009417  0.006192   \n",
       "\n",
       "            250       251       252       253       254       255       256  \n",
       "69219  0.007599  0.008243  0.002447  0.005410  0.005410  0.007857  0.007470  \n",
       "15968  0.004660  0.005049  0.005696  0.012168  0.007508  0.009450  0.016311  \n",
       "10833  0.001832  0.004711  0.007590  0.020675  0.010861  0.007982  0.018582  \n",
       "83797  0.003353  0.005287  0.002063  0.000387  0.002321  0.001676  0.000903  \n",
       "28788  0.006579  0.005031  0.006192  0.009546  0.007482  0.008127  0.013803  \n",
       "\n",
       "[5 rows x 256 columns]"
      ]
     },
     "execution_count": 2,
     "metadata": {},
     "output_type": "execute_result"
    }
   ],
   "source": [
    "\n",
    "# combine the bacterial and viral data together\n",
    "train_data = pd.concat([train_data_b, train_data_v])\n",
    "test_data = pd.concat([test_data_b, test_data_v])\n",
    "\n",
    "# Shuffle your training data. This is really important for methods that train in batches\n",
    "train_data = train_data.sample(frac=1)\n",
    "test_data = test_data.sample(frac=1)\n",
    "\n",
    "# select just the features\n",
    "train_data_x = train_data.iloc[:,1:257]\n",
    "test_data_x = test_data.iloc[:,1:257]\n",
    "\n",
    "# Normalize each row to a total of 1 by dividing each value by the sum\n",
    "train_sum = train_data_x.sum(axis=1)\n",
    "test_sum = test_data_x.sum(axis=1)\n",
    "train_data_scaled=train_data_x.div(train_sum, axis=0)\n",
    "test_data_scaled=test_data_x.div(test_sum, axis=0)\n",
    "\n",
    "\n",
    "#view the training data\n",
    "train_data_scaled.head()"
   ]
  },
  {
   "cell_type": "code",
   "execution_count": 3,
   "metadata": {},
   "outputs": [
    {
     "data": {
      "text/html": [
       "<div>\n",
       "<style scoped>\n",
       "    .dataframe tbody tr th:only-of-type {\n",
       "        vertical-align: middle;\n",
       "    }\n",
       "\n",
       "    .dataframe tbody tr th {\n",
       "        vertical-align: top;\n",
       "    }\n",
       "\n",
       "    .dataframe thead th {\n",
       "        text-align: right;\n",
       "    }\n",
       "</style>\n",
       "<table border=\"1\" class=\"dataframe\">\n",
       "  <thead>\n",
       "    <tr style=\"text-align: right;\">\n",
       "      <th></th>\n",
       "      <th>1</th>\n",
       "      <th>2</th>\n",
       "      <th>3</th>\n",
       "      <th>4</th>\n",
       "      <th>5</th>\n",
       "      <th>6</th>\n",
       "      <th>7</th>\n",
       "      <th>8</th>\n",
       "      <th>9</th>\n",
       "      <th>10</th>\n",
       "      <th>...</th>\n",
       "      <th>247</th>\n",
       "      <th>248</th>\n",
       "      <th>249</th>\n",
       "      <th>250</th>\n",
       "      <th>251</th>\n",
       "      <th>252</th>\n",
       "      <th>253</th>\n",
       "      <th>254</th>\n",
       "      <th>255</th>\n",
       "      <th>256</th>\n",
       "    </tr>\n",
       "  </thead>\n",
       "  <tbody>\n",
       "    <tr>\n",
       "      <th>2257</th>\n",
       "      <td>0.006289</td>\n",
       "      <td>0.004748</td>\n",
       "      <td>0.004748</td>\n",
       "      <td>0.003208</td>\n",
       "      <td>0.008727</td>\n",
       "      <td>0.002310</td>\n",
       "      <td>0.002053</td>\n",
       "      <td>0.003593</td>\n",
       "      <td>0.003850</td>\n",
       "      <td>0.005518</td>\n",
       "      <td>...</td>\n",
       "      <td>0.000257</td>\n",
       "      <td>0.004492</td>\n",
       "      <td>0.003593</td>\n",
       "      <td>0.006160</td>\n",
       "      <td>0.002053</td>\n",
       "      <td>0.007187</td>\n",
       "      <td>0.004492</td>\n",
       "      <td>0.003593</td>\n",
       "      <td>0.004492</td>\n",
       "      <td>0.006289</td>\n",
       "    </tr>\n",
       "    <tr>\n",
       "      <th>869</th>\n",
       "      <td>0.011138</td>\n",
       "      <td>0.003713</td>\n",
       "      <td>0.010370</td>\n",
       "      <td>0.005377</td>\n",
       "      <td>0.003329</td>\n",
       "      <td>0.004481</td>\n",
       "      <td>0.000768</td>\n",
       "      <td>0.003713</td>\n",
       "      <td>0.010882</td>\n",
       "      <td>0.005121</td>\n",
       "      <td>...</td>\n",
       "      <td>0.000896</td>\n",
       "      <td>0.008706</td>\n",
       "      <td>0.008450</td>\n",
       "      <td>0.002945</td>\n",
       "      <td>0.004481</td>\n",
       "      <td>0.004353</td>\n",
       "      <td>0.007041</td>\n",
       "      <td>0.006913</td>\n",
       "      <td>0.005505</td>\n",
       "      <td>0.011138</td>\n",
       "    </tr>\n",
       "    <tr>\n",
       "      <th>5978</th>\n",
       "      <td>0.005260</td>\n",
       "      <td>0.003720</td>\n",
       "      <td>0.006543</td>\n",
       "      <td>0.004362</td>\n",
       "      <td>0.005645</td>\n",
       "      <td>0.004233</td>\n",
       "      <td>0.002437</td>\n",
       "      <td>0.004362</td>\n",
       "      <td>0.006799</td>\n",
       "      <td>0.003335</td>\n",
       "      <td>...</td>\n",
       "      <td>0.002437</td>\n",
       "      <td>0.004875</td>\n",
       "      <td>0.007312</td>\n",
       "      <td>0.004618</td>\n",
       "      <td>0.006158</td>\n",
       "      <td>0.006543</td>\n",
       "      <td>0.003079</td>\n",
       "      <td>0.005645</td>\n",
       "      <td>0.005901</td>\n",
       "      <td>0.005260</td>\n",
       "    </tr>\n",
       "    <tr>\n",
       "      <th>3490</th>\n",
       "      <td>0.002696</td>\n",
       "      <td>0.004237</td>\n",
       "      <td>0.005649</td>\n",
       "      <td>0.003723</td>\n",
       "      <td>0.003852</td>\n",
       "      <td>0.006034</td>\n",
       "      <td>0.002311</td>\n",
       "      <td>0.002953</td>\n",
       "      <td>0.008345</td>\n",
       "      <td>0.003338</td>\n",
       "      <td>...</td>\n",
       "      <td>0.003723</td>\n",
       "      <td>0.007061</td>\n",
       "      <td>0.005392</td>\n",
       "      <td>0.003338</td>\n",
       "      <td>0.007446</td>\n",
       "      <td>0.004108</td>\n",
       "      <td>0.002824</td>\n",
       "      <td>0.005777</td>\n",
       "      <td>0.005007</td>\n",
       "      <td>0.002696</td>\n",
       "    </tr>\n",
       "    <tr>\n",
       "      <th>908</th>\n",
       "      <td>0.012390</td>\n",
       "      <td>0.006840</td>\n",
       "      <td>0.007357</td>\n",
       "      <td>0.014068</td>\n",
       "      <td>0.009938</td>\n",
       "      <td>0.002969</td>\n",
       "      <td>0.004388</td>\n",
       "      <td>0.004517</td>\n",
       "      <td>0.003872</td>\n",
       "      <td>0.003485</td>\n",
       "      <td>...</td>\n",
       "      <td>0.004259</td>\n",
       "      <td>0.004388</td>\n",
       "      <td>0.008647</td>\n",
       "      <td>0.004904</td>\n",
       "      <td>0.005808</td>\n",
       "      <td>0.008647</td>\n",
       "      <td>0.008518</td>\n",
       "      <td>0.009809</td>\n",
       "      <td>0.009938</td>\n",
       "      <td>0.012390</td>\n",
       "    </tr>\n",
       "  </tbody>\n",
       "</table>\n",
       "<p>5 rows × 256 columns</p>\n",
       "</div>"
      ],
      "text/plain": [
       "           1         2         3         4         5         6         7    \\\n",
       "2257  0.006289  0.004748  0.004748  0.003208  0.008727  0.002310  0.002053   \n",
       "869   0.011138  0.003713  0.010370  0.005377  0.003329  0.004481  0.000768   \n",
       "5978  0.005260  0.003720  0.006543  0.004362  0.005645  0.004233  0.002437   \n",
       "3490  0.002696  0.004237  0.005649  0.003723  0.003852  0.006034  0.002311   \n",
       "908   0.012390  0.006840  0.007357  0.014068  0.009938  0.002969  0.004388   \n",
       "\n",
       "           8         9         10   ...       247       248       249  \\\n",
       "2257  0.003593  0.003850  0.005518  ...  0.000257  0.004492  0.003593   \n",
       "869   0.003713  0.010882  0.005121  ...  0.000896  0.008706  0.008450   \n",
       "5978  0.004362  0.006799  0.003335  ...  0.002437  0.004875  0.007312   \n",
       "3490  0.002953  0.008345  0.003338  ...  0.003723  0.007061  0.005392   \n",
       "908   0.004517  0.003872  0.003485  ...  0.004259  0.004388  0.008647   \n",
       "\n",
       "           250       251       252       253       254       255       256  \n",
       "2257  0.006160  0.002053  0.007187  0.004492  0.003593  0.004492  0.006289  \n",
       "869   0.002945  0.004481  0.004353  0.007041  0.006913  0.005505  0.011138  \n",
       "5978  0.004618  0.006158  0.006543  0.003079  0.005645  0.005901  0.005260  \n",
       "3490  0.003338  0.007446  0.004108  0.002824  0.005777  0.005007  0.002696  \n",
       "908   0.004904  0.005808  0.008647  0.008518  0.009809  0.009938  0.012390  \n",
       "\n",
       "[5 rows x 256 columns]"
      ]
     },
     "execution_count": 3,
     "metadata": {},
     "output_type": "execute_result"
    }
   ],
   "source": [
    "#view the test data\n",
    "test_data_scaled.head()"
   ]
  },
  {
   "cell_type": "markdown",
   "metadata": {},
   "source": [
    "Take a look at the univariate distributions of some of the features"
   ]
  },
  {
   "cell_type": "code",
   "execution_count": 4,
   "metadata": {},
   "outputs": [
    {
     "data": {
      "text/plain": [
       "<matplotlib.axes._subplots.AxesSubplot at 0x120df42e8>"
      ]
     },
     "execution_count": 4,
     "metadata": {},
     "output_type": "execute_result"
    }
   ],
   "source": [
    "# Import plotting library Seaborn\n",
    "import seaborn as sns\n",
    "sns.set_style('darkgrid')\n",
    "\n",
    "# plot some features (change the \"3\" to see more)\n",
    "sns.distplot(train_data_scaled.iloc[:,3])"
   ]
  },
  {
   "cell_type": "markdown",
   "metadata": {},
   "source": [
    "That's not very normal.  Let's see how our classifier performs. "
   ]
  },
  {
   "cell_type": "markdown",
   "metadata": {},
   "source": [
    "### Run the model\n",
    "\n",
    "We will fit a logistic regression model with L1 regularization"
   ]
  },
  {
   "cell_type": "code",
   "execution_count": 5,
   "metadata": {},
   "outputs": [
    {
     "name": "stdout",
     "output_type": "stream",
     "text": [
      "Test Accuracy: \n"
     ]
    },
    {
     "data": {
      "text/plain": [
       "0.9191291481716339"
      ]
     },
     "execution_count": 5,
     "metadata": {},
     "output_type": "execute_result"
    }
   ],
   "source": [
    "from sklearn import linear_model\n",
    "\n",
    "# convert our data into Numpy arrays \n",
    "X = train_data_scaled.to_numpy()\n",
    "y = train_data[\"label\"].to_numpy()\n",
    "\n",
    "# Define the Logistic model parameters\n",
    "model1 = linear_model.LogisticRegression(max_iter= 1000, random_state=0, solver='lbfgs', C=1)\n",
    "\n",
    "\n",
    "# Fit the model (here's where the learning learning is happening) \n",
    "\n",
    "model1.fit(X, y)\n",
    "\n",
    "# convert our test data into Numpy arrays\n",
    "testX = test_data_scaled.to_numpy()\n",
    "testy = test_data[\"label\"].to_numpy()\n",
    "\n",
    "# Estimate the accuracy\n",
    "print(\"Test Accuracy: \")\n",
    "model1.score(testX, testy) "
   ]
  },
  {
   "cell_type": "markdown",
   "metadata": {},
   "source": [
    "That's pretty good accuracy, Remember though that our data is not a 50% split between viruses and bacteria. The test data has 16,175 bacteria and 7,480 viruses. If we made a classifier that just assigned everything the label of bacteria it would be have an accuracy of \n",
    "\n",
    "$$\\frac{16175}{16175 + 7480} = 0.683$$\n",
    "\n",
    "This is actually a common issue with using accuracy as a metric on imbalanced data. We will discuss better metrics soon.\n"
   ]
  },
  {
   "cell_type": "markdown",
   "metadata": {},
   "source": [
    "## Transform the data\n",
    "\n",
    "The next step is to try to normalize our data in a more sophisticated manner.\n",
    "\n",
    "First think about 4-mers themselves. A few key insights are:\n",
    "\n",
    "1. The total number of kmers does not matter since that just equals the sequence length (except in the accuracy of our frequency measurement).\n",
    "2. The number of every kmer is affected by the number of every other kmer since kmers are mutually exclusive\n",
    "\n",
    "These attributes describe **_compositional count data_**. Compositional data has an established set of transformations that can be used to move it into the real number space expected by most ML models.\n",
    "\n",
    "The general steps are:\n",
    "\n",
    "1. Close the dataset (make if sum to a constant, in our case 1)\n",
    "2. Estimate the value of any 0's in count data as $\\delta$, where $N$ is the number of components (256)\n",
    "\n",
    "$$ \\delta = \\frac{1}{N^2} $$\n",
    "\n",
    "4. Take the Centered log ratio. This value is the the log of the each component value divides by the geometric mean. \n",
    "\n",
    "    The geometric mean is:\n",
    "\n",
    "$$ g(x) = \\sqrt[D]{x_{1} \\cdots x_{D}} $$\n",
    "\n",
    "    The Centered log ratio is:\n",
    "    \n",
    "$$ \\mathrm{clr}(x) = z = \\left[ ln \\frac{x_{1}}{g(x)}; \\cdots; ln\\frac{x_{1}}{g(x)} \\right] $$ \n",
    "\n",
    "\n"
   ]
  },
  {
   "cell_type": "code",
   "execution_count": 6,
   "metadata": {},
   "outputs": [
    {
     "data": {
      "text/plain": [
       "array([[ 0.75235042,  0.47609704,  0.68089146, ...,  0.42957703,\n",
       "         0.80278127,  0.75235042],\n",
       "       [ 1.72242674,  0.67033447,  1.01327922, ...,  0.94658784,\n",
       "         1.17660427,  1.72242674],\n",
       "       [ 2.21769592,  1.25085291,  1.49597537, ...,  1.68070947,\n",
       "         1.37274273,  2.21769592],\n",
       "       ...,\n",
       "       [ 1.40508047,  0.77255791,  0.60193239, ...,  0.66937367,\n",
       "         0.96786666,  1.40508047],\n",
       "       [ 0.63687485,  0.57860594,  0.47324543, ...,  0.57860594,\n",
       "         0.87127556,  0.63687485],\n",
       "       [ 0.34464566,  0.16771495,  0.23023531, ..., -0.22174981,\n",
       "         0.58387535,  0.34464566]])"
      ]
     },
     "execution_count": 6,
     "metadata": {},
     "output_type": "execute_result"
    }
   ],
   "source": [
    "# import a subset of functions from  Scikit bio \n",
    "# (we have moved the functions to a new python file called comp.py for Windows compatability)\n",
    "\n",
    "import comp\n",
    "\n",
    "# First repalce any 0's with small values\n",
    "train_z = comp.multiplicative_replacement(X)\n",
    "test_z = comp.multiplicative_replacement(testX)\n",
    "\n",
    "# Calculate a centered log ratio for each sample\n",
    "train_clr = comp.clr(train_z)\n",
    "test_clr = comp.clr(test_z)\n",
    "\n",
    "train_clr"
   ]
  },
  {
   "cell_type": "markdown",
   "metadata": {},
   "source": [
    "Take a look at the univariate distributions of some of the features"
   ]
  },
  {
   "cell_type": "code",
   "execution_count": 7,
   "metadata": {},
   "outputs": [
    {
     "data": {
      "text/plain": [
       "<matplotlib.axes._subplots.AxesSubplot at 0x113906ef0>"
      ]
     },
     "execution_count": 7,
     "metadata": {},
     "output_type": "execute_result"
    },
    {
     "data": {
      "image/png": "[encoded data removed]",
      "text/plain": [
       "<Figure size 432x288 with 1 Axes>"
      ]
     },
     "metadata": {},
     "output_type": "display_data"
    }
   ],
   "source": [
    "import seaborn as sns\n",
    "sns.set_style('darkgrid')\n",
    "sns.distplot(train_clr[:,3])"
   ]
  },
  {
   "cell_type": "markdown",
   "metadata": {},
   "source": [
    "## Train the model again\n",
    "\n",
    "Now evaluate the model with the transformed data\n"
   ]
  },
  {
   "cell_type": "code",
   "execution_count": 8,
   "metadata": {},
   "outputs": [
    {
     "name": "stdout",
     "output_type": "stream",
     "text": [
      "Accuracy :\n"
     ]
    },
    {
     "data": {
      "text/plain": [
       "0.9330796871697316"
      ]
     },
     "execution_count": 8,
     "metadata": {},
     "output_type": "execute_result"
    }
   ],
   "source": [
    "from sklearn import linear_model\n",
    "\n",
    "# Create a new model\n",
    "model2 = linear_model.LogisticRegression(max_iter= 1000, random_state=0, solver='lbfgs', C=1)\n",
    "\n",
    "# Fit the model\n",
    "model2.fit(train_clr, y)\n",
    "\n",
    "\n",
    "# Estimate the accuracy\n",
    "print(\"Accuracy :\")\n",
    "model2.score(test_clr, testy) "
   ]
  },
  {
   "cell_type": "markdown",
   "metadata": {},
   "source": [
    "93% Accuracy, we've improved our classifier by transforming the data\n",
    "## Parameter tuning \n",
    "\n",
    "LEts look at the options you can specify when setting up a [logistic regression model in Scikit](https://scikit-learn.org/stable/modules/generated/sklearn.linear_model.LogisticRegression.html)\n"
   ]
  },
  {
   "cell_type": "markdown",
   "metadata": {},
   "source": [
    "```{python}\n",
    "class sklearn.linear_model.LogisticRegression(penalty=’l2’,\n",
    "                                              dual=False,\n",
    "                                              tol=0.0001, \n",
    "                                              C=1.0, \n",
    "                                              fit_intercept=True, \n",
    "                                              intercept_scaling=1, \n",
    "                                              class_weight=None, \n",
    "                                              random_state=None, \n",
    "                                              solver=’warn’, \n",
    "                                              max_iter=100, \n",
    "                                              multi_class=’warn’, \n",
    "                                              verbose=0, \n",
    "                                              warm_start=False, \n",
    "                                              n_jobs=None, \n",
    "                                              l1_ratio=None)\n",
    "```"
   ]
  },
  {
   "cell_type": "markdown",
   "metadata": {},
   "source": [
    "#### A couple of these are very important:\n",
    "    \n",
    "**`penalty`**: this controls for overfitting by **_regularization_**\n",
    "\n",
    "There are two basic types of regularization l1 and l2.\n",
    "\n",
    "* l1 (Lasso) regularization: drops some features out of the model\n",
    "* l2 (Ridge) regularization: reduces the importance of some features with a weighting term\n",
    "\n",
    "The parameter `C` controls how strongly the data should be regularized\n",
    "\n",
    "* Smaller values of `c` mean stronger regularization.\n",
    "\n",
    "We can find optimal settings for our dataset by trying multiple settings of parameters using the convenient function `LogisticRegressionCV`.  By setting `Cs=10` we specifying that the solver try 10 different values of C between 1e-4 and 1e4.  By setting a list of values for C we evaluate each value in the list.\n",
    "\n"
   ]
  },
  {
   "cell_type": "code",
   "execution_count": 9,
   "metadata": {},
   "outputs": [
    {
     "data": {
      "text/plain": [
       "LogisticRegressionCV(Cs=[0.01, 0.03, 0.1, 0.3, 1, 3, 10], class_weight=None,\n",
       "                     cv=5, dual=False, fit_intercept=True,\n",
       "                     intercept_scaling=1.0, l1_ratios=None, max_iter=1000,\n",
       "                     multi_class='warn', n_jobs=-1, penalty='l2',\n",
       "                     random_state=0, refit=True, scoring=None, solver='lbfgs',\n",
       "                     tol=0.0001, verbose=0)"
      ]
     },
     "execution_count": 9,
     "metadata": {},
     "output_type": "execute_result"
    }
   ],
   "source": [
    "\n",
    "model3 = linear_model.LogisticRegressionCV(Cs=[.01,.03,0.1,0.3,1, 3, 10],\n",
    "                                          cv=5, \n",
    "                                          max_iter= 1000,\n",
    "                                          random_state=0, \n",
    "                                          solver='lbfgs', \n",
    "                                          n_jobs=-1)\n",
    "\n",
    "model3.fit(train_clr, y)"
   ]
  },
  {
   "cell_type": "code",
   "execution_count": 10,
   "metadata": {},
   "outputs": [
    {
     "name": "stdout",
     "output_type": "stream",
     "text": [
      "Accuracy :\n"
     ]
    },
    {
     "data": {
      "text/plain": [
       "0.9330796871697316"
      ]
     },
     "execution_count": 10,
     "metadata": {},
     "output_type": "execute_result"
    }
   ],
   "source": [
    "# Estimate the accuracy\n",
    "print(\"Accuracy :\")\n",
    "model3.score(test_clr, testy)"
   ]
  },
  {
   "cell_type": "markdown",
   "metadata": {},
   "source": [
    "In this case the parameter sweep did not improve the classifier the prediction.\n"
   ]
  },
  {
   "cell_type": "markdown",
   "metadata": {},
   "source": [
    "# Classifier evaluation\n",
    "\n",
    "Often it is useful to look at how the tradeoff between identfying a virus and "
   ]
  },
  {
   "cell_type": "code",
   "execution_count": 11,
   "metadata": {},
   "outputs": [
    {
     "data": {
      "text/plain": [
       "Text(0.5, 1.0, '2-class Precision-Recall curve: F1=0.89')"
      ]
     },
     "execution_count": 11,
     "metadata": {},
     "output_type": "execute_result"
    },
    {
     "data": {
      "image/png": "[encoded data removed]",
      "text/plain": [
       "<Figure size 432x288 with 1 Axes>"
      ]
     },
     "metadata": {},
     "output_type": "display_data"
    }
   ],
   "source": [
    "from sklearn.metrics import precision_recall_curve\n",
    "from sklearn.metrics import f1_score\n",
    "import matplotlib.pyplot as plt\n",
    "\n",
    "\n",
    "# Retrieve the scores from the logistic regression model\n",
    "y_score = model3.decision_function(test_clr)\n",
    "y_pred = model3.predict(test_clr)\n",
    "# Calulate the aveage precision\n",
    "f1 = f1_score(testy, y_pred)\n",
    "\n",
    "precision, recall, _ = precision_recall_curve(testy, y_score)\n",
    "sns.lineplot(recall, precision)\n",
    "plt.xlabel('Recall')\n",
    "plt.ylabel('Precision')\n",
    "plt.title('2-class Precision-Recall curve: F1={0:0.2f}'.format(f1))"
   ]
  },
  {
   "cell_type": "code",
   "execution_count": 12,
   "metadata": {},
   "outputs": [
    {
     "data": {
      "text/plain": [
       "<matplotlib.axes._subplots.AxesSubplot at 0x121327320>"
      ]
     },
     "execution_count": 12,
     "metadata": {},
     "output_type": "execute_result"
    },
    {
     "data": {
      "image/png": "[encoded data removed]",
      "text/plain": [
       "<Figure size 432x288 with 1 Axes>"
      ]
     },
     "metadata": {},
     "output_type": "display_data"
    }
   ],
   "source": [
    "sns.distplot(model2.coef_)"
   ]
  },
  {
   "cell_type": "markdown",
   "metadata": {},
   "source": [
    "## Predict the values for two real samples\n",
    "\n",
    "Now let's predict the taxonomy for two viruses:\n",
    "1. Ictalurid herpesvirus 2 strain 760/94 (A DNA virus)\n",
    "2. Hubei picorna-like virus 82 strain from spider 133992 (A RNA virus)"
   ]
  },
  {
   "cell_type": "code",
   "execution_count": 13,
   "metadata": {},
   "outputs": [],
   "source": [
    "# predict the taxonomy for two viruses \n",
    "seqs = np.array([[55.0,31.0,30.0,40.0,41.0,29.0,12.0,18.0,26.0,15.0,18.0,23.0,27.0,30.0,32.0,14.0,35.0,33.0,29.0,41.0,57.0,52.0,24.0,30.0,23.0,13.0,32.0,5.0,10.0,26.0,31.0,23.0,31.0,35.0,25.0,30.0,25.0,18.0,23.0,14.0,28.0,21.0,27.0,30.0,24.0,22.0,26.0,18.0,27.0,23.0,22.0,25.0,61.0,46.0,37.0,30.0,56.0,23.0,61.0,41.0,13.0,26.0,38.0,40.0,30.0,37.0,17.0,38.0,43.0,62.0,38.0,26.0,28.0,24.0,37.0,31.0,28.0,61.0,30.0,32.0,31.0,63.0,40.0,61.0,57.0,72.0,52.0,27.0,39.0,23.0,18.0,32.0,9.0,42.0,37.0,18.0,25.0,20.0,43.0,37.0,16.0,28.0,13.0,23.0,26.0,28.0,52.0,24.0,11.0,17.0,38.0,12.0,5.0,21.0,3.0,22.0,38.0,49.0,43.0,25.0,29.0,22.0,40.0,29.0,8.0,27.0,17.0,30.0,44.0,17.0,27.0,26.0,30.0,40.0,17.0,22.0,42.0,45.0,42.0,26.0,47.0,18.0,61.0,30.0,17.0,40.0,22.0,23.0,34.0,36.0,28.0,21.0,35.0,11.0,23.0,13.0,10.0,45.0,24.0,15.0,33.0,22.0,49.0,46.0,29.0,22.0,28.0,18.0,49.0,36.0,72.0,52.0,32.0,40.0,62.0,29.0,21.0,13.0,21.0,23.0,32.0,22.0,20.0,35.0,32.0,40.0,63.0,33.0,15.0,17.0,37.0,31.0,27.0,15.0,8.0,13.0,24.0,32.0,11.0,24.0,25.0,10.0,9.0,10.0,10.0,47.0,28.0,27.0,39.0,32.0,29.0,56.0,47.0,49.0,26.0,28.0,14.0,35.0,39.0,23.0,25.0,42.0,28.0,26.0,25.0,32.0,38.0,61.0,16.0,29.0,16.0,25.0,47.0,34.0,57.0,57.0,24.0,30.0,43.0,41.0,5.0,21.0,5.0,27.0,25.0,33.0,25.0,31.0,39.0,17.0,31.0,35.0,27.0,44.0,30.0,55.0],\n",
    "                 [110.0,59.0,61.0,98.0,56.0,35.0,16.0,52.0,77.0,28.0,24.0,57.0,68.0,51.0,66.0,44.0,64.0,18.0,31.0,45.0,40.0,14.0,8.0,11.0,10.0,10.0,7.0,6.0,14.0,19.0,31.0,57.0,72.0,20.0,29.0,61.0,38.0,11.0,8.0,7.0,23.0,13.0,8.0,11.0,26.0,18.0,25.0,52.0,62.0,33.0,21.0,33.0,66.0,27.0,9.0,61.0,58.0,37.0,34.0,45.0,37.0,57.0,81.0,98.0,93.0,44.0,43.0,81.0,25.0,16.0,4.0,25.0,46.0,21.0,14.0,31.0,34.0,48.0,13.0,66.0,56.0,19.0,18.0,34.0,14.0,3.0,4.0,8.0,12.0,2.0,4.0,7.0,7.0,10.0,14.0,24.0,29.0,4.0,13.0,9.0,14.0,5.0,1.0,8.0,14.0,3.0,4.0,8.0,9.0,10.0,4.0,16.0,13.0,18.0,1.0,21.0,19.0,16.0,13.0,29.0,32.0,31.0,18.0,31.0,22.0,60.0,43.0,61.0,78.0,32.0,60.0,57.0,32.0,11.0,10.0,18.0,32.0,16.0,10.0,19.0,48.0,8.0,48.0,51.0,47.0,13.0,31.0,37.0,23.0,3.0,3.0,13.0,13.0,2.0,2.0,10.0,6.0,16.0,21.0,28.0,39.0,15.0,16.0,27.0,20.0,3.0,5.0,11.0,10.0,3.0,3.0,14.0,11.0,11.0,16.0,35.0,25.0,7.0,18.0,33.0,32.0,15.0,4.0,20.0,20.0,13.0,19.0,18.0,24.0,32.0,44.0,59.0,47.0,24.0,22.0,37.0,45.0,11.0,9.0,26.0,27.0,6.0,7.0,14.0,16.0,48.0,34.0,68.0,94.0,20.0,32.0,58.0,50.0,10.0,14.0,23.0,10.0,13.0,12.0,10.0,27.0,32.0,46.0,77.0,87.0,32.0,19.0,66.0,28.0,20.0,14.0,38.0,50.0,23.0,14.0,40.0,45.0,32.0,25.0,56.0,15.0,25.0,13.0,62.0,87.0,39.0,29.0,72.0,94.0,47.0,56.0,64.0,47.0,78.0,93.0,110.0]])"
   ]
  },
  {
   "cell_type": "code",
   "execution_count": 14,
   "metadata": {},
   "outputs": [
    {
     "data": {
      "text/plain": [
       "array([[0.23416185, 0.76583815],\n",
       "       [0.02445975, 0.97554025]])"
      ]
     },
     "execution_count": 14,
     "metadata": {},
     "output_type": "execute_result"
    }
   ],
   "source": [
    "sample_z = comp.multiplicative_replacement(seqs)\n",
    "sample_clr = comp.clr(sample_z)\n",
    "\n",
    "model2.predict_proba(sample_clr)"
   ]
  },
  {
   "cell_type": "markdown",
   "metadata": {},
   "source": [
    "The model classifies the herpesvirus as a virus with 76% probability.<br>\n",
    "The model classifies the picronavirus as a virus with 98% probability."
   ]
  },
  {
   "cell_type": "code",
   "execution_count": null,
   "metadata": {},
   "outputs": [],
   "source": []
  }
 ],
 "metadata": {
  "kernelspec": {
   "display_name": "Python 3",
   "language": "python",
   "name": "python3"
  },
  "language_info": {
   "codemirror_mode": {
    "name": "ipython",
    "version": 3
   },
   "file_extension": ".py",
   "mimetype": "text/x-python",
   "name": "python",
   "nbconvert_exporter": "python",
   "pygments_lexer": "ipython3",
   "version": "3.7.3"
  }
 },
 "nbformat": 4,
 "nbformat_minor": 2
}
