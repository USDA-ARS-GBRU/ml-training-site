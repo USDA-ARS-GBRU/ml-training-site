{
 "cells": [
  {
   "cell_type": "markdown",
   "metadata": {},
   "source": [
    "\n",
    " # Tree methods for classification of hand-written digits\n",
    "\n",
    "Author: Dimitri Bourilkov \n",
    "\n",
    "\n",
    " A decision tree: a tree like model for decisions, starting\n",
    "at the root, climbing up the branches and reaching the leaves,\n",
    "where each leaf represents a decision.\n",
    "\n",
    " https://en.wikipedia.org/wiki/Decision_tree \n",
    "\n",
    " A simple example: go hiking today?\n",
    "\n",
    " Hike?=>Rain=yes=>NO|=no=>Very hot?=yes=>NO|no=>YES.\n",
    "\n",
    " For classification problems, each leaf represents our decision\n",
    "assigning a data item to a class (binary or multiclass problems).\n",
    "\n",
    " The tree methods in scikit-learn are used to classify images of \n",
    "hand-written digits. The input images are digitized in an 8x8 \n",
    "black and white matrix. We have 1797 images in total.\n"
   ]
  },
  {
   "cell_type": "code",
   "execution_count": 1,
   "metadata": {},
   "outputs": [],
   "source": [
    "%matplotlib inline"
   ]
  },
  {
   "cell_type": "markdown",
   "metadata": {},
   "source": [
    "\n",
    " # Setup \n",
    "\n",
    "First we import the needed codes/tools from sklearn.\n"
   ]
  },
  {
   "cell_type": "code",
   "execution_count": 2,
   "metadata": {},
   "outputs": [
    {
     "name": "stdout",
     "output_type": "stream",
     "text": [
      " \n",
      "\n",
      "Import OK!\n"
     ]
    }
   ],
   "source": [
    "#!/usr/bin/env python3\n",
    "\n",
    "print(\" \\n\")\n",
    "from sklearn import tree\n",
    "from sklearn import metrics\n",
    "\n",
    "import matplotlib.pyplot as plt\n",
    "\n",
    "from sklearn.ensemble import RandomForestClassifier\n",
    "print(\"Import OK!\")\n",
    "\n"
   ]
  },
  {
   "cell_type": "markdown",
   "metadata": {},
   "source": [
    "\n",
    " # Data Import and Preparation\n",
    "\n",
    "We import the data and flatten (reshape) the\n",
    "images before we run the tree classifier.\n",
    "We split the sample in two halves:\n",
    "one half for training, and the second half for testing. \n",
    "X and Y are the training images and targets \n",
    "(labels for known digits).\n",
    "Xtest and Ytest are the testing images and targets (labels).\n"
   ]
  },
  {
   "cell_type": "code",
   "execution_count": 3,
   "metadata": {},
   "outputs": [
    {
     "name": "stdout",
     "output_type": "stream",
     "text": [
      "1797\n"
     ]
    }
   ],
   "source": [
    "# Data\n",
    "from sklearn import datasets\n",
    "digits = datasets.load_digits()\n",
    "n_samples = len(digits.images)\n",
    "print(n_samples)\n",
    "data = digits.images.reshape((n_samples, -1))\n",
    "# training sample data & targets\n",
    "X = data[:n_samples // 2]\n",
    "Y = digits.target[:n_samples // 2]\n",
    "\n",
    "# test sample data & targets==predicted\n",
    "Xtest = data[n_samples // 2:]\n",
    "Ytest = digits.target[n_samples // 2:]\n",
    "\n"
   ]
  },
  {
   "cell_type": "markdown",
   "metadata": {},
   "source": [
    "\n",
    " # Simple Decision Trees\n",
    "\n",
    "Now we train the classifier (fit) and test it on the\n",
    "independent (unseen) test sample. \n"
   ]
  },
  {
   "cell_type": "code",
   "execution_count": 4,
   "metadata": {},
   "outputs": [
    {
     "name": "stdout",
     "output_type": "stream",
     "text": [
      "Classification report for classifier DecisionTreeClassifier(class_weight=None, criterion='gini', max_depth=None,\n",
      "                       max_features=None, max_leaf_nodes=None,\n",
      "                       min_impurity_decrease=0.0, min_impurity_split=None,\n",
      "                       min_samples_leaf=1, min_samples_split=2,\n",
      "                       min_weight_fraction_leaf=0.0, presort=False,\n",
      "                       random_state=None, splitter='best'):\n",
      "              precision    recall  f1-score   support\n",
      "\n",
      "           0       0.97      0.94      0.95        88\n",
      "           1       0.79      0.62      0.69        91\n",
      "           2       0.91      0.72      0.81        86\n",
      "           3       0.65      0.74      0.69        91\n",
      "           4       0.84      0.86      0.85        92\n",
      "           5       0.60      0.75      0.66        91\n",
      "           6       0.86      0.92      0.89        91\n",
      "           7       0.87      0.70      0.78        89\n",
      "           8       0.60      0.64      0.62        88\n",
      "           9       0.67      0.74      0.70        92\n",
      "\n",
      "    accuracy                           0.76       899\n",
      "   macro avg       0.78      0.76      0.76       899\n",
      "weighted avg       0.77      0.76      0.76       899\n",
      "\n",
      "\n",
      "Confusion matrix:\n",
      "[[83  0  0  0  1  2  0  0  0  2]\n",
      " [ 0 56  2  6  7  1  0  4  9  6]\n",
      " [ 1  1 62  9  1  0  3  0  7  2]\n",
      " [ 0  4  1 67  0  3  0  3 10  3]\n",
      " [ 1  3  0  0 79  5  3  0  0  1]\n",
      " [ 0  1  0  0  0 68  4  0  1 17]\n",
      " [ 1  2  1  1  0  1 84  0  1  0]\n",
      " [ 0  0  0 11  1  8  0 62  6  1]\n",
      " [ 0  4  2  4  4 11  4  2 56  1]\n",
      " [ 0  0  0  5  1 15  0  0  3 68]]\n",
      " \n",
      "\n",
      "Train Score:  1.0000\n",
      " Test Score:  0.7620\n",
      " \n",
      "\n"
     ]
    }
   ],
   "source": [
    "# Tree\n",
    "mytree = tree.DecisionTreeClassifier()\n",
    "mytree.fit(X, Y)\n",
    "\n",
    "mytreepredicted = mytree.predict(Xtest)\n",
    "print(\"Classification report for classifier %s:\\n%s\\n\" % (mytree, metrics.classification_report(Ytest, mytreepredicted)))\n",
    "print(\"Confusion matrix:\\n%s\" % metrics.confusion_matrix(Ytest, mytreepredicted))\n",
    "print(\" \\n\")\n",
    "\n",
    "print(\"Train Score:  %.4f\" % mytree.score(X, Y))\n",
    "print(\" Test Score:  %.4f\" % mytree.score(Xtest, Ytest))\n",
    "print(\" \\n\")\n",
    "\n"
   ]
  },
  {
   "cell_type": "markdown",
   "metadata": {},
   "source": [
    "\n",
    " # Precision and Recall. Score\n",
    "\n",
    "Precision (or positive predictive value) is the fraction of relevant\n",
    "instances among the retrieved instances. How many selected items are\n",
    "relevant?\n",
    "\n",
    " Precision = True Positives/(True Positives + False Positives). \n",
    "\n",
    " Recall (or sensitivity) is the fraction of relevant instances\n",
    "that have been retrieved over the total amount of relevant\n",
    "instances. How many relevant items are selected?\n",
    "\n",
    " Recall = True Positives/(All items of this type). \n",
    "\n",
    " F1-score: combines precision P and recall R.\n",
    "\n",
    " F1-score = 2*P*R/(P+R)    [harmonic mean].\n",
    "\n",
    " In a classification task, a precision score of 1.0 for a class C\n",
    "means that every item labeled as belonging to class C does indeed\n",
    "belong to class C (but says nothing about the number of items from\n",
    "class C that were not labeled correctly).\n"
   ]
  },
  {
   "cell_type": "markdown",
   "metadata": {},
   "source": [
    "\n",
    " # Visualize the Results\n",
    "\n",
    "We show the first 10 images and targets (labels) of the training\n",
    "and test samples.\n"
   ]
  },
  {
   "cell_type": "code",
   "execution_count": 5,
   "metadata": {},
   "outputs": [
    {
     "data": {
      "image/png": "[encoded data removed]",
      "text/plain": [
       "<Figure size 432x288 with 20 Axes>"
      ]
     },
     "metadata": {
      "needs_background": "light"
     },
     "output_type": "display_data"
    }
   ],
   "source": [
    "# For the images, we know which digit they represent:\n",
    "# it is given in the 'target' of the dataset.\n",
    "\n",
    "ntoplot=10\n",
    "images_and_labels = list(zip(digits.images, digits.target))\n",
    "for index, (image, label) in enumerate(images_and_labels[:ntoplot]):\n",
    "  plt.subplot(2, ntoplot, index + 1)\n",
    "  plt.axis('off')\n",
    "  plt.imshow(image, cmap=plt.cm.gray_r, interpolation='nearest')\n",
    "  plt.title('Tr: %i' % label)\n",
    "images_and_predictions = list(zip(digits.images[n_samples // 2:], mytreepredicted))\n",
    "for index, (image, prediction) in enumerate(images_and_predictions[:ntoplot]):\n",
    "  plt.subplot(2, ntoplot, index + 1 + ntoplot)\n",
    "  plt.axis('off')\n",
    "  plt.imshow(image, cmap=plt.cm.gray_r, interpolation='nearest')\n",
    "  plt.title('Pr: %i' % prediction)\n",
    "plt.show()\n"
   ]
  },
  {
   "cell_type": "markdown",
   "metadata": {},
   "source": [
    "\n",
    " # Random Forest of Decision Trees\n",
    "\n",
    "As we just saw, the simple decision tree overfits, and the \n",
    "performance is not very good. \n",
    "We can improve this by using many trees and taking a majority \n",
    "vote on the decision. This helps to improve the performance\n",
    "of the classifier. \n",
    "\n",
    " https://en.wikipedia.org/wiki/Random_forest \n"
   ]
  },
  {
   "cell_type": "code",
   "execution_count": 6,
   "metadata": {},
   "outputs": [
    {
     "name": "stdout",
     "output_type": "stream",
     "text": [
      "Classification report for classifier RandomForestClassifier(bootstrap=True, class_weight=None, criterion='gini',\n",
      "                       max_depth=None, max_features='auto', max_leaf_nodes=None,\n",
      "                       min_impurity_decrease=0.0, min_impurity_split=None,\n",
      "                       min_samples_leaf=1, min_samples_split=2,\n",
      "                       min_weight_fraction_leaf=0.0, n_estimators=10,\n",
      "                       n_jobs=None, oob_score=False, random_state=69, verbose=0,\n",
      "                       warm_start=False):\n",
      "              precision    recall  f1-score   support\n",
      "\n",
      "           0       0.86      0.94      0.90        88\n",
      "           1       0.88      0.89      0.89        91\n",
      "           2       0.88      0.90      0.89        86\n",
      "           3       0.86      0.86      0.86        91\n",
      "           4       0.94      0.83      0.88        92\n",
      "           5       0.82      0.87      0.84        91\n",
      "           6       0.92      0.97      0.94        91\n",
      "           7       0.89      0.92      0.91        89\n",
      "           8       0.88      0.75      0.81        88\n",
      "           9       0.84      0.83      0.83        92\n",
      "\n",
      "    accuracy                           0.87       899\n",
      "   macro avg       0.88      0.87      0.87       899\n",
      "weighted avg       0.88      0.87      0.87       899\n",
      "\n",
      "\n",
      "Confusion matrix:\n",
      "[[83  0  0  0  1  2  0  2  0  0]\n",
      " [ 1 81  0  0  0  1  2  0  1  5]\n",
      " [ 4  0 77  2  0  0  0  0  0  3]\n",
      " [ 0  1  5 78  0  2  0  1  4  0]\n",
      " [ 7  0  0  0 76  3  0  5  0  1]\n",
      " [ 0  0  0  2  0 79  5  0  0  5]\n",
      " [ 0  2  0  0  1  0 88  0  0  0]\n",
      " [ 0  1  1  2  3  0  0 82  0  0]\n",
      " [ 0  6  4  1  0  7  1  2 66  1]\n",
      " [ 2  1  1  6  0  2  0  0  4 76]]\n",
      " \n",
      "\n",
      "Train Score:  0.9989\n",
      " Test Score:  0.8743\n",
      " \n",
      "\n"
     ]
    }
   ],
   "source": [
    "#!/usr/bin/env python3\n",
    "\n",
    "# Random Forest\n",
    "myrf = RandomForestClassifier(n_estimators=10, max_depth=None, min_samples_split=2, random_state=69)\n",
    "myrf.fit(X, Y)\n",
    "myrfpredicted = myrf.predict(Xtest)\n",
    "\n",
    "print(\"Classification report for classifier %s:\\n%s\\n\" % (myrf, metrics.classification_report(Ytest, myrfpredicted)))\n",
    "print(\"Confusion matrix:\\n%s\" % metrics.confusion_matrix(Ytest, myrfpredicted))\n",
    "print(\" \\n\")\n",
    "\n",
    "print(\"Train Score:  %.4f\" % myrf.score(X, Y))\n",
    "print(\" Test Score:  %.4f\" % myrf.score(Xtest, Ytest))\n",
    "print(\" \\n\")"
   ]
  },
  {
   "cell_type": "markdown",
   "metadata": {},
   "source": [
    "\n",
    " # Visualize the Results\n",
    "\n",
    "We show the first 10 images and targets (labels) of the training\n",
    "and test samples.\n"
   ]
  },
  {
   "cell_type": "code",
   "execution_count": 7,
   "metadata": {},
   "outputs": [
    {
     "data": {
      "image/png": "[encoded data removed]",
      "text/plain": [
       "<Figure size 432x288 with 20 Axes>"
      ]
     },
     "metadata": {
      "needs_background": "light"
     },
     "output_type": "display_data"
    }
   ],
   "source": [
    "# For the images, we know which digit they represent:\n",
    "# it is given in the 'target' of the dataset.\n",
    "\n",
    "ntoplot=10\n",
    "images_and_labels = list(zip(digits.images, digits.target))\n",
    "for index, (image, label) in enumerate(images_and_labels[:ntoplot]):\n",
    "  plt.subplot(2, ntoplot, index + 1)\n",
    "  plt.axis('off')\n",
    "  plt.imshow(image, cmap=plt.cm.gray_r, interpolation='nearest')\n",
    "  plt.title('Tr: %i' % label)\n",
    "images_and_predictions = list(zip(digits.images[n_samples // 2:], myrfpredicted))\n",
    "for index, (image, prediction) in enumerate(images_and_predictions[:ntoplot]):\n",
    "  plt.subplot(2, ntoplot, index + 1 + ntoplot)\n",
    "  plt.axis('off')\n",
    "  plt.imshow(image, cmap=plt.cm.gray_r, interpolation='nearest')\n",
    "  plt.title('Pr: %i' % prediction)\n",
    "plt.show()\n"
   ]
  },
  {
   "cell_type": "markdown",
   "metadata": {},
   "source": [
    "\n",
    " # Exercises\n",
    "\n",
    "Data is the bread and butter of machine learning.\n",
    "\n",
    " Try to improve the results by splitting the sample 80/20 for\n",
    "training and testing.\n",
    "\n",
    " Hint: use n_samples*8 // 10\n",
    "\n",
    " For the decision tree method I got a test score ~ 0.786.\n"
   ]
  },
  {
   "cell_type": "code",
   "execution_count": null,
   "metadata": {},
   "outputs": [],
   "source": []
  }
 ],
 "metadata": {
  "kernelspec": {
   "display_name": "Python 3",
   "language": "python",
   "name": "python3"
  },
  "language_info": {
   "codemirror_mode": {
    "name": "ipython",
    "version": 3
   },
   "file_extension": ".py",
   "mimetype": "text/x-python",
   "name": "python",
   "nbconvert_exporter": "python",
   "pygments_lexer": "ipython3",
   "version": "3.7.3"
  }
 },
 "nbformat": 4,
 "nbformat_minor": 2
}
