{
 "cells": [
  {
   "cell_type": "markdown",
   "metadata": {},
   "source": [
    "# Feature Representation"
   ]
  },
  {
   "cell_type": "markdown",
   "metadata": {
    "collapsed": true
   },
   "source": [
    "The format we receive real world data in varies greatly and often needs to be modified before it can be used in machine learning models. The date must often be transformed to create a **representation** of the data which can be used.  \n",
    "\n",
    "Representing features optimally is the most important technical task in most machine learning problems. It is where practitioners of machine learning spend most of their time and it often has _the largest impact on performance_ of anything you can do.\n",
    "\n",
    "\n",
    "Data comes in many types:\n",
    " \n",
    "* real valued numbers : petal length\n",
    "* Categorical data: species name\n",
    "* constrained data: like ratios or compositional data \n",
    "\n",
    "\n",
    "## Real-world data is messy and not formatted in ways that can be learned.\n",
    "\n",
    " For example lets think about a gene that is involved is (label=1) or is not (label=0) a plant trait (1) or is not (0) :\n",
    " \n",
    " ```\n",
    " 0:{functional_category: \"KO680\",\n",
    "    gc_content: 0.56,\n",
    "    length: 1901,\n",
    "    identified_promoter: True,\n",
    "    intron_length: 300\n",
    "    }\n",
    " ```\n"
   ]
  },
  {
   "cell_type": "code",
   "execution_count": null,
   "metadata": {
    "collapsed": true
   },
   "outputs": [],
   "source": []
  }
 ],
 "metadata": {
  "kernelspec": {
   "display_name": "Python 3",
   "language": "python",
   "name": "python3"
  },
  "language_info": {
   "codemirror_mode": {
    "name": "ipython",
    "version": 3
   },
   "file_extension": ".py",
   "mimetype": "text/x-python",
   "name": "python",
   "nbconvert_exporter": "python",
   "pygments_lexer": "ipython3",
   "version": "3.6.3"
  }
 },
 "nbformat": 4,
 "nbformat_minor": 2
}
