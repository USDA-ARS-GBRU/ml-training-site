{
 "cells": [
  {
   "cell_type": "markdown",
   "metadata": {},
   "source": [
    "# Feature Representation"
   ]
  },
  {
   "cell_type": "markdown",
   "metadata": {
    "collapsed": true
   },
   "source": [
    "The format we receive real world data in varies greatly and often needs to be modified before it can be used in machine learning models. The date must often be transformed to create a **representation** of the data which can be used.  \n",
    "\n",
    "Representing features optimally is the most important technical task in most machine learning problems. It is where practitioners of machine learning spend most of their time and it often has _the largest impact on performance_ of anything you can do.\n",
    "\n",
    "\n",
    "Data comes in many types:\n",
    " \n",
    "* real valued numbers : petal length\n",
    "* Categorical data: species name\n",
    "* constrained data: like ratios or compositional data \n",
    "\n",
    "\n",
    "## Real-world data is messy\n",
    "\n",
    " For example lets think about a classifier that identified genes involved in resisting a plant disease\n",
    " \n",
    " If the gene is involved it has a label=1. If it is not involved its label label=0.\n",
    " \n",
    " It has the following traits:\n",
    " \n",
    "feature | type  | example\n",
    "-------|--------|-------\n",
    "functional category | String | \"K00680\"\n",
    "gc_content | int between 1,0 | 0.56\n",
    "length| positive int | 1901\n",
    "identified promoter | Boolean | true\n",
    "intron length | positive int | 300\n",
    " \n",
    " ```\n",
    " 0:{functional_category: \"K00680\",\n",
    "    gc_content: 0.56,\n",
    "    length: 1901,\n",
    "    identified_promoter: True,\n",
    "    intron_length: 300\n",
    "    }\n",
    " ```\n",
    " \n",
    " ### Encoding Strings with one hot encoding\n",
    "\n",
    "In the first example the functional category essentially a level in a factor variable.  A common way to encode this in machine learning is the **_one hot encoding_**.\n",
    "\n",
    "Each unique string in a dataset is given a position in a feature vector and assigned a 1 if it is present.\n",
    "\n",
    "possible functional categories\n",
    "```\n",
    "categories = [\"K00001\", \"k00456\", \"K00680\", ...]\n",
    "example    = [    0  ,    0   ,    1   , ...]\n",
    "```\n",
    "\n",
    "The vector for this example would be:\n",
    "\n",
    " ```\n",
    " 0:{functional_category: [0,0,1],\n",
    "    gc_content: 0.56,\n",
    "    length: 1901,\n",
    "    identified_promoter: True,\n",
    "    intron_length: 300\n",
    "    }\n",
    "```\n",
    "\n",
    "A one hot vector can get really long, but don't worry, we can encode that long vector as a sparse vector that doesn't take up too much memory.\n",
    "\n"
   ]
  },
  {
   "cell_type": "code",
   "execution_count": 97,
   "metadata": {},
   "outputs": [
    {
     "data": {
      "text/plain": [
       "array([[0., 0., 1., 0., 1.],\n",
       "       [1., 0., 0., 0., 1.],\n",
       "       [0., 1., 0., 1., 0.]])"
      ]
     },
     "execution_count": 97,
     "metadata": {},
     "output_type": "execute_result"
    }
   ],
   "source": [
    "from sklearn import preprocessing\n",
    "\n",
    "\n",
    "# create dataset with two categorical vaiables: Genus and health\"\n",
    "\n",
    "X = [['Zea', 'healthy'], ['Arabidopsis', 'healthy'], ['Glycine', 'diseased']]\n",
    "\n",
    "# Create an encoder for the data\n",
    "enc = preprocessing.OneHotEncoder()\n",
    "# Fit the encoder to the data (this tells it to make 3 categories for Genue and two for health)\n",
    "enc.fit(X)  \n",
    "\n",
    "# now thrasnform the same data into a sparse vector with one hot encoding \n",
    "sparse_vect = enc.transform([['Zea', 'healthy'], ['Arabidopsis', 'healthy'], ['Glycine', 'diseased']])\n",
    "\n",
    "# verify what that sparse vector look like\n",
    "sparse_vect.toarray()"
   ]
  },
  {
   "cell_type": "markdown",
   "metadata": {},
   "source": [
    "### Numeric values\n",
    "\n",
    "* Numeric values both integer and real care already in a form that can be user as features in a ML model.\n",
    "\n",
    "* Be careful though, sometimes a number is really just a label. Suppose we had trimmed the \"K\" prefix off our functional category features.  Now our feature would be `00680`, an integer which corresponds to a N'acyltransferase enzyme in the KEGG gene ontology.  That has nothing to do with `00681` which is a  glutathione hydrolase enzyme.  In this case we need to use one hot encoding.\n",
    "\n",
    "** Does it mater that these numeric values are in different number spaces (real, integer, constrained? **\n",
    "\n",
    "Yes, it does.  Often data needs to be standardized or binned to make it easer to learn.\n",
    "\n",
    "### Putting it together encoding this example:\n",
    "\n",
    "```{python}\n",
    "\n",
    "0: [0.0, 0.0 ,1.0 , 0.56, 1901, 1, 300 ]\n",
    "```"
   ]
  },
  {
   "cell_type": "markdown",
   "metadata": {
    "collapsed": true
   },
   "source": [
    "## What makes a good feature?\n",
    "\n",
    "1. It should be non-zero more than a few times. If there are not many examples of it in the training data then it isn't of much value in learning \n",
    "\n",
    "2. Represent the values in a way that makes sense to humans if possible. This make's troubleshooting easier \n",
    "\n",
    "3. Don't use magic values as flags. For example sdon't use -1 to indicate that there were no introns in the sample above"
   ]
  },
  {
   "cell_type": "markdown",
   "metadata": {},
   "source": [
    "# Cleaning up data \n",
    "\n",
    "\n",
    "The old adage \"Garbage in, garbage out\" very much applies to machine learning. Much of the work of the data scientist is data cleaning.\n",
    "\n",
    "Most data cleaning starts with data visualization.  IF the feature space is not too large the distribution of of each variable can show outliers. Reduced representations of data such as PCA can show outliers in high dimension data sets/\n",
    "\n",
    "There are a number of tools for cleaning data including\n",
    "\n",
    "* [Open Refine](http://openrefine.org/) see [this tutorial](https://datacarpentry.org/OpenRefine-ecology-lesson/00-getting-started/)\n",
    "\n",
    "\n",
    "Once outliers have been removed you need to evaluate the need for data transformation and standardization.\n",
    "\n",
    "Some menthods like Random forest classifiers (covered later) do not need data to fit a particular distribution. Other methods like Logistic regression work better it the data is transformed and standardized.\n",
    "\n"
   ]
  },
  {
   "cell_type": "markdown",
   "metadata": {
    "collapsed": true
   },
   "source": [
    "## Transformation\n",
    "\n",
    "Data Transformation map numbers from one space to another space.  this can be as simple as applying a transformation function like taking the log of of values.  Or more complex operations can be used.  Lets explore this with some univariate data of a Local alignment search of reads to contigs from a mosquito metagenome."
   ]
  },
  {
   "cell_type": "code",
   "execution_count": 60,
   "metadata": {},
   "outputs": [],
   "source": [
    "import pandas\n",
    "import numpy as np\n",
    "data = pandas.read_csv(\"../nb-datasets/testreport.txt\", sep=\"\\t\", header=None)"
   ]
  },
  {
   "cell_type": "markdown",
   "metadata": {},
   "source": [
    "Lets plot the e-values."
   ]
  },
  {
   "cell_type": "code",
   "execution_count": 61,
   "metadata": {},
   "outputs": [
    {
     "data": {
      "text/plain": [
       "<matplotlib.axes._subplots.AxesSubplot at 0x116dba278>"
      ]
     },
     "execution_count": 61,
     "metadata": {},
     "output_type": "execute_result"
    },
    {
     "data": {
      "image/png": "[encoded data removed]",
      "text/plain": [
       "<Figure size 432x288 with 1 Axes>"
      ]
     },
     "metadata": {},
     "output_type": "display_data"
    }
   ],
   "source": [
    "import seaborn as sns\n",
    "sns.set_style('darkgrid')\n",
    "evalue = data[10]\n",
    "sns.distplot(evalue)\n"
   ]
  },
  {
   "cell_type": "markdown",
   "metadata": {},
   "source": [
    "As expected , they look pretty clumped up because they are in log space, so lets transform them."
   ]
  },
  {
   "cell_type": "code",
   "execution_count": 62,
   "metadata": {},
   "outputs": [
    {
     "data": {
      "text/plain": [
       "<matplotlib.axes._subplots.AxesSubplot at 0x1172c7198>"
      ]
     },
     "execution_count": 62,
     "metadata": {},
     "output_type": "execute_result"
    },
    {
     "data": {
      "image/png": "[encoded data removed]",
      "text/plain": [
       "<Figure size 432x288 with 1 Axes>"
      ]
     },
     "metadata": {},
     "output_type": "display_data"
    }
   ],
   "source": [
    "\n",
    "neg_log_eval = -np.log(data[10])\n",
    "sns.distplot(neg_log_eval)\n"
   ]
  },
  {
   "cell_type": "markdown",
   "metadata": {},
   "source": [
    "This looks better but the center is around 100 and he data is a bit skewed.  Many learning methods perform better when the data is more symetrical and scaled similarly across features.  So lets try applying a **_standardization_** to our data. \n",
    "\n",
    "Standardization transforms our data into a dataset with a mean of 0 and a standard deviation of 1.\n",
    "\n",
    "Here is more information from from [Scikit learn](https://scikit-learn.org/stable/modules/preprocessing.html):\n",
    "\n",
    "\"Standardization of datasets is a common requirement for many machine learning estimators implemented in scikit-learn; they might behave badly if the individual features do not more or less look like standard normally distributed data: Gaussian with zero mean and unit variance.\n",
    "\n",
    "In practice we often ignore the shape of the distribution and just transform the data to center it by removing the mean value of each feature, then scale it by dividing non-constant features by their standard deviation.\n",
    "\n",
    "For instance, many elements used in the objective function of a learning algorithm (such as the RBF kernel of Support Vector Machines or the l1 and l2 regularizers of linear models) assume that all features are centered around zero and have variance in the same order. If a feature has a variance that is orders of magnitude larger than others, it might dominate the objective function and make the estimator unable to learn from other features correctly as expected.\n",
    "\"\n"
   ]
  },
  {
   "cell_type": "code",
   "execution_count": 63,
   "metadata": {},
   "outputs": [
    {
     "name": "stdout",
     "output_type": "stream",
     "text": [
      "Mean is :4.9737991503207014e-17\n",
      "SD is :1.0\n"
     ]
    },
    {
     "data": {
      "image/png": "[encoded data removed]",
      "text/plain": [
       "<Figure size 432x288 with 1 Axes>"
      ]
     },
     "metadata": {},
     "output_type": "display_data"
    }
   ],
   "source": [
    "from sklearn import preprocessing\n",
    "eval_scaled = preprocessing.scale(neg_log_eval)\n",
    "sns.distplot(eval_scaled)\n",
    "print(\"Mean is :\" + str(eval_scaled.mean()))\n",
    "print(\"SD is :\" + str(eval_scaled.std()))"
   ]
  },
  {
   "cell_type": "markdown",
   "metadata": {},
   "source": [
    "Standardization is usually sufficient even when a population is not normally distributed. But sometimes we want to map data onto a different distribution all together. Quantile transformations and power transformations are available to do this.\n"
   ]
  },
  {
   "cell_type": "code",
   "execution_count": 83,
   "metadata": {},
   "outputs": [
    {
     "data": {
      "text/plain": [
       "<matplotlib.axes._subplots.AxesSubplot at 0x117931b70>"
      ]
     },
     "execution_count": 83,
     "metadata": {},
     "output_type": "execute_result"
    },
    {
     "data": {
      "image/png": "[encoded data removed]",
      "text/plain": [
       "<Figure size 432x288 with 1 Axes>"
      ]
     },
     "metadata": {},
     "output_type": "display_data"
    }
   ],
   "source": [
    "# Create a transformer that uses the Yeo-Johnson transformation\n",
    "pt = pt = preprocessing.PowerTransformer()\n",
    "\n",
    "#y = data[10].as_matrix().reshape(1, len(data[10]))\n",
    "#y\n",
    "data.iloc[:,10:12]\n",
    "eval_bc_trans = pt.fit_transform(data.iloc[:,10:12])\n",
    "sns.distplot(eval_bc_trans[:1])"
   ]
  },
  {
   "cell_type": "code",
   "execution_count": null,
   "metadata": {},
   "outputs": [],
   "source": []
  }
 ],
 "metadata": {
  "kernelspec": {
   "display_name": "Python [conda env:mlenv] *",
   "language": "python",
   "name": "conda-env-mlenv-py"
  },
  "language_info": {
   "codemirror_mode": {
    "name": "ipython",
    "version": 3
   },
   "file_extension": ".py",
   "mimetype": "text/x-python",
   "name": "python",
   "nbconvert_exporter": "python",
   "pygments_lexer": "ipython3",
   "version": "3.7.3"
  }
 },
 "nbformat": 4,
 "nbformat_minor": 2
}
