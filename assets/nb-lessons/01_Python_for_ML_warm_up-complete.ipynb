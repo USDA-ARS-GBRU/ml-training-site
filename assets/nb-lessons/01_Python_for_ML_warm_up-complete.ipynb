{
 "cells": [
  {
   "cell_type": "markdown",
   "metadata": {},
   "source": [
    "# Introduction to Python for machine learning\n",
    "\n",
    "Author: Brian Stucky"
   ]
  },
  {
   "cell_type": "markdown",
   "metadata": {
    "collapsed": true
   },
   "source": [
    "## 1. Introduction\n",
    "\n",
    "We will be using the programming language [Python](https://www.python.org/) for all lessons in this workshop.  Because we don't have enough time to give a complete, from-scratch introduction to programming, we are assuming that even if you've not used Python before, you have some experience with at least one so-called \"scripting\" programming language, such as R or MATLAB.  You really don't need to know very much of Python for this workshop, so in this first lesson, we'll cover the most important bits of Python and also introduce two Python packages that are commonly used for doing machine learning with Python, _NumPy_ and _pandas_.\n",
    "\n",
    "## 2. Introducing Jupyter notebooks\n",
    "\n",
    "There are several ways to run Python programs.  For general scripting and programming tasks, it is common to run Python programs directly from the command line, much as you would any other piece of software.  However, for this workshop, we will be using a programming environment called [*Jupyter notebooks*](https://jupyter.org/) that allows you to run Python programs one line (or several lines) at a time and inspect the results at each step.  This approach to programming is especially well suited for data analysis work and will be familiar to you if you've used R programming environments such as RStudio.\n",
    "\n",
    "Jupyter notebooks are comprised of _cells_ that contain either Python code or text.  To run the code in a cell, click in the cell to make it active, then type `shift+enter`.  The results from running the Python code will be displayed below the cell.  Typing `shift+enter` will also open a new cell below the active cell if there is not already a cell there.\n",
    "\n",
    "Next, we'll try using a Jupyter notebook to learn some basic Python commands.\n",
    "\n",
    "## 3. Python basics\n",
    "\n",
    "First, let's look at how we can write literal values in Python.  Numbers are written just as you'd expect; for example, `12` or `3.141592654`.  Literal text values are called _strings_ and are enclosed in either single or double quotes: `'this is a string'` or `\"this is a string\"`.\n",
    "\n",
    "We can use the `print()` function to write output to the console.  If multiple values are provided to the `print()` function, they must be separated by commas."
   ]
  },
  {
   "cell_type": "code",
   "execution_count": null,
   "metadata": {},
   "outputs": [],
   "source": [
    "print(12)\n",
    "print(3.141592654)\n",
    "print('this is a string')\n",
    "print('This is the value of pi:', 3.141592654)"
   ]
  },
  {
   "cell_type": "markdown",
   "metadata": {},
   "source": [
    "Python provides all of the basic arithmetic operators for working with numerical values."
   ]
  },
  {
   "cell_type": "code",
   "execution_count": null,
   "metadata": {},
   "outputs": [],
   "source": [
    "print(3 + 4)\n",
    "print(3 - 4)\n",
    "print(3 * 4)\n",
    "print(3 / 4)\n",
    "\n",
    "print(3 * 4 + 1)\n",
    "print(3 * (4 + 1))"
   ]
  },
  {
   "cell_type": "markdown",
   "metadata": {},
   "source": [
    "Just as with other programming languages, data values in Python can be assigned to _variables_.  The `=` operator is used to assign a value to a variable (and create the variable if it does not yet exist)."
   ]
  },
  {
   "cell_type": "code",
   "execution_count": null,
   "metadata": {},
   "outputs": [],
   "source": [
    "pi = 3.141592654\n",
    "print('This is the value of pi:', pi)\n",
    "\n",
    "radius = 4\n",
    "area = pi * radius * radius\n",
    "print('The area of the circle is', area)"
   ]
  },
  {
   "cell_type": "markdown",
   "metadata": {},
   "source": [
    "## 4. Conditional statements\n",
    "\n",
    "Like most programming languages, Python provides an `if` statement that can be used to make a decision.  One of the most common patterns is to check the value of some numerical variable using one of the comparison operators: `>` (greater than), `<` (less than), `==` (equal to), or `!=` (not equal to).  Let's look at some examples."
   ]
  },
  {
   "cell_type": "code",
   "execution_count": null,
   "metadata": {},
   "outputs": [],
   "source": [
    "a = 12\n",
    "\n",
    "if a < 20:\n",
    "    print('Less than 20!')\n",
    "\n",
    "if a == 12:\n",
    "    print('Equal to 12!')\n",
    "\n",
    "if a != 20:\n",
    "    print('Not equal to 20!')\n",
    "\n",
    "if a > 20:\n",
    "    print('Greater than 20!')"
   ]
  },
  {
   "cell_type": "markdown",
   "metadata": {},
   "source": [
    "The basic idea is that whenever the test following the keyword `if` evaluates to `True`, the indented lines following the `if` will be run.  As the last example shows, if the test evaluates to `False`, then nothing happens.  If we'd like to also do something when the test is `False`, we can add an `else` clause to the `if` statement."
   ]
  },
  {
   "cell_type": "code",
   "execution_count": null,
   "metadata": {},
   "outputs": [],
   "source": [
    "if a > 20:\n",
    "    print('Greater than 20!')\n",
    "else:\n",
    "    print('Less than or equal to 20!')"
   ]
  },
  {
   "cell_type": "markdown",
   "metadata": {},
   "source": [
    "### Exercise\n",
    "\n",
    "Given a variable `someval` that can have any real number value, write code that ensures `someval` is in the range -10 to 10, inclusive, by truncating values outside of that range.  E.g., if the starting value of `someval` is -23, the ending value of `someval` would be -10."
   ]
  },
  {
   "cell_type": "code",
   "execution_count": null,
   "metadata": {},
   "outputs": [],
   "source": []
  },
  {
   "cell_type": "markdown",
   "metadata": {},
   "source": [
    "## 5. Lists and loops\n",
    "\n",
    "So far, we've seen variables and literals that represent a single value (e.g., `a = 14`).  A Python _list_ allows us to group multiple values together in a single data structure.  Python's lists are roughly analogous to the data structures called \"arrays\" or \"vectors\" in other programming languages.  We can define a list using brackets, `[` and `]`."
   ]
  },
  {
   "cell_type": "code",
   "execution_count": null,
   "metadata": {},
   "outputs": [],
   "source": [
    "fseq = [1, 1, 2, 3, 5, 8, 13, 21, 34]\n",
    "print(fseq)"
   ]
  },
  {
   "cell_type": "markdown",
   "metadata": {},
   "source": [
    "Individual elements of a list are accessed using *subscript notation*, which uses an integer index to refer to the desired list item.  The first element of a list is at index 0, the next is at index 1, and so on."
   ]
  },
  {
   "cell_type": "code",
   "execution_count": null,
   "metadata": {},
   "outputs": [],
   "source": [
    "print(fseq[0])\n",
    "print(fseq[1])\n",
    "print(fseq[6] + fseq[7])\n",
    "print(fseq[7] + fseq[8])"
   ]
  },
  {
   "cell_type": "markdown",
   "metadata": {},
   "source": [
    "Python's `for` loop provides a convenient way to sequentially access every item in a list."
   ]
  },
  {
   "cell_type": "code",
   "execution_count": null,
   "metadata": {},
   "outputs": [],
   "source": [
    "for item in fseq:\n",
    "    print(item)"
   ]
  },
  {
   "cell_type": "markdown",
   "metadata": {},
   "source": [
    "The indented part of a `for` loop is called the loop's *body*, and it can contain multiple lines of code."
   ]
  },
  {
   "cell_type": "code",
   "execution_count": null,
   "metadata": {},
   "outputs": [],
   "source": [
    "for item in fseq:\n",
    "    if item > 10:\n",
    "        print('Greater than 10:', item)\n",
    "\n",
    "prev_item = 0\n",
    "for item in fseq:\n",
    "    if prev_item > 0:\n",
    "        print(prev_item, '+', item, '=', prev_item + item)\n",
    "    prev_item = item"
   ]
  },
  {
   "cell_type": "markdown",
   "metadata": {},
   "source": [
    "The `len` function returns the number of items in a list."
   ]
  },
  {
   "cell_type": "code",
   "execution_count": null,
   "metadata": {},
   "outputs": [],
   "source": [
    "print(len(fseq))\n",
    "\n",
    "total = 0\n",
    "for item in fseq:\n",
    "    total = total + item\n",
    "\n",
    "mean = total / len(fseq)\n",
    "print('Arithmetic mean:', mean)"
   ]
  },
  {
   "cell_type": "markdown",
   "metadata": {},
   "source": [
    "### Exercise\n",
    "\n",
    "Given a non-empty list of non-negative numbers, called `num_list`, write code that uses a `for` loop to find the largest item in the list."
   ]
  },
  {
   "cell_type": "code",
   "execution_count": null,
   "metadata": {},
   "outputs": [],
   "source": []
  },
  {
   "cell_type": "markdown",
   "metadata": {},
   "source": [
    "## 6. Working with Python packages, modules, and functions\n",
    "\n",
    "Python code is often organized into units called _packages_ and _modules_.  Although there are technical differences between the two, for the purposes of this workshop, we can think of them as functionally the same (to avoid typing \"module or package\" over and over, I'll sometimes use the term \"library\" to refer to both).  Modules and packages group together related code and make it easy to reuse that code in other programs.  To introduce the basic concepts, we'll work with a standard Python module called `math` that contains a variety of mathematical functions.\n",
    "\n",
    "To use a package or a module, we use the `import` statement to tell Python that we want to load the library.  Once a library is loaded, the dot operator, `.`, lets us access the objects contained in the library.  For example, the `math` module includes a variable that defines the constant _pi_ and also includes implementations of all of the standard trigonometric functions.  Let's take a look at how we can access them."
   ]
  },
  {
   "cell_type": "code",
   "execution_count": null,
   "metadata": {},
   "outputs": [],
   "source": [
    "import math\n",
    "\n",
    "print('This is the value of pi:', math.pi)\n",
    "\n",
    "radius = 4\n",
    "area = math.pi * radius * radius\n",
    "print('The area of the circle is', area)"
   ]
  },
  {
   "cell_type": "markdown",
   "metadata": {},
   "source": [
    "The `math` module also contains a large set of _functions_.  In Python, a function comprises a block of code that accepts one or more *arguments*, does some computations using the argument values, and then returns the result.  For example, the `math` module includes a function called `cos()` that implements the standard trigonometric cosine function."
   ]
  },
  {
   "cell_type": "code",
   "execution_count": null,
   "metadata": {},
   "outputs": [],
   "source": [
    "print(math.cos(0))\n",
    "print(math.cos(math.pi))\n",
    "print(math.cos(math.pi * 2))"
   ]
  },
  {
   "cell_type": "markdown",
   "metadata": {},
   "source": [
    "In the examples above, we call the function `cos()` with the values `0`, `math.pi` and `math.pi * 2` as the argument values.  The result of a function call can be assigned to a variable, just like any other value."
   ]
  },
  {
   "cell_type": "code",
   "execution_count": null,
   "metadata": {},
   "outputs": [],
   "source": [
    "result = math.cos(math.pi * 2)\n",
    "print(result)"
   ]
  },
  {
   "cell_type": "markdown",
   "metadata": {},
   "source": [
    "Functions can take any number of arguments.  Arguments are separated by a comma, `,`.  We've already seen examples of this by calling `print()` with more than one argument.  For another example, the `math` library includes a function called `gcd()` that returns the greatest common divisor of 2 integers."
   ]
  },
  {
   "cell_type": "code",
   "execution_count": null,
   "metadata": {},
   "outputs": [],
   "source": [
    "print(math.gcd(5, 7))\n",
    "print(math.gcd(12, 48))\n",
    "print(math.gcd(143, 253))"
   ]
  },
  {
   "cell_type": "markdown",
   "metadata": {},
   "source": [
    "To use functions in the `math` module, we've needed to type the full name of the module every time we call one of its functions.  For a library with a relatively short name, such as `math`, this isn't much of a burden, but for libraries with long names, it can quickly get tedious to type the full name over and over again.  To help solve this problem, Python allows us to assign a shortcut name for a library as part of the `import` statement."
   ]
  },
  {
   "cell_type": "code",
   "execution_count": null,
   "metadata": {},
   "outputs": [],
   "source": [
    "import math as m\n",
    "\n",
    "print(m.pi)\n",
    "print(m.cos(m.pi * 2))"
   ]
  },
  {
   "cell_type": "markdown",
   "metadata": {},
   "source": [
    "One last comment about importing libraries.  In the examples so far, every time we've used an object in the library, we've needed to type the library name first, followed by a dot (`.`), and then the object name, as in `math.cos()`.  Sometimes, it is convenient to be able to access the object in the library directly without typing the library name every time.  Python provides an alternative `import` syntax that makes this easy:"
   ]
  },
  {
   "cell_type": "code",
   "execution_count": null,
   "metadata": {},
   "outputs": [],
   "source": [
    "from math import cos\n",
    "\n",
    "print(cos(m.pi * 2))"
   ]
  },
  {
   "cell_type": "markdown",
   "metadata": {},
   "source": [
    "### Exercise\n",
    "\n",
    "With the help of the math library, write a short Python program to find the length of the hypotenuse of a right triangle given the lengths of the other two sides, represented by the variables `a` and `b`.  Use the [documentation for the math library](https://docs.python.org/3/library/math.html) as needed."
   ]
  },
  {
   "cell_type": "code",
   "execution_count": null,
   "metadata": {},
   "outputs": [],
   "source": []
  },
  {
   "cell_type": "markdown",
   "metadata": {},
   "source": [
    "## 7. Using NumPy\n",
    "\n",
    "[*NumPy*](https://www.numpy.org/) is a Python package that supports fast numerical computation in Python.  For our purposes, the most important component of NumPy is NumPy's *multidimensional array*, which, in this lesson, I will simply refer to as \"array\".  NumPy arrays can be used in many of the same ways as Python lists, but they also support a large set of mathematical operations that are not provided for lists.  Furthermore, performing numerical calculations on arrays is typically much faster than using lists.\n",
    "\n",
    "There are many ways to create an array.  Here, we will use the `array()` function to create an array directly from a Python list."
   ]
  },
  {
   "cell_type": "code",
   "execution_count": null,
   "metadata": {},
   "outputs": [],
   "source": [
    "import numpy as np\n",
    "\n",
    "f_arr = np.array([1, 1, 2, 3, 5, 8, 13, 21, 34])\n",
    "print(f_arr)\n",
    "\n",
    "print(f_arr[0])\n",
    "print(f_arr[8])\n",
    "\n",
    "print('Array length:', len(f_arr))\n",
    "\n",
    "for item in f_arr:\n",
    "    print(item)"
   ]
  },
  {
   "cell_type": "markdown",
   "metadata": {},
   "source": [
    "The code above illustrates several key points:\n",
    "  1. By convention, the shortcut name `np` is used for `numpy`.\n",
    "  2. Indexing of numpy arrays is exactly as for Python lists, with the first element at index 0.\n",
    "  3. Arrays can generally be used in the same ways you'd use lists.\n",
    "\n",
    "Numpy arrays support all of the basic arithmetic operations, which are performed *element-wise*.  That is, the arithmetic operation is independently applied to each element of the array or pair of corresponding elements."
   ]
  },
  {
   "cell_type": "code",
   "execution_count": null,
   "metadata": {},
   "outputs": [],
   "source": [
    "print(f_arr + 1)\n",
    "print(f_arr / 2)\n",
    "print(f_arr * f_arr)"
   ]
  },
  {
   "cell_type": "markdown",
   "metadata": {},
   "source": [
    "NumPy also provides many common mathematical functions that can be used with arrays.  As with the arithmetic operators, most of NumPy's mathematical functions operate element-wise, but some calculate a single value from the contents of an array."
   ]
  },
  {
   "cell_type": "code",
   "execution_count": null,
   "metadata": {
    "scrolled": true
   },
   "outputs": [],
   "source": [
    "print(np.sqrt(f_arr))\n",
    "\n",
    "print('The range is', np.min(f_arr), ',', np.max(f_arr))\n",
    "print('Arithmetic mean:', np.mean(f_arr))"
   ]
  },
  {
   "cell_type": "markdown",
   "metadata": {},
   "source": [
    "Common statistical summary functions, such as `min()` and `mean()`, can also be accessed as properties of the array objects themselves, which is sometimes more convenient."
   ]
  },
  {
   "cell_type": "code",
   "execution_count": null,
   "metadata": {},
   "outputs": [],
   "source": [
    "print('The range is', f_arr.min(), ',', f_arr.max())\n",
    "print('Arithmetic mean:', f_arr.mean())"
   ]
  },
  {
   "cell_type": "markdown",
   "metadata": {},
   "source": [
    "### Exercise\n",
    "\n",
    "Consider the code below:\n",
    "```\n",
    "arr_1 = np.array([1, 2, 3, 4, 5, 6])\n",
    "arr_2 = arr_1\n",
    "\n",
    "arr_1[2] = 2\n",
    "arr_2[3] = 5\n",
    "```\n",
    "What will be the final value of `arr_1`?  What will be the final value of `arr_2`?  Run the code and check your answers.  Were you surprised by the results?"
   ]
  },
  {
   "cell_type": "code",
   "execution_count": null,
   "metadata": {},
   "outputs": [],
   "source": []
  },
  {
   "cell_type": "markdown",
   "metadata": {},
   "source": [
    "## 8. Using Pandas\n",
    "\n",
    "[*Pandas*](https://pandas.pydata.org/) is another Python package that is commonly used for doing statistics and machine learning in Python.  Pandas provides a structure called `DataFrame` that implements a convenient way to work with tabular data (i.e., data with one or more variables arranged in columns, with each row containing one observation of each variable).  If you've worked with dataframes in R, pandas' `DataFrame` is roughly analogous.\n",
    "\n",
    "To illustrate the basic ideas of pandas' `DataFrame`, we'll work with a famous historical dataset, the [iris flower dataset](https://en.wikipedia.org/wiki/Iris_flower_data_set).\n",
    "\n",
    "The iris data are provided in a plain-text format known as [*comma-separated values*](https://en.wikipedia.org/wiki/Comma-separated_values), or *CSV*.  CSV is a popular format for tabular data because it is both human and machine readable and it is supported by a huge number of software programs.\n",
    "\n",
    "First, we'll load pandas and then use the `read_csv()` function to load the iris data.  Note the conventional use of `pd` as an abbreviation for `pandas`."
   ]
  },
  {
   "cell_type": "code",
   "execution_count": null,
   "metadata": {},
   "outputs": [],
   "source": [
    "import pandas as pd\n",
    "\n",
    "idata = pd.read_csv('../nb-datasets/iris_dataset.csv')"
   ]
  },
  {
   "cell_type": "markdown",
   "metadata": {},
   "source": [
    "To inspect the contents of a DataFrame, we can use the `head()` or `tail()` functions.  `head()` returns the first 5 rows of a DataFrame; `tail()` returns the last 5.\n"
   ]
  },
  {
   "cell_type": "code",
   "execution_count": null,
   "metadata": {},
   "outputs": [],
   "source": [
    "idata.head()"
   ]
  },
  {
   "cell_type": "markdown",
   "metadata": {},
   "source": [
    "In later lessons, we'll spend more time talking about the contents of the iris dataset.  For now, simply note that the DataFrame comprises 5 columns, where each column contains values for a single variable.  Each row contains a complete set of observations of all variables for one individual iris flower.\n",
    "\n",
    "Just as with Python lists and numpy arrays, we can use the `len()` function to find out how many rows (i.e., individual flowers) are in our dataset."
   ]
  },
  {
   "cell_type": "code",
   "execution_count": null,
   "metadata": {},
   "outputs": [],
   "source": [
    "len(idata)"
   ]
  },
  {
   "cell_type": "markdown",
   "metadata": {},
   "source": [
    "DataFrames include a function called `describe()` that gives you a basic statistical overview of a DataFrame."
   ]
  },
  {
   "cell_type": "code",
   "execution_count": null,
   "metadata": {},
   "outputs": [],
   "source": [
    "idata.describe()"
   ]
  },
  {
   "cell_type": "markdown",
   "metadata": {},
   "source": [
    "We can access individual columns of a DataFrame using a special form of subscript notation that uses the column name."
   ]
  },
  {
   "cell_type": "code",
   "execution_count": null,
   "metadata": {},
   "outputs": [],
   "source": [
    "idata['petal_length']"
   ]
  },
  {
   "cell_type": "markdown",
   "metadata": {},
   "source": [
    "Pandas DataFrames are built on top of numpy arrays.  In fact, a column in a Pandas DataFrame is a special kind of numpy array.  Therefore, you can work with data in a pandas DataFrame much as you would work with any other numpy array."
   ]
  },
  {
   "cell_type": "code",
   "execution_count": null,
   "metadata": {},
   "outputs": [],
   "source": [
    "print('First element:', idata['petal_length'][0])\n",
    "\n",
    "p_lens = idata['petal_length']\n",
    "print('First element:', p_lens[0])\n",
    "\n",
    "\n",
    "print('Mean petal length:', p_lens.mean())"
   ]
  },
  {
   "cell_type": "markdown",
   "metadata": {},
   "source": [
    "Basic statistical summary methods are defined for DataFrames, too, and they return the summary statistic for each column."
   ]
  },
  {
   "cell_type": "code",
   "execution_count": null,
   "metadata": {},
   "outputs": [],
   "source": [
    "idata.mean()"
   ]
  },
  {
   "cell_type": "markdown",
   "metadata": {},
   "source": [
    "## 9. Conclusion\n",
    "\n",
    "That's it for our quick introduction to Python, NumPy, and Pandas.  Although we've covered only a tiny fraction of what these tools can do, you should at least be able to begin using them for basic data manipulation tasks.  Upcoming lessons will introduce more features of these tools, as well as give you plenty of opportunity to practice using them."
   ]
  }
 ],
 "metadata": {
  "kernelspec": {
   "display_name": "Python 3",
   "language": "python",
   "name": "python3"
  },
  "language_info": {
   "codemirror_mode": {
    "name": "ipython",
    "version": 3
   },
   "file_extension": ".py",
   "mimetype": "text/x-python",
   "name": "python",
   "nbconvert_exporter": "python",
   "pygments_lexer": "ipython3",
   "version": "3.7.3"
  }
 },
 "nbformat": 4,
 "nbformat_minor": 2
}
