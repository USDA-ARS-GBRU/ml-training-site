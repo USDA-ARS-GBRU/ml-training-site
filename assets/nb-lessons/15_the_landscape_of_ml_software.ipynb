{
 "cells": [
  {
   "cell_type": "markdown",
   "metadata": {},
   "source": [
    "# The landscape of ML Software"
   ]
  },
  {
   "cell_type": "markdown",
   "metadata": {
    "collapsed": true
   },
   "source": [
    "In a field this large it is difficult to summarize the thousands of options that exist. Rather than do that I will attempt so summarize the tools that would be typical for life science users.\n",
    "\n",
    "\n",
    "## Languages\n",
    "\n",
    "Fortunately for many of us in the life sciences Python is the dominant language for many common ML frameworks. Many frameworks offer binding s to python even if they are written in different languages. OTher common languages include Scala, Java and C++. \n",
    "\n",
    "## General purpose frameworks\n",
    "\n",
    "\n",
    "### Scikit-Learn\n",
    "\n",
    "In this course we have used [Scikit-Learn](https://scikit-learn.org/) for our machine learning examples. We selected it for the course becasue it has an easy programming interface, great documentation and a wide range of models to choose from. For many problems it is a great, easy to use tool. The primary limitation comes with large datasets that do not fit into memory. Scikit-Learn mostly uses Numpy arrays. When datasets are larger than the computer's RAM. this can be a problem. It also does not have utilities to scale across multiple nodes. \n",
    "\n",
    "### Tensorflow\n",
    "\n",
    "[Tensorflow](https://tensorflow.org) is the machine learning framework designed by Google for their in house computing. It scales well out of memory and across nodes and on GPU's. It also has a number of pre-built estimators like neural networks. It also supports more models built in Keras (more on Keras latter).  This power comes at the cost of a steeper learning curve.  By default Tensorflow doesn't just run your commands, it builds a compute graph then decides how to run things itself. a new Eager execution mode can run things in real time though.  If support data in multiple formats but encourages you to used serialized binary formats .TFrecord which are fast and compact but a bit tricky to work with. Its based of of [Theano](http://www.deeplearning.net/software/theano/introduction.html).\n",
    "\n",
    "Tensorflow comes with Tensorboard which lets you watch training progress in real time through a web application running on your local machine.\n",
    "\n",
    "\n",
    "###  PyTorch \n",
    "\n",
    "[PyTorch](https://pytorch.org/) is a ML framework from Facebook. It is supposed to be easier to learn than Tensorflow and support many of the same scaling features as Tensorflow.  It has a smaller user base. IT was based of of Torch.\n",
    "\n",
    "### Keras\n",
    "\n",
    "Keras is not a full machine learning library but rather a Deep learning API that makes it easier to program neural networks.  It relies on Tensorflow, Theano or The [Microsoft Cognitive Toolkit (CNTK)](https://docs.microsoft.com/en-us/cognitive-toolkit/) for compute.\n",
    "\n",
    "\n",
    "### Other framewoks\n",
    "\n",
    "* [Weka](https://www.cs.waikato.ac.nz/ml/weka/)\n",
    "* [Torch](http://torch.ch/)\n",
    "* [Caffe](https://caffe.berkeleyvision.org/)\n",
    "* [Deeplearning4j](https://deeplearning4j.org)\n",
    "* [Spark MLlib](https://spark.apache.org/mllib/)\n",
    "\n",
    "### Specialty programs\n",
    "\n",
    "* [Gen: a general-purpose probabilistic programming system with programmable inference](https://probcomp.github.io/Gen/)\n",
    "* [Bayesia Lab](https://www.bayesialab.com/) - For Bayesian network modeling\n",
    "* [ORtools](https://developers.google.com/optimization/) - For optimization / operations research\n",
    "* [NMSLib](https://github.com/nmslib/nmslib) - Many different algorithms for nearest neighbor search and Locality sensitive hashing.\n",
    "* [Ludwig](https://uber.github.io/ludwig/) Deep learning without writing code, from Uber\n",
    "* [DeepVector](https://github.com/deepVector/geospatial-machine-learning)\n",
    "* [Stanford Natural Language processing](https://nlp.stanford.edu/software/)\n",
    "\n"
   ]
  },
  {
   "cell_type": "markdown",
   "metadata": {},
   "source": [
    "## ML as a service\n",
    "\n",
    "All of the previous tools assume that you will be developing and training your own machine learning classifier, and for many application in biology that is correct. Sometimes you may need to do something for which commercial tools are available such as text summarizing images or transcribing speech. Don't wast time replicating something that experts have already done!\n",
    "\n",
    "See offerings from these major cloud providers:\n",
    "\n",
    "* [Google cloud AI](https://cloud.google.com/products/ai/building-blocks/)\n",
    "* [Amazon Web Services ML](https://aws.amazon.com/machine-learning/)\n",
    "* [Microsoft Azure ML](https://azure.microsoft.com/en-us/services/machine-learning-studio/)\n",
    "* [IBM Watson](https://www.ibm.com/watson)\n",
    "* [Turi GraphLab](https://turi.com/learn/)"
   ]
  },
  {
   "cell_type": "markdown",
   "metadata": {},
   "source": [
    "\n"
   ]
  }
 ],
 "metadata": {
  "kernelspec": {
   "display_name": "Python 3",
   "language": "python",
   "name": "python3"
  },
  "language_info": {
   "codemirror_mode": {
    "name": "ipython",
    "version": 3
   },
   "file_extension": ".py",
   "mimetype": "text/x-python",
   "name": "python",
   "nbconvert_exporter": "python",
   "pygments_lexer": "ipython3",
   "version": "3.7.3"
  }
 },
 "nbformat": 4,
 "nbformat_minor": 2
}
