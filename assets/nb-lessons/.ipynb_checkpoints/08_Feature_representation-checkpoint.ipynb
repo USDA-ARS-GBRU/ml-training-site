{
 "cells": [
  {
   "cell_type": "markdown",
   "metadata": {},
   "source": [
    "# Feature Representation"
   ]
  },
  {
   "cell_type": "markdown",
   "metadata": {
    "collapsed": true
   },
   "source": [
    "The format we receive real world data in varies greatly and often needs to be modified before it can be used in machine learning models. The date must often be transformed to create a **representation** of the data which can be used.  \n",
    "\n",
    "Representing features optimally is the most important technical task in most machine learning problems. It is where practioners of machine learning spend most of their time and it often has _the largest impact on performance._"
   ]
  }
 ],
 "metadata": {
  "kernelspec": {
   "display_name": "Python 3",
   "language": "python",
   "name": "python3"
  },
  "language_info": {
   "codemirror_mode": {
    "name": "ipython",
    "version": 3
   },
   "file_extension": ".py",
   "mimetype": "text/x-python",
   "name": "python",
   "nbconvert_exporter": "python",
   "pygments_lexer": "ipython3",
   "version": "3.6.3"
  }
 },
 "nbformat": 4,
 "nbformat_minor": 2
}
