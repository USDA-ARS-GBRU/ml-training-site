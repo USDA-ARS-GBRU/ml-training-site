{
 "cells": [
  {
   "cell_type": "markdown",
   "metadata": {},
   "source": [
    "# Synthesis example 2\n",
    "\n",
    "Author: Adam Rivers"
   ]
  }
}
